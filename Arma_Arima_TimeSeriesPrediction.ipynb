{
  "nbformat": 4,
  "nbformat_minor": 0,
  "metadata": {
    "colab": {
      "name": "Arma_Arima_TimeSeriesPrediction.ipynb",
      "provenance": [],
      "collapsed_sections": [],
      "toc_visible": true
    },
    "kernelspec": {
      "display_name": "Python 3",
      "name": "python3"
    },
    "language_info": {
      "name": "python"
    }
  },
  "cells": [
    {
      "cell_type": "markdown",
      "metadata": {
        "id": "bi_Mstn8WuYn"
      },
      "source": [
        "# Imports"
      ]
    },
    {
      "cell_type": "code",
      "metadata": {
        "colab": {
          "base_uri": "https://localhost:8080/"
        },
        "id": "XKRhhGvZ6SE3",
        "outputId": "4c47fe24-5a81-4103-bd31-ae084dcb5fd2"
      },
      "source": [
        "import pandas as pd\n",
        "import matplotlib as mpl\n",
        "import matplotlib.pyplot as plt\n",
        "import numpy as np\n",
        "import seaborn as sns\n",
        "sns.set(rc={'figure.figsize':(11, 4)})\n",
        "from google.colab import drive\n",
        "import time\n",
        "from datetime import datetime\n",
        "drive.mount('/content/gdrive')"
      ],
      "execution_count": null,
      "outputs": [
        {
          "output_type": "stream",
          "text": [
            "Drive already mounted at /content/gdrive; to attempt to forcibly remount, call drive.mount(\"/content/gdrive\", force_remount=True).\n"
          ],
          "name": "stdout"
        }
      ]
    },
    {
      "cell_type": "markdown",
      "metadata": {
        "id": "oTzJ7iiCWyf-"
      },
      "source": [
        "# Load Dataframe "
      ]
    },
    {
      "cell_type": "code",
      "metadata": {
        "colab": {
          "base_uri": "https://localhost:8080/",
          "height": 225
        },
        "id": "gT8A__NP6bbv",
        "outputId": "4001a4d7-3786-4014-9658-838618ebf93b"
      },
      "source": [
        "df = pd.read_csv('gdrive/MyDrive/Service Request Modeling & Prediction/expanded-lbl2.csv' )\n",
        "#opsd_test.reset_index(inplace=True)\n",
        "df.set_index(\"timestamp\", inplace = True)\n",
        "df.shape\n",
        "df.head(5)"
      ],
      "execution_count": null,
      "outputs": [
        {
          "output_type": "execute_result",
          "data": {
            "text/html": [
              "<div>\n",
              "<style scoped>\n",
              "    .dataframe tbody tr th:only-of-type {\n",
              "        vertical-align: middle;\n",
              "    }\n",
              "\n",
              "    .dataframe tbody tr th {\n",
              "        vertical-align: top;\n",
              "    }\n",
              "\n",
              "    .dataframe thead th {\n",
              "        text-align: right;\n",
              "    }\n",
              "</style>\n",
              "<table border=\"1\" class=\"dataframe\">\n",
              "  <thead>\n",
              "    <tr style=\"text-align: right;\">\n",
              "      <th></th>\n",
              "      <th>day</th>\n",
              "      <th>node_id</th>\n",
              "      <th>incoming_traffic</th>\n",
              "      <th>traffic_generated</th>\n",
              "      <th>total_traffic</th>\n",
              "      <th>duration</th>\n",
              "      <th>number_of_requests</th>\n",
              "    </tr>\n",
              "    <tr>\n",
              "      <th>timestamp</th>\n",
              "      <th></th>\n",
              "      <th></th>\n",
              "      <th></th>\n",
              "      <th></th>\n",
              "      <th></th>\n",
              "      <th></th>\n",
              "      <th></th>\n",
              "    </tr>\n",
              "  </thead>\n",
              "  <tbody>\n",
              "    <tr>\n",
              "      <th>1</th>\n",
              "      <td>0</td>\n",
              "      <td>0</td>\n",
              "      <td>183506</td>\n",
              "      <td>2679</td>\n",
              "      <td>186185</td>\n",
              "      <td>1409</td>\n",
              "      <td>5</td>\n",
              "    </tr>\n",
              "    <tr>\n",
              "      <th>1</th>\n",
              "      <td>0</td>\n",
              "      <td>1</td>\n",
              "      <td>55219</td>\n",
              "      <td>2508</td>\n",
              "      <td>57727</td>\n",
              "      <td>90</td>\n",
              "      <td>7</td>\n",
              "    </tr>\n",
              "    <tr>\n",
              "      <th>1</th>\n",
              "      <td>0</td>\n",
              "      <td>2</td>\n",
              "      <td>15</td>\n",
              "      <td>875</td>\n",
              "      <td>890</td>\n",
              "      <td>700</td>\n",
              "      <td>5</td>\n",
              "    </tr>\n",
              "    <tr>\n",
              "      <th>1</th>\n",
              "      <td>0</td>\n",
              "      <td>3</td>\n",
              "      <td>0</td>\n",
              "      <td>0</td>\n",
              "      <td>0</td>\n",
              "      <td>0</td>\n",
              "      <td>0</td>\n",
              "    </tr>\n",
              "    <tr>\n",
              "      <th>1</th>\n",
              "      <td>0</td>\n",
              "      <td>4</td>\n",
              "      <td>72197</td>\n",
              "      <td>2270</td>\n",
              "      <td>74467</td>\n",
              "      <td>1420</td>\n",
              "      <td>2</td>\n",
              "    </tr>\n",
              "  </tbody>\n",
              "</table>\n",
              "</div>"
            ],
            "text/plain": [
              "           day  node_id  ...  duration  number_of_requests\n",
              "timestamp                ...                              \n",
              "1            0        0  ...      1409                   5\n",
              "1            0        1  ...        90                   7\n",
              "1            0        2  ...       700                   5\n",
              "1            0        3  ...         0                   0\n",
              "1            0        4  ...      1420                   2\n",
              "\n",
              "[5 rows x 7 columns]"
            ]
          },
          "metadata": {
            "tags": []
          },
          "execution_count": 2
        }
      ]
    },
    {
      "cell_type": "markdown",
      "metadata": {
        "id": "WHQXBGRpW5kg"
      },
      "source": [
        "**Group by Timestamp**"
      ]
    },
    {
      "cell_type": "code",
      "metadata": {
        "colab": {
          "base_uri": "https://localhost:8080/",
          "height": 225
        },
        "id": "8ygBEPDV6uVp",
        "outputId": "86c6010d-bf8f-4b73-c3e7-93fa42d08892"
      },
      "source": [
        "#df_total = df.groupby(['timestamp','day'],as_index=False).sum()\n",
        "df_total = df.groupby(['timestamp']).sum()\n",
        "#df_total = df.groupby(['timestamp']).agg({'day':df_total.day,'incoming_traffic': np.sum, 'traffic_generated': np.sum, 'total_traffic': np.sum, 'duration': np.sum, 'number_of_requests': np.sum})\n",
        "df_total.head()"
      ],
      "execution_count": null,
      "outputs": [
        {
          "output_type": "execute_result",
          "data": {
            "text/html": [
              "<div>\n",
              "<style scoped>\n",
              "    .dataframe tbody tr th:only-of-type {\n",
              "        vertical-align: middle;\n",
              "    }\n",
              "\n",
              "    .dataframe tbody tr th {\n",
              "        vertical-align: top;\n",
              "    }\n",
              "\n",
              "    .dataframe thead th {\n",
              "        text-align: right;\n",
              "    }\n",
              "</style>\n",
              "<table border=\"1\" class=\"dataframe\">\n",
              "  <thead>\n",
              "    <tr style=\"text-align: right;\">\n",
              "      <th></th>\n",
              "      <th>day</th>\n",
              "      <th>node_id</th>\n",
              "      <th>incoming_traffic</th>\n",
              "      <th>traffic_generated</th>\n",
              "      <th>total_traffic</th>\n",
              "      <th>duration</th>\n",
              "      <th>number_of_requests</th>\n",
              "    </tr>\n",
              "    <tr>\n",
              "      <th>timestamp</th>\n",
              "      <th></th>\n",
              "      <th></th>\n",
              "      <th></th>\n",
              "      <th></th>\n",
              "      <th></th>\n",
              "      <th></th>\n",
              "      <th></th>\n",
              "    </tr>\n",
              "  </thead>\n",
              "  <tbody>\n",
              "    <tr>\n",
              "      <th>1</th>\n",
              "      <td>0</td>\n",
              "      <td>780</td>\n",
              "      <td>375746</td>\n",
              "      <td>18872</td>\n",
              "      <td>394618</td>\n",
              "      <td>3913</td>\n",
              "      <td>46</td>\n",
              "    </tr>\n",
              "    <tr>\n",
              "      <th>2</th>\n",
              "      <td>0</td>\n",
              "      <td>780</td>\n",
              "      <td>2230310</td>\n",
              "      <td>19154</td>\n",
              "      <td>2249464</td>\n",
              "      <td>4852</td>\n",
              "      <td>45</td>\n",
              "    </tr>\n",
              "    <tr>\n",
              "      <th>3</th>\n",
              "      <td>0</td>\n",
              "      <td>780</td>\n",
              "      <td>1502290</td>\n",
              "      <td>14626</td>\n",
              "      <td>1516916</td>\n",
              "      <td>5468</td>\n",
              "      <td>29</td>\n",
              "    </tr>\n",
              "    <tr>\n",
              "      <th>4</th>\n",
              "      <td>0</td>\n",
              "      <td>780</td>\n",
              "      <td>939169</td>\n",
              "      <td>22288</td>\n",
              "      <td>961457</td>\n",
              "      <td>73493</td>\n",
              "      <td>39</td>\n",
              "    </tr>\n",
              "    <tr>\n",
              "      <th>5</th>\n",
              "      <td>0</td>\n",
              "      <td>780</td>\n",
              "      <td>816971</td>\n",
              "      <td>17307</td>\n",
              "      <td>834278</td>\n",
              "      <td>4602</td>\n",
              "      <td>45</td>\n",
              "    </tr>\n",
              "  </tbody>\n",
              "</table>\n",
              "</div>"
            ],
            "text/plain": [
              "           day  node_id  ...  duration  number_of_requests\n",
              "timestamp                ...                              \n",
              "1            0      780  ...      3913                  46\n",
              "2            0      780  ...      4852                  45\n",
              "3            0      780  ...      5468                  29\n",
              "4            0      780  ...     73493                  39\n",
              "5            0      780  ...      4602                  45\n",
              "\n",
              "[5 rows x 7 columns]"
            ]
          },
          "metadata": {
            "tags": []
          },
          "execution_count": 3
        }
      ]
    },
    {
      "cell_type": "markdown",
      "metadata": {
        "id": "83sdlVr7W_fd"
      },
      "source": [
        "**Drop node IDs and fix day column**"
      ]
    },
    {
      "cell_type": "code",
      "metadata": {
        "colab": {
          "base_uri": "https://localhost:8080/",
          "height": 166
        },
        "id": "HLWCQjeWAbNW",
        "outputId": "6a623af1-b4a5-464e-b6b7-d52ff3c5cdde"
      },
      "source": [
        "df_total.drop('node_id', inplace=True, axis=1)\n",
        "#df_total.drop('day', inplace=True, axis=1)\n",
        "df_total['day'] /= 40\n",
        "df_total = df_total.astype({\"day\": int})\n",
        "df_total.tail(3)"
      ],
      "execution_count": null,
      "outputs": [
        {
          "output_type": "execute_result",
          "data": {
            "text/html": [
              "<div>\n",
              "<style scoped>\n",
              "    .dataframe tbody tr th:only-of-type {\n",
              "        vertical-align: middle;\n",
              "    }\n",
              "\n",
              "    .dataframe tbody tr th {\n",
              "        vertical-align: top;\n",
              "    }\n",
              "\n",
              "    .dataframe thead th {\n",
              "        text-align: right;\n",
              "    }\n",
              "</style>\n",
              "<table border=\"1\" class=\"dataframe\">\n",
              "  <thead>\n",
              "    <tr style=\"text-align: right;\">\n",
              "      <th></th>\n",
              "      <th>day</th>\n",
              "      <th>incoming_traffic</th>\n",
              "      <th>traffic_generated</th>\n",
              "      <th>total_traffic</th>\n",
              "      <th>duration</th>\n",
              "      <th>number_of_requests</th>\n",
              "    </tr>\n",
              "    <tr>\n",
              "      <th>timestamp</th>\n",
              "      <th></th>\n",
              "      <th></th>\n",
              "      <th></th>\n",
              "      <th></th>\n",
              "      <th></th>\n",
              "      <th></th>\n",
              "    </tr>\n",
              "  </thead>\n",
              "  <tbody>\n",
              "    <tr>\n",
              "      <th>8416</th>\n",
              "      <td>29</td>\n",
              "      <td>540076</td>\n",
              "      <td>19044</td>\n",
              "      <td>559120</td>\n",
              "      <td>3405</td>\n",
              "      <td>32</td>\n",
              "    </tr>\n",
              "    <tr>\n",
              "      <th>8417</th>\n",
              "      <td>29</td>\n",
              "      <td>501926</td>\n",
              "      <td>18201</td>\n",
              "      <td>520127</td>\n",
              "      <td>2986</td>\n",
              "      <td>39</td>\n",
              "    </tr>\n",
              "    <tr>\n",
              "      <th>8418</th>\n",
              "      <td>29</td>\n",
              "      <td>1102054</td>\n",
              "      <td>20766</td>\n",
              "      <td>1122820</td>\n",
              "      <td>898</td>\n",
              "      <td>35</td>\n",
              "    </tr>\n",
              "  </tbody>\n",
              "</table>\n",
              "</div>"
            ],
            "text/plain": [
              "           day  incoming_traffic  ...  duration  number_of_requests\n",
              "timestamp                         ...                              \n",
              "8416        29            540076  ...      3405                  32\n",
              "8417        29            501926  ...      2986                  39\n",
              "8418        29           1102054  ...       898                  35\n",
              "\n",
              "[3 rows x 6 columns]"
            ]
          },
          "metadata": {
            "tags": []
          },
          "execution_count": 4
        }
      ]
    },
    {
      "cell_type": "markdown",
      "metadata": {
        "id": "12ECc0fxXIkc"
      },
      "source": [
        "# Adfuller"
      ]
    },
    {
      "cell_type": "code",
      "metadata": {
        "id": "-wj_yuWo7a20"
      },
      "source": [
        "from statsmodels.tsa.stattools import adfuller\n",
        "\n",
        "\n",
        "def adfuller_test(incoming_traffic):\n",
        "    result=adfuller(incoming_traffic)\n",
        "    labels = ['ADF Test Statistic','p-value','#Lags Used','Number of Observations']\n",
        "    for value,label in zip(result,labels):\n",
        "        print(label+' : '+str(value) )\n",
        "        if label == \"p-value\":\n",
        "          if value <= 0.05:\n",
        "            print(\"strong evidence against the null hypothesis(Ho), reject the null hypothesis. Data is stationary\")\n",
        "          else:\n",
        "            print(\"weak evidence against null hypothesis,indicating it is non-stationary \")\n",
        "    "
      ],
      "execution_count": null,
      "outputs": []
    },
    {
      "cell_type": "code",
      "metadata": {
        "colab": {
          "base_uri": "https://localhost:8080/"
        },
        "id": "Z2ZHAn0X7b45",
        "outputId": "de55ec02-432a-4ad5-a0b8-f677ae5f929c"
      },
      "source": [
        "adfuller_test(df_total.incoming_traffic)"
      ],
      "execution_count": null,
      "outputs": [
        {
          "output_type": "stream",
          "text": [
            "ADF Test Statistic : -11.195006531307488\n",
            "p-value : 2.3181790045596776e-20\n",
            "strong evidence against the null hypothesis(Ho), reject the null hypothesis. Data is stationary\n",
            "#Lags Used : 20\n",
            "Number of Observations : 8397\n"
          ],
          "name": "stdout"
        }
      ]
    },
    {
      "cell_type": "code",
      "metadata": {
        "colab": {
          "base_uri": "https://localhost:8080/",
          "height": 517
        },
        "id": "-Xu8pyxl7_tm",
        "outputId": "b029a545-d62b-4d1b-d481-eb9adc4cea3d"
      },
      "source": [
        "\n",
        "df_total['incoming_traffic'].plot(figsize=(20,8),title=\"Incoming Traffic \")"
      ],
      "execution_count": null,
      "outputs": [
        {
          "output_type": "execute_result",
          "data": {
            "text/plain": [
              "<matplotlib.axes._subplots.AxesSubplot at 0x7fba02e90610>"
            ]
          },
          "metadata": {
            "tags": []
          },
          "execution_count": 7
        },
        {
          "output_type": "display_data",
          "data": {
            "image/png": "[encoded data removed]",
            "text/plain": [
              "<Figure size 1440x576 with 1 Axes>"
            ]
          },
          "metadata": {
            "tags": [],
            "needs_background": "light"
          }
        }
      ]
    },
    {
      "cell_type": "markdown",
      "metadata": {
        "id": "cdNpxgpPWle7"
      },
      "source": [
        "# ARIMA evaluator"
      ]
    },
    {
      "cell_type": "markdown",
      "metadata": {
        "id": "GOIhug4lXzTD"
      },
      "source": [
        "**ARIMA evaluator**"
      ]
    },
    {
      "cell_type": "code",
      "metadata": {
        "colab": {
          "base_uri": "https://localhost:8080/"
        },
        "id": "d1kHYx1WbeQj",
        "outputId": "a43b88e0-b176-4e89-f82c-413fb5a3a341"
      },
      "source": [
        "! pip install pmdarima\n",
        "\n",
        "from pmdarima.arima import auto_arima\n",
        "\n"
      ],
      "execution_count": null,
      "outputs": [
        {
          "output_type": "stream",
          "text": [
            "Requirement already satisfied: pmdarima in /usr/local/lib/python3.7/dist-packages (1.8.2)\n",
            "Requirement already satisfied: joblib>=0.11 in /usr/local/lib/python3.7/dist-packages (from pmdarima) (1.0.1)\n",
            "Requirement already satisfied: statsmodels!=0.12.0,>=0.11 in /usr/local/lib/python3.7/dist-packages (from pmdarima) (0.12.2)\n",
            "Requirement already satisfied: urllib3 in /usr/local/lib/python3.7/dist-packages (from pmdarima) (1.24.3)\n",
            "Requirement already satisfied: pandas>=0.19 in /usr/local/lib/python3.7/dist-packages (from pmdarima) (1.1.5)\n",
            "Requirement already satisfied: Cython!=0.29.18,>=0.29 in /usr/local/lib/python3.7/dist-packages (from pmdarima) (0.29.23)\n",
            "Requirement already satisfied: scikit-learn>=0.22 in /usr/local/lib/python3.7/dist-packages (from pmdarima) (0.22.2.post1)\n",
            "Requirement already satisfied: scipy>=1.3.2 in /usr/local/lib/python3.7/dist-packages (from pmdarima) (1.4.1)\n",
            "Requirement already satisfied: numpy~=1.19.0 in /usr/local/lib/python3.7/dist-packages (from pmdarima) (1.19.5)\n",
            "Requirement already satisfied: setuptools!=50.0.0,>=38.6.0 in /usr/local/lib/python3.7/dist-packages (from pmdarima) (56.1.0)\n",
            "Requirement already satisfied: patsy>=0.5 in /usr/local/lib/python3.7/dist-packages (from statsmodels!=0.12.0,>=0.11->pmdarima) (0.5.1)\n",
            "Requirement already satisfied: pytz>=2017.2 in /usr/local/lib/python3.7/dist-packages (from pandas>=0.19->pmdarima) (2018.9)\n",
            "Requirement already satisfied: python-dateutil>=2.7.3 in /usr/local/lib/python3.7/dist-packages (from pandas>=0.19->pmdarima) (2.8.1)\n",
            "Requirement already satisfied: six in /usr/local/lib/python3.7/dist-packages (from patsy>=0.5->statsmodels!=0.12.0,>=0.11->pmdarima) (1.15.0)\n"
          ],
          "name": "stdout"
        }
      ]
    },
    {
      "cell_type": "code",
      "metadata": {
        "id": "JU_MEZflf_tb"
      },
      "source": [
        "model_auto = auto_arima(df_total.total_traffic[1:])"
      ],
      "execution_count": null,
      "outputs": []
    },
    {
      "cell_type": "code",
      "metadata": {
        "id": "Fd9mwuS3ckAE",
        "colab": {
          "base_uri": "https://localhost:8080/"
        },
        "outputId": "b7c8fd71-6687-40a8-f94a-7b42d51d6bf5"
      },
      "source": [
        "model_auto"
      ],
      "execution_count": null,
      "outputs": [
        {
          "output_type": "execute_result",
          "data": {
            "text/plain": [
              "ARIMA(maxiter=50, method='lbfgs', order=(4, 1, 3), out_of_sample_size=0,\n",
              "      scoring='mse', scoring_args={}, seasonal_order=(0, 0, 0, 0),\n",
              "      start_params=None, suppress_warnings=True, trend=None,\n",
              "      with_intercept=False)"
            ]
          },
          "metadata": {
            "tags": []
          },
          "execution_count": 8
        }
      ]
    },
    {
      "cell_type": "markdown",
      "metadata": {
        "id": "Ks2W4C21hxDu"
      },
      "source": [
        "Incoming Traffic model : order=(5, 1, 3)\n",
        "\n",
        "Number of Requests : order=(2, 0, 2)"
      ]
    },
    {
      "cell_type": "code",
      "metadata": {
        "id": "qqK4deApb7e_",
        "colab": {
          "base_uri": "https://localhost:8080/",
          "height": 522
        },
        "outputId": "c48e7c46-210e-4069-b7e2-e63bc42ca4bf"
      },
      "source": [
        "model_auto.summary()"
      ],
      "execution_count": null,
      "outputs": [
        {
          "output_type": "execute_result",
          "data": {
            "text/html": [
              "<table class=\"simpletable\">\n",
              "<caption>SARIMAX Results</caption>\n",
              "<tr>\n",
              "  <th>Dep. Variable:</th>           <td>y</td>        <th>  No. Observations:  </th>    <td>8417</td>    \n",
              "</tr>\n",
              "<tr>\n",
              "  <th>Model:</th>           <td>SARIMAX(4, 1, 3)</td> <th>  Log Likelihood     </th> <td>-138808.273</td>\n",
              "</tr>\n",
              "<tr>\n",
              "  <th>Date:</th>            <td>Sat, 15 May 2021</td> <th>  AIC                </th> <td>277632.547</td> \n",
              "</tr>\n",
              "<tr>\n",
              "  <th>Time:</th>                <td>12:08:17</td>     <th>  BIC                </th> <td>277688.850</td> \n",
              "</tr>\n",
              "<tr>\n",
              "  <th>Sample:</th>                  <td>0</td>        <th>  HQIC               </th> <td>277651.770</td> \n",
              "</tr>\n",
              "<tr>\n",
              "  <th></th>                      <td> - 8417</td>     <th>                     </th>      <td> </td>     \n",
              "</tr>\n",
              "<tr>\n",
              "  <th>Covariance Type:</th>        <td>opg</td>       <th>                     </th>      <td> </td>     \n",
              "</tr>\n",
              "</table>\n",
              "<table class=\"simpletable\">\n",
              "<tr>\n",
              "     <td></td>       <th>coef</th>     <th>std err</th>      <th>z</th>      <th>P>|z|</th>  <th>[0.025</th>    <th>0.975]</th>  \n",
              "</tr>\n",
              "<tr>\n",
              "  <th>ar.L1</th>  <td>   -1.1770</td> <td>    0.025</td> <td>  -47.686</td> <td> 0.000</td> <td>   -1.225</td> <td>   -1.129</td>\n",
              "</tr>\n",
              "<tr>\n",
              "  <th>ar.L2</th>  <td>   -0.8973</td> <td>    0.022</td> <td>  -39.947</td> <td> 0.000</td> <td>   -0.941</td> <td>   -0.853</td>\n",
              "</tr>\n",
              "<tr>\n",
              "  <th>ar.L3</th>  <td>    0.0534</td> <td>    0.007</td> <td>    8.129</td> <td> 0.000</td> <td>    0.041</td> <td>    0.066</td>\n",
              "</tr>\n",
              "<tr>\n",
              "  <th>ar.L4</th>  <td>    0.0355</td> <td>    0.004</td> <td>    8.408</td> <td> 0.000</td> <td>    0.027</td> <td>    0.044</td>\n",
              "</tr>\n",
              "<tr>\n",
              "  <th>ma.L1</th>  <td>    0.2576</td> <td>    0.025</td> <td>   10.389</td> <td> 0.000</td> <td>    0.209</td> <td>    0.306</td>\n",
              "</tr>\n",
              "<tr>\n",
              "  <th>ma.L2</th>  <td>   -0.1838</td> <td>    0.020</td> <td>   -9.209</td> <td> 0.000</td> <td>   -0.223</td> <td>   -0.145</td>\n",
              "</tr>\n",
              "<tr>\n",
              "  <th>ma.L3</th>  <td>   -0.8922</td> <td>    0.021</td> <td>  -41.895</td> <td> 0.000</td> <td>   -0.934</td> <td>   -0.850</td>\n",
              "</tr>\n",
              "<tr>\n",
              "  <th>sigma2</th> <td> 1.309e+13</td> <td> 1.27e-13</td> <td> 1.03e+26</td> <td> 0.000</td> <td> 1.31e+13</td> <td> 1.31e+13</td>\n",
              "</tr>\n",
              "</table>\n",
              "<table class=\"simpletable\">\n",
              "<tr>\n",
              "  <th>Ljung-Box (L1) (Q):</th>     <td>0.00</td> <th>  Jarque-Bera (JB):  </th> <td>1454377256.48</td>\n",
              "</tr>\n",
              "<tr>\n",
              "  <th>Prob(Q):</th>                <td>0.98</td> <th>  Prob(JB):          </th>     <td>0.00</td>     \n",
              "</tr>\n",
              "<tr>\n",
              "  <th>Heteroskedasticity (H):</th> <td>0.42</td> <th>  Skew:              </th>     <td>35.25</td>    \n",
              "</tr>\n",
              "<tr>\n",
              "  <th>Prob(H) (two-sided):</th>    <td>0.00</td> <th>  Kurtosis:          </th>    <td>2038.31</td>   \n",
              "</tr>\n",
              "</table><br/><br/>Warnings:<br/>[1] Covariance matrix calculated using the outer product of gradients (complex-step).<br/>[2] Covariance matrix is singular or near-singular, with condition number 2.29e+39. Standard errors may be unstable."
            ],
            "text/plain": [
              "<class 'statsmodels.iolib.summary.Summary'>\n",
              "\"\"\"\n",
              "                               SARIMAX Results                                \n",
              "==============================================================================\n",
              "Dep. Variable:                      y   No. Observations:                 8417\n",
              "Model:               SARIMAX(4, 1, 3)   Log Likelihood             -138808.273\n",
              "Date:                Sat, 15 May 2021   AIC                         277632.547\n",
              "Time:                        12:08:17   BIC                         277688.850\n",
              "Sample:                             0   HQIC                        277651.770\n",
              "                               - 8417                                         \n",
              "Covariance Type:                  opg                                         \n",
              "==============================================================================\n",
              "                 coef    std err          z      P>|z|      [0.025      0.975]\n",
              "------------------------------------------------------------------------------\n",
              "ar.L1         -1.1770      0.025    -47.686      0.000      -1.225      -1.129\n",
              "ar.L2         -0.8973      0.022    -39.947      0.000      -0.941      -0.853\n",
              "ar.L3          0.0534      0.007      8.129      0.000       0.041       0.066\n",
              "ar.L4          0.0355      0.004      8.408      0.000       0.027       0.044\n",
              "ma.L1          0.2576      0.025     10.389      0.000       0.209       0.306\n",
              "ma.L2         -0.1838      0.020     -9.209      0.000      -0.223      -0.145\n",
              "ma.L3         -0.8922      0.021    -41.895      0.000      -0.934      -0.850\n",
              "sigma2      1.309e+13   1.27e-13   1.03e+26      0.000    1.31e+13    1.31e+13\n",
              "===================================================================================\n",
              "Ljung-Box (L1) (Q):                   0.00   Jarque-Bera (JB):        1454377256.48\n",
              "Prob(Q):                              0.98   Prob(JB):                         0.00\n",
              "Heteroskedasticity (H):               0.42   Skew:                            35.25\n",
              "Prob(H) (two-sided):                  0.00   Kurtosis:                      2038.31\n",
              "===================================================================================\n",
              "\n",
              "Warnings:\n",
              "[1] Covariance matrix calculated using the outer product of gradients (complex-step).\n",
              "[2] Covariance matrix is singular or near-singular, with condition number 2.29e+39. Standard errors may be unstable.\n",
              "\"\"\""
            ]
          },
          "metadata": {
            "tags": []
          },
          "execution_count": 17
        }
      ]
    },
    {
      "cell_type": "code",
      "metadata": {
        "colab": {
          "base_uri": "https://localhost:8080/",
          "height": 225
        },
        "id": "NTPPELePA6Jt",
        "outputId": "d4ad4e84-f3af-4aa4-fb84-c933e6f24287"
      },
      "source": [
        "df_total.tail()"
      ],
      "execution_count": null,
      "outputs": [
        {
          "output_type": "execute_result",
          "data": {
            "text/html": [
              "<div>\n",
              "<style scoped>\n",
              "    .dataframe tbody tr th:only-of-type {\n",
              "        vertical-align: middle;\n",
              "    }\n",
              "\n",
              "    .dataframe tbody tr th {\n",
              "        vertical-align: top;\n",
              "    }\n",
              "\n",
              "    .dataframe thead th {\n",
              "        text-align: right;\n",
              "    }\n",
              "</style>\n",
              "<table border=\"1\" class=\"dataframe\">\n",
              "  <thead>\n",
              "    <tr style=\"text-align: right;\">\n",
              "      <th></th>\n",
              "      <th>day</th>\n",
              "      <th>incoming_traffic</th>\n",
              "      <th>traffic_generated</th>\n",
              "      <th>total_traffic</th>\n",
              "      <th>duration</th>\n",
              "      <th>number_of_requests</th>\n",
              "    </tr>\n",
              "    <tr>\n",
              "      <th>timestamp</th>\n",
              "      <th></th>\n",
              "      <th></th>\n",
              "      <th></th>\n",
              "      <th></th>\n",
              "      <th></th>\n",
              "      <th></th>\n",
              "    </tr>\n",
              "  </thead>\n",
              "  <tbody>\n",
              "    <tr>\n",
              "      <th>8414</th>\n",
              "      <td>29</td>\n",
              "      <td>550882</td>\n",
              "      <td>25717</td>\n",
              "      <td>576599</td>\n",
              "      <td>4106</td>\n",
              "      <td>39</td>\n",
              "    </tr>\n",
              "    <tr>\n",
              "      <th>8415</th>\n",
              "      <td>29</td>\n",
              "      <td>524015</td>\n",
              "      <td>18272</td>\n",
              "      <td>542287</td>\n",
              "      <td>2596</td>\n",
              "      <td>35</td>\n",
              "    </tr>\n",
              "    <tr>\n",
              "      <th>8416</th>\n",
              "      <td>29</td>\n",
              "      <td>540076</td>\n",
              "      <td>19044</td>\n",
              "      <td>559120</td>\n",
              "      <td>3405</td>\n",
              "      <td>32</td>\n",
              "    </tr>\n",
              "    <tr>\n",
              "      <th>8417</th>\n",
              "      <td>29</td>\n",
              "      <td>501926</td>\n",
              "      <td>18201</td>\n",
              "      <td>520127</td>\n",
              "      <td>2986</td>\n",
              "      <td>39</td>\n",
              "    </tr>\n",
              "    <tr>\n",
              "      <th>8418</th>\n",
              "      <td>29</td>\n",
              "      <td>1102054</td>\n",
              "      <td>20766</td>\n",
              "      <td>1122820</td>\n",
              "      <td>898</td>\n",
              "      <td>35</td>\n",
              "    </tr>\n",
              "  </tbody>\n",
              "</table>\n",
              "</div>"
            ],
            "text/plain": [
              "           day  incoming_traffic  ...  duration  number_of_requests\n",
              "timestamp                         ...                              \n",
              "8414        29            550882  ...      4106                  39\n",
              "8415        29            524015  ...      2596                  35\n",
              "8416        29            540076  ...      3405                  32\n",
              "8417        29            501926  ...      2986                  39\n",
              "8418        29           1102054  ...       898                  35\n",
              "\n",
              "[5 rows x 6 columns]"
            ]
          },
          "metadata": {
            "tags": []
          },
          "execution_count": 12
        }
      ]
    },
    {
      "cell_type": "code",
      "metadata": {
        "colab": {
          "base_uri": "https://localhost:8080/",
          "height": 1000
        },
        "id": "fezjMr2QeMaK",
        "outputId": "fb1e12c1-f19e-4d8b-8fd4-bd89943b6d17"
      },
      "source": [
        "from statsmodels.tsa.arima.model import ARIMA\n",
        "from matplotlib import pyplot\n",
        "from pandas import DataFrame\n",
        "\n",
        "# fit model\n",
        "model = ARIMA(df_total.duration, order=(4,1,3))\n",
        "model_fit = model.fit()\n",
        "# summary of fit model\n",
        "print(model_fit.summary())\n",
        "# line plot of residuals\n",
        "residuals = DataFrame(model_fit.resid)\n",
        "residuals.plot()\n",
        "pyplot.show()\n",
        "# density plot of residuals\n",
        "residuals.plot(kind='kde')\n",
        "pyplot.show()\n",
        "# summary stats of residuals\n",
        "print(residuals.describe())"
      ],
      "execution_count": null,
      "outputs": [
        {
          "output_type": "stream",
          "text": [
            "/usr/local/lib/python3.7/dist-packages/statsmodels/tsa/base/tsa_model.py:579: ValueWarning: An unsupported index was provided and will be ignored when e.g. forecasting.\n",
            "  ' ignored when e.g. forecasting.', ValueWarning)\n",
            "/usr/local/lib/python3.7/dist-packages/statsmodels/tsa/base/tsa_model.py:579: ValueWarning: An unsupported index was provided and will be ignored when e.g. forecasting.\n",
            "  ' ignored when e.g. forecasting.', ValueWarning)\n",
            "/usr/local/lib/python3.7/dist-packages/statsmodels/tsa/base/tsa_model.py:579: ValueWarning: An unsupported index was provided and will be ignored when e.g. forecasting.\n",
            "  ' ignored when e.g. forecasting.', ValueWarning)\n"
          ],
          "name": "stderr"
        },
        {
          "output_type": "stream",
          "text": [
            "                               SARIMAX Results                                \n",
            "==============================================================================\n",
            "Dep. Variable:               duration   No. Observations:                 8418\n",
            "Model:                 ARIMA(4, 1, 3)   Log Likelihood             -117997.629\n",
            "Date:                Thu, 20 May 2021   AIC                         236011.257\n",
            "Time:                        10:17:15   BIC                         236067.561\n",
            "Sample:                             0   HQIC                        236030.480\n",
            "                               - 8418                                         \n",
            "Covariance Type:                  opg                                         \n",
            "==============================================================================\n",
            "                 coef    std err          z      P>|z|      [0.025      0.975]\n",
            "------------------------------------------------------------------------------\n",
            "ar.L1         -1.5724      2.789     -0.564      0.573      -7.040       3.895\n",
            "ar.L2         -0.9190      2.416     -0.380      0.704      -5.654       3.816\n",
            "ar.L3         -0.0029      0.358     -0.008      0.994      -0.704       0.699\n",
            "ar.L4         -0.0001      0.069     -0.002      0.998      -0.136       0.136\n",
            "ma.L1          0.5714      2.759      0.207      0.836      -4.835       5.978\n",
            "ma.L2         -0.6527      1.457     -0.448      0.654      -3.508       2.203\n",
            "ma.L3         -0.9146      2.381     -0.384      0.701      -5.580       3.751\n",
            "sigma2      9.632e+10   3.77e-08   2.55e+18      0.000    9.63e+10    9.63e+10\n",
            "===================================================================================\n",
            "Ljung-Box (L1) (Q):                   0.00   Jarque-Bera (JB):       18479146975.21\n",
            "Prob(Q):                              0.99   Prob(JB):                         0.00\n",
            "Heteroskedasticity (H):               0.33   Skew:                            82.31\n",
            "Prob(H) (two-sided):                  0.00   Kurtosis:                      7259.98\n",
            "===================================================================================\n",
            "\n",
            "Warnings:\n",
            "[1] Covariance matrix calculated using the outer product of gradients (complex-step).\n",
            "[2] Covariance matrix is singular or near-singular, with condition number 1.77e+32. Standard errors may be unstable.\n"
          ],
          "name": "stdout"
        },
        {
          "output_type": "display_data",
          "data": {
            "image/png": "[encoded data removed]",
            "text/plain": [
              "<Figure size 432x288 with 1 Axes>"
            ]
          },
          "metadata": {
            "tags": [],
            "needs_background": "light"
          }
        },
        {
          "output_type": "display_data",
          "data": {
            "image/png": "[encoded data removed]",
            "text/plain": [
              "<Figure size 432x288 with 1 Axes>"
            ]
          },
          "metadata": {
            "tags": [],
            "needs_background": "light"
          }
        },
        {
          "output_type": "stream",
          "text": [
            "                  0\n",
            "count  8.418000e+03\n",
            "mean  -1.814892e+02\n",
            "std    2.958123e+05\n",
            "min   -8.805557e+04\n",
            "25%   -1.733135e+04\n",
            "50%   -1.193078e+04\n",
            "75%   -7.160340e+03\n",
            "max    2.615316e+07\n"
          ],
          "name": "stdout"
        }
      ]
    },
    {
      "cell_type": "markdown",
      "metadata": {
        "id": "81O5zpe1UnNy"
      },
      "source": [
        "# Training / Inference Time "
      ]
    },
    {
      "cell_type": "code",
      "metadata": {
        "colab": {
          "base_uri": "https://localhost:8080/"
        },
        "id": "Y5_DGFs4Pxam",
        "outputId": "512d3ca6-25d0-499c-fd09-dca1be64d220"
      },
      "source": [
        "#from statsmodels.tsa.arima_model import ARIMA\n",
        "from statsmodels.tsa.arima.model import ARIMA\n",
        "import time\n",
        "\n",
        "\n",
        "\n",
        "from sklearn.metrics import mean_squared_error\n",
        "from sklearn.metrics import mean_absolute_error\n",
        "from math import sqrt\n",
        "\n",
        "\n",
        "X = df_total.duration.values\n",
        "size = int(len(X) * 0.7)\n",
        "train, test = X[0:size], X[size:len(X)]\n",
        "history = [x for x in train]\n",
        "predictions = list()\n",
        "total_size = len(test)\n",
        "count = 1\n",
        "\n",
        "start_time = time.time()\n",
        "for i in range(10):\n",
        "  model = ARIMA(history, order=(3,1,3))\n",
        "  model_fit = model.fit()  \n",
        "print(\"Training time: \",str((time.time() - start_time)))"
      ],
      "execution_count": null,
      "outputs": [
        {
          "output_type": "stream",
          "text": [
            "Training time:  85.81310939788818\n"
          ],
          "name": "stdout"
        }
      ]
    },
    {
      "cell_type": "code",
      "metadata": {
        "id": "Sie4MHcfUvIw"
      },
      "source": [
        "#from statsmodels.tsa.arima_model import ARIMA\n",
        "from statsmodels.tsa.arima.model import ARIMA\n",
        "import time\n",
        "\n",
        "\n",
        "\n",
        "from sklearn.metrics import mean_squared_error\n",
        "from sklearn.metrics import mean_absolute_error\n",
        "from math import sqrt\n",
        "import warnings\n",
        "warnings.filterwarnings('ignore', 'statsmodels.tsa.arima_model.ARMA',\n",
        "                        FutureWarning)\n",
        "warnings.filterwarnings('ignore', 'statsmodels.tsa.arima_model.ARIMA',\n",
        "                        FutureWarning)\n",
        "\n",
        "\n",
        "warnings.filterwarnings(\"ignore\", category=DeprecationWarning)\n",
        "\n",
        "X = df_total.total_traffic.values\n",
        "size = int(len(X) * 0.7)\n",
        "train, test = X[0:size], X[size:-1500]\n",
        "history = [x for x in train]\n",
        "predictions = list()\n",
        "total_size = len(test)\n",
        "count = 1\n",
        "prediction_time = 0\n",
        "\n",
        "\n",
        "# walk-forward validation\n",
        "start_time = time.time()\n",
        "for t in range(len(test)):\n",
        "  print('current=%d, total=%d' % (count, total_size))\n",
        "  count = count + 1\n",
        "  model = ARIMA(history, order=(4,1,3))\n",
        "  model_fit = model.fit()\n",
        "  start_time = time.time()\n",
        "  output = model_fit.forecast()\n",
        "  extra_time = time.time() - start_time\n",
        "  prediction_time = prediction_time + extra_time\n",
        "  yhat = output[0]\n",
        "  predictions.append(yhat)\n",
        "  obs = test[t]\n",
        "  history.append(obs)\n",
        "# Calculate Inference Time\n",
        "print(\"Inference time: \",str((prediction_time)))"
      ],
      "execution_count": null,
      "outputs": []
    },
    {
      "cell_type": "markdown",
      "metadata": {
        "id": "oTKrJKKiUrUD"
      },
      "source": [
        "# Predictions"
      ]
    },
    {
      "cell_type": "code",
      "metadata": {
        "colab": {
          "base_uri": "https://localhost:8080/",
          "height": 1000
        },
        "id": "qDLGPlOMsMic",
        "outputId": "3e83bd57-1a41-43ef-9f88-6c152b898082"
      },
      "source": [
        "#from statsmodels.tsa.arima_model import ARIMA\n",
        "from statsmodels.tsa.arima.model import ARIMA\n",
        "import time\n",
        "\n",
        "\n",
        "\n",
        "from sklearn.metrics import mean_squared_error\n",
        "from sklearn.metrics import mean_absolute_error\n",
        "from math import sqrt\n",
        "import warnings\n",
        "warnings.filterwarnings('ignore', 'statsmodels.tsa.arima_model.ARMA',\n",
        "                        FutureWarning)\n",
        "warnings.filterwarnings('ignore', 'statsmodels.tsa.arima_model.ARIMA',\n",
        "                        FutureWarning)\n",
        "\n",
        "\n",
        "warnings.filterwarnings(\"ignore\", category=DeprecationWarning)\n",
        "\n",
        "X = df_total.total_traffic.values\n",
        "size = int(len(X) * 0.7)\n",
        "train, test = X[0:size], X[size:int(len(X))]\n",
        "history = [x for x in train]\n",
        "predictions = list()\n",
        "total_size = len(test)\n",
        "count = 1\n",
        "\n",
        "start_time = time.time()\n",
        "model = ARIMA(history, order=(4,0,3))\n",
        "model_fit = model.fit()  \n",
        "print(\"Execution time: \",str((time.time() - start_time)))\n",
        "\n",
        "# walk-forward validation\n",
        "for t in range(len(test)):\n",
        "  print('current=%d, total=%d' % (count, total_size))\n",
        "  count = count + 1\n",
        "  model = ARIMA(history, order=(4,0,3))\n",
        "  model_fit = model.fit()\n",
        "  output = model_fit.forecast()\n",
        "  yhat = output[0]\n",
        "  predictions.append(yhat)\n",
        "  obs = test[t]\n",
        "  history.append(obs)\n",
        "  #print('predicted=%f, expected=%f' % (yhat, obs))\n",
        "# evaluate forecasts\n",
        "mae = mean_absolute_error(test, predictions)\n",
        "print('MAE: %.3f' % mae)\n",
        "rmse = sqrt(mean_squared_error(test, predictions))\n",
        "print('Test RMSE: %.3f' % rmse)\n",
        "# plot forecasts against actual outcomes\n",
        "pyplot.plot(test)\n",
        "pyplot.plot(predictions, color='red')\n",
        "pyplot.show()"
      ],
      "execution_count": null,
      "outputs": [
        {
          "output_type": "stream",
          "text": [
            "current=1, total=841\n"
          ],
          "name": "stdout"
        },
        {
          "output_type": "stream",
          "text": [
            "/usr/local/lib/python3.7/dist-packages/statsmodels/tsa/statespace/sarimax.py:966: UserWarning: Non-stationary starting autoregressive parameters found. Using zeros as starting parameters.\n",
            "  warn('Non-stationary starting autoregressive parameters'\n"
          ],
          "name": "stderr"
        },
        {
          "output_type": "stream",
          "text": [
            "current=2, total=841\n",
            "current=3, total=841\n",
            "current=4, total=841\n",
            "current=5, total=841\n",
            "current=6, total=841\n",
            "current=7, total=841\n",
            "current=8, total=841\n",
            "current=9, total=841\n",
            "current=10, total=841\n",
            "current=11, total=841\n",
            "current=12, total=841\n",
            "current=13, total=841\n",
            "current=14, total=841\n",
            "current=15, total=841\n",
            "current=16, total=841\n",
            "current=17, total=841\n",
            "current=18, total=841\n",
            "current=19, total=841\n",
            "current=20, total=841\n",
            "current=21, total=841\n",
            "current=22, total=841\n",
            "current=23, total=841\n",
            "current=24, total=841\n",
            "current=25, total=841\n",
            "current=26, total=841\n",
            "current=27, total=841\n",
            "current=28, total=841\n",
            "current=29, total=841\n",
            "current=30, total=841\n",
            "current=31, total=841\n",
            "current=32, total=841\n",
            "current=33, total=841\n",
            "current=34, total=841\n",
            "current=35, total=841\n",
            "current=36, total=841\n",
            "current=37, total=841\n",
            "current=38, total=841\n",
            "current=39, total=841\n",
            "current=40, total=841\n",
            "current=41, total=841\n",
            "current=42, total=841\n",
            "current=43, total=841\n",
            "current=44, total=841\n",
            "current=45, total=841\n",
            "current=46, total=841\n",
            "current=47, total=841\n",
            "current=48, total=841\n",
            "current=49, total=841\n",
            "current=50, total=841\n",
            "current=51, total=841\n",
            "current=52, total=841\n",
            "current=53, total=841\n",
            "current=54, total=841\n",
            "current=55, total=841\n",
            "current=56, total=841\n",
            "current=57, total=841\n",
            "current=58, total=841\n",
            "current=59, total=841\n",
            "current=60, total=841\n",
            "current=61, total=841\n",
            "current=62, total=841\n",
            "current=63, total=841\n",
            "current=64, total=841\n",
            "current=65, total=841\n",
            "current=66, total=841\n",
            "current=67, total=841\n",
            "current=68, total=841\n",
            "current=69, total=841\n",
            "current=70, total=841\n",
            "current=71, total=841\n",
            "current=72, total=841\n",
            "current=73, total=841\n",
            "current=74, total=841\n",
            "current=75, total=841\n",
            "current=76, total=841\n",
            "current=77, total=841\n",
            "current=78, total=841\n",
            "current=79, total=841\n",
            "current=80, total=841\n",
            "current=81, total=841\n",
            "current=82, total=841\n",
            "current=83, total=841\n",
            "current=84, total=841\n",
            "current=85, total=841\n",
            "current=86, total=841\n",
            "current=87, total=841\n",
            "current=88, total=841\n",
            "current=89, total=841\n",
            "current=90, total=841\n",
            "current=91, total=841\n",
            "current=92, total=841\n",
            "current=93, total=841\n",
            "current=94, total=841\n",
            "current=95, total=841\n",
            "current=96, total=841\n",
            "current=97, total=841\n",
            "current=98, total=841\n",
            "current=99, total=841\n",
            "current=100, total=841\n",
            "current=101, total=841\n",
            "current=102, total=841\n",
            "current=103, total=841\n",
            "current=104, total=841\n",
            "current=105, total=841\n",
            "current=106, total=841\n",
            "current=107, total=841\n",
            "current=108, total=841\n",
            "current=109, total=841\n",
            "current=110, total=841\n",
            "current=111, total=841\n",
            "current=112, total=841\n",
            "current=113, total=841\n",
            "current=114, total=841\n",
            "current=115, total=841\n",
            "current=116, total=841\n",
            "current=117, total=841\n",
            "current=118, total=841\n",
            "current=119, total=841\n",
            "current=120, total=841\n",
            "current=121, total=841\n",
            "current=122, total=841\n",
            "current=123, total=841\n",
            "current=124, total=841\n",
            "current=125, total=841\n",
            "current=126, total=841\n",
            "current=127, total=841\n",
            "current=128, total=841\n",
            "current=129, total=841\n",
            "current=130, total=841\n",
            "current=131, total=841\n",
            "current=132, total=841\n",
            "current=133, total=841\n",
            "current=134, total=841\n",
            "current=135, total=841\n",
            "current=136, total=841\n",
            "current=137, total=841\n",
            "current=138, total=841\n",
            "current=139, total=841\n",
            "current=140, total=841\n",
            "current=141, total=841\n",
            "current=142, total=841\n",
            "current=143, total=841\n",
            "current=144, total=841\n",
            "current=145, total=841\n",
            "current=146, total=841\n",
            "current=147, total=841\n",
            "current=148, total=841\n",
            "current=149, total=841\n",
            "current=150, total=841\n",
            "current=151, total=841\n",
            "current=152, total=841\n",
            "current=153, total=841\n",
            "current=154, total=841\n",
            "current=155, total=841\n",
            "current=156, total=841\n",
            "current=157, total=841\n",
            "current=158, total=841\n",
            "current=159, total=841\n",
            "current=160, total=841\n",
            "current=161, total=841\n",
            "current=162, total=841\n",
            "current=163, total=841\n",
            "current=164, total=841\n",
            "current=165, total=841\n",
            "current=166, total=841\n",
            "current=167, total=841\n",
            "current=168, total=841\n",
            "current=169, total=841\n",
            "current=170, total=841\n",
            "current=171, total=841\n",
            "current=172, total=841\n",
            "current=173, total=841\n",
            "current=174, total=841\n",
            "current=175, total=841\n",
            "current=176, total=841\n",
            "current=177, total=841\n",
            "current=178, total=841\n",
            "current=179, total=841\n",
            "current=180, total=841\n",
            "current=181, total=841\n",
            "current=182, total=841\n",
            "current=183, total=841\n",
            "current=184, total=841\n",
            "current=185, total=841\n",
            "current=186, total=841\n",
            "current=187, total=841\n",
            "current=188, total=841\n",
            "current=189, total=841\n",
            "current=190, total=841\n",
            "current=191, total=841\n",
            "current=192, total=841\n",
            "current=193, total=841\n",
            "current=194, total=841\n",
            "current=195, total=841\n",
            "current=196, total=841\n",
            "current=197, total=841\n",
            "current=198, total=841\n",
            "current=199, total=841\n",
            "current=200, total=841\n",
            "current=201, total=841\n",
            "current=202, total=841\n",
            "current=203, total=841\n",
            "current=204, total=841\n",
            "current=205, total=841\n",
            "current=206, total=841\n",
            "current=207, total=841\n",
            "current=208, total=841\n",
            "current=209, total=841\n",
            "current=210, total=841\n",
            "current=211, total=841\n",
            "current=212, total=841\n",
            "current=213, total=841\n",
            "current=214, total=841\n",
            "current=215, total=841\n",
            "current=216, total=841\n",
            "current=217, total=841\n",
            "current=218, total=841\n",
            "current=219, total=841\n",
            "current=220, total=841\n",
            "current=221, total=841\n",
            "current=222, total=841\n",
            "current=223, total=841\n",
            "current=224, total=841\n",
            "current=225, total=841\n",
            "current=226, total=841\n",
            "current=227, total=841\n",
            "current=228, total=841\n",
            "current=229, total=841\n",
            "current=230, total=841\n",
            "current=231, total=841\n",
            "current=232, total=841\n",
            "current=233, total=841\n",
            "current=234, total=841\n",
            "current=235, total=841\n",
            "current=236, total=841\n",
            "current=237, total=841\n",
            "current=238, total=841\n",
            "current=239, total=841\n",
            "current=240, total=841\n",
            "current=241, total=841\n",
            "current=242, total=841\n",
            "current=243, total=841\n",
            "current=244, total=841\n",
            "current=245, total=841\n",
            "current=246, total=841\n",
            "current=247, total=841\n",
            "current=248, total=841\n",
            "current=249, total=841\n",
            "current=250, total=841\n",
            "current=251, total=841\n",
            "current=252, total=841\n",
            "current=253, total=841\n",
            "current=254, total=841\n",
            "current=255, total=841\n",
            "current=256, total=841\n",
            "current=257, total=841\n",
            "current=258, total=841\n",
            "current=259, total=841\n",
            "current=260, total=841\n",
            "current=261, total=841\n",
            "current=262, total=841\n",
            "current=263, total=841\n",
            "current=264, total=841\n",
            "current=265, total=841\n",
            "current=266, total=841\n",
            "current=267, total=841\n",
            "current=268, total=841\n",
            "current=269, total=841\n",
            "current=270, total=841\n",
            "current=271, total=841\n",
            "current=272, total=841\n",
            "current=273, total=841\n",
            "current=274, total=841\n",
            "current=275, total=841\n",
            "current=276, total=841\n",
            "current=277, total=841\n",
            "current=278, total=841\n",
            "current=279, total=841\n",
            "current=280, total=841\n",
            "current=281, total=841\n",
            "current=282, total=841\n",
            "current=283, total=841\n",
            "current=284, total=841\n",
            "current=285, total=841\n",
            "current=286, total=841\n",
            "current=287, total=841\n",
            "current=288, total=841\n",
            "current=289, total=841\n",
            "current=290, total=841\n",
            "current=291, total=841\n",
            "current=292, total=841\n",
            "current=293, total=841\n",
            "current=294, total=841\n",
            "current=295, total=841\n",
            "current=296, total=841\n",
            "current=297, total=841\n",
            "current=298, total=841\n",
            "current=299, total=841\n",
            "current=300, total=841\n",
            "current=301, total=841\n",
            "current=302, total=841\n",
            "current=303, total=841\n",
            "current=304, total=841\n",
            "current=305, total=841\n",
            "current=306, total=841\n",
            "current=307, total=841\n",
            "current=308, total=841\n",
            "current=309, total=841\n",
            "current=310, total=841\n",
            "current=311, total=841\n",
            "current=312, total=841\n",
            "current=313, total=841\n",
            "current=314, total=841\n",
            "current=315, total=841\n",
            "current=316, total=841\n",
            "current=317, total=841\n",
            "current=318, total=841\n",
            "current=319, total=841\n",
            "current=320, total=841\n",
            "current=321, total=841\n",
            "current=322, total=841\n",
            "current=323, total=841\n",
            "current=324, total=841\n",
            "current=325, total=841\n",
            "current=326, total=841\n",
            "current=327, total=841\n",
            "current=328, total=841\n",
            "current=329, total=841\n",
            "current=330, total=841\n",
            "current=331, total=841\n",
            "current=332, total=841\n",
            "current=333, total=841\n",
            "current=334, total=841\n",
            "current=335, total=841\n",
            "current=336, total=841\n",
            "current=337, total=841\n",
            "current=338, total=841\n",
            "current=339, total=841\n",
            "current=340, total=841\n",
            "current=341, total=841\n",
            "current=342, total=841\n",
            "current=343, total=841\n",
            "current=344, total=841\n",
            "current=345, total=841\n",
            "current=346, total=841\n",
            "current=347, total=841\n",
            "current=348, total=841\n",
            "current=349, total=841\n",
            "current=350, total=841\n",
            "current=351, total=841\n",
            "current=352, total=841\n",
            "current=353, total=841\n",
            "current=354, total=841\n",
            "current=355, total=841\n",
            "current=356, total=841\n",
            "current=357, total=841\n",
            "current=358, total=841\n",
            "current=359, total=841\n",
            "current=360, total=841\n",
            "current=361, total=841\n",
            "current=362, total=841\n",
            "current=363, total=841\n",
            "current=364, total=841\n",
            "current=365, total=841\n",
            "current=366, total=841\n",
            "current=367, total=841\n",
            "current=368, total=841\n",
            "current=369, total=841\n",
            "current=370, total=841\n",
            "current=371, total=841\n",
            "current=372, total=841\n",
            "current=373, total=841\n",
            "current=374, total=841\n",
            "current=375, total=841\n",
            "current=376, total=841\n",
            "current=377, total=841\n",
            "current=378, total=841\n",
            "current=379, total=841\n",
            "current=380, total=841\n",
            "current=381, total=841\n",
            "current=382, total=841\n",
            "current=383, total=841\n",
            "current=384, total=841\n",
            "current=385, total=841\n",
            "current=386, total=841\n",
            "current=387, total=841\n",
            "current=388, total=841\n",
            "current=389, total=841\n",
            "current=390, total=841\n",
            "current=391, total=841\n",
            "current=392, total=841\n",
            "current=393, total=841\n",
            "current=394, total=841\n",
            "current=395, total=841\n",
            "current=396, total=841\n",
            "current=397, total=841\n",
            "current=398, total=841\n",
            "current=399, total=841\n",
            "current=400, total=841\n",
            "current=401, total=841\n",
            "current=402, total=841\n",
            "current=403, total=841\n",
            "current=404, total=841\n",
            "current=405, total=841\n",
            "current=406, total=841\n",
            "current=407, total=841\n",
            "current=408, total=841\n",
            "current=409, total=841\n",
            "current=410, total=841\n",
            "current=411, total=841\n",
            "current=412, total=841\n",
            "current=413, total=841\n",
            "current=414, total=841\n",
            "current=415, total=841\n",
            "current=416, total=841\n",
            "current=417, total=841\n",
            "current=418, total=841\n",
            "current=419, total=841\n",
            "current=420, total=841\n",
            "current=421, total=841\n",
            "current=422, total=841\n",
            "current=423, total=841\n",
            "current=424, total=841\n",
            "current=425, total=841\n",
            "current=426, total=841\n",
            "current=427, total=841\n",
            "current=428, total=841\n",
            "current=429, total=841\n",
            "current=430, total=841\n",
            "current=431, total=841\n",
            "current=432, total=841\n",
            "current=433, total=841\n",
            "current=434, total=841\n",
            "current=435, total=841\n",
            "current=436, total=841\n",
            "current=437, total=841\n",
            "current=438, total=841\n",
            "current=439, total=841\n",
            "current=440, total=841\n",
            "current=441, total=841\n",
            "current=442, total=841\n",
            "current=443, total=841\n",
            "current=444, total=841\n",
            "current=445, total=841\n",
            "current=446, total=841\n",
            "current=447, total=841\n",
            "current=448, total=841\n",
            "current=449, total=841\n",
            "current=450, total=841\n",
            "current=451, total=841\n",
            "current=452, total=841\n",
            "current=453, total=841\n",
            "current=454, total=841\n",
            "current=455, total=841\n",
            "current=456, total=841\n",
            "current=457, total=841\n",
            "current=458, total=841\n",
            "current=459, total=841\n",
            "current=460, total=841\n",
            "current=461, total=841\n",
            "current=462, total=841\n",
            "current=463, total=841\n",
            "current=464, total=841\n",
            "current=465, total=841\n",
            "current=466, total=841\n",
            "current=467, total=841\n",
            "current=468, total=841\n",
            "current=469, total=841\n",
            "current=470, total=841\n",
            "current=471, total=841\n",
            "current=472, total=841\n",
            "current=473, total=841\n",
            "current=474, total=841\n",
            "current=475, total=841\n",
            "current=476, total=841\n",
            "current=477, total=841\n",
            "current=478, total=841\n",
            "current=479, total=841\n",
            "current=480, total=841\n",
            "current=481, total=841\n",
            "current=482, total=841\n",
            "current=483, total=841\n",
            "current=484, total=841\n",
            "current=485, total=841\n",
            "current=486, total=841\n",
            "current=487, total=841\n",
            "current=488, total=841\n",
            "current=489, total=841\n",
            "current=490, total=841\n",
            "current=491, total=841\n",
            "current=492, total=841\n",
            "current=493, total=841\n",
            "current=494, total=841\n",
            "current=495, total=841\n",
            "current=496, total=841\n",
            "current=497, total=841\n",
            "current=498, total=841\n",
            "current=499, total=841\n",
            "current=500, total=841\n",
            "current=501, total=841\n",
            "current=502, total=841\n",
            "current=503, total=841\n",
            "current=504, total=841\n",
            "current=505, total=841\n",
            "current=506, total=841\n",
            "current=507, total=841\n",
            "current=508, total=841\n",
            "current=509, total=841\n",
            "current=510, total=841\n",
            "current=511, total=841\n",
            "current=512, total=841\n",
            "current=513, total=841\n",
            "current=514, total=841\n",
            "current=515, total=841\n",
            "current=516, total=841\n",
            "current=517, total=841\n",
            "current=518, total=841\n",
            "current=519, total=841\n",
            "current=520, total=841\n",
            "current=521, total=841\n",
            "current=522, total=841\n",
            "current=523, total=841\n",
            "current=524, total=841\n",
            "current=525, total=841\n",
            "current=526, total=841\n",
            "current=527, total=841\n",
            "current=528, total=841\n",
            "current=529, total=841\n",
            "current=530, total=841\n",
            "current=531, total=841\n",
            "current=532, total=841\n",
            "current=533, total=841\n",
            "current=534, total=841\n",
            "current=535, total=841\n",
            "current=536, total=841\n",
            "current=537, total=841\n",
            "current=538, total=841\n",
            "current=539, total=841\n",
            "current=540, total=841\n",
            "current=541, total=841\n",
            "current=542, total=841\n",
            "current=543, total=841\n",
            "current=544, total=841\n",
            "current=545, total=841\n",
            "current=546, total=841\n",
            "current=547, total=841\n",
            "current=548, total=841\n",
            "current=549, total=841\n",
            "current=550, total=841\n",
            "current=551, total=841\n",
            "current=552, total=841\n",
            "current=553, total=841\n",
            "current=554, total=841\n",
            "current=555, total=841\n",
            "current=556, total=841\n",
            "current=557, total=841\n",
            "current=558, total=841\n",
            "current=559, total=841\n",
            "current=560, total=841\n",
            "current=561, total=841\n",
            "current=562, total=841\n",
            "current=563, total=841\n",
            "current=564, total=841\n",
            "current=565, total=841\n",
            "current=566, total=841\n",
            "current=567, total=841\n",
            "current=568, total=841\n",
            "current=569, total=841\n",
            "current=570, total=841\n",
            "current=571, total=841\n",
            "current=572, total=841\n",
            "current=573, total=841\n",
            "current=574, total=841\n",
            "current=575, total=841\n",
            "current=576, total=841\n",
            "current=577, total=841\n",
            "current=578, total=841\n",
            "current=579, total=841\n",
            "current=580, total=841\n",
            "current=581, total=841\n",
            "current=582, total=841\n",
            "current=583, total=841\n",
            "current=584, total=841\n",
            "current=585, total=841\n",
            "current=586, total=841\n",
            "current=587, total=841\n",
            "current=588, total=841\n",
            "current=589, total=841\n",
            "current=590, total=841\n",
            "current=591, total=841\n",
            "current=592, total=841\n",
            "current=593, total=841\n",
            "current=594, total=841\n",
            "current=595, total=841\n",
            "current=596, total=841\n",
            "current=597, total=841\n",
            "current=598, total=841\n",
            "current=599, total=841\n",
            "current=600, total=841\n",
            "current=601, total=841\n",
            "current=602, total=841\n",
            "current=603, total=841\n",
            "current=604, total=841\n",
            "current=605, total=841\n",
            "current=606, total=841\n",
            "current=607, total=841\n",
            "current=608, total=841\n",
            "current=609, total=841\n",
            "current=610, total=841\n",
            "current=611, total=841\n",
            "current=612, total=841\n",
            "current=613, total=841\n",
            "current=614, total=841\n",
            "current=615, total=841\n",
            "current=616, total=841\n",
            "current=617, total=841\n",
            "current=618, total=841\n",
            "current=619, total=841\n",
            "current=620, total=841\n",
            "current=621, total=841\n",
            "current=622, total=841\n",
            "current=623, total=841\n",
            "current=624, total=841\n",
            "current=625, total=841\n",
            "current=626, total=841\n",
            "current=627, total=841\n",
            "current=628, total=841\n",
            "current=629, total=841\n",
            "current=630, total=841\n",
            "current=631, total=841\n",
            "current=632, total=841\n",
            "current=633, total=841\n",
            "current=634, total=841\n",
            "current=635, total=841\n",
            "current=636, total=841\n",
            "current=637, total=841\n",
            "current=638, total=841\n",
            "current=639, total=841\n",
            "current=640, total=841\n",
            "current=641, total=841\n",
            "current=642, total=841\n",
            "current=643, total=841\n",
            "current=644, total=841\n",
            "current=645, total=841\n",
            "current=646, total=841\n",
            "current=647, total=841\n",
            "current=648, total=841\n",
            "current=649, total=841\n",
            "current=650, total=841\n",
            "current=651, total=841\n",
            "current=652, total=841\n",
            "current=653, total=841\n",
            "current=654, total=841\n",
            "current=655, total=841\n",
            "current=656, total=841\n",
            "current=657, total=841\n",
            "current=658, total=841\n",
            "current=659, total=841\n",
            "current=660, total=841\n",
            "current=661, total=841\n",
            "current=662, total=841\n",
            "current=663, total=841\n",
            "current=664, total=841\n",
            "current=665, total=841\n",
            "current=666, total=841\n",
            "current=667, total=841\n",
            "current=668, total=841\n",
            "current=669, total=841\n",
            "current=670, total=841\n",
            "current=671, total=841\n",
            "current=672, total=841\n",
            "current=673, total=841\n",
            "current=674, total=841\n",
            "current=675, total=841\n",
            "current=676, total=841\n",
            "current=677, total=841\n",
            "current=678, total=841\n",
            "current=679, total=841\n",
            "current=680, total=841\n",
            "current=681, total=841\n",
            "current=682, total=841\n",
            "current=683, total=841\n",
            "current=684, total=841\n",
            "current=685, total=841\n",
            "current=686, total=841\n",
            "current=687, total=841\n",
            "current=688, total=841\n",
            "current=689, total=841\n",
            "current=690, total=841\n",
            "current=691, total=841\n",
            "current=692, total=841\n",
            "current=693, total=841\n",
            "current=694, total=841\n",
            "current=695, total=841\n",
            "current=696, total=841\n",
            "current=697, total=841\n",
            "current=698, total=841\n",
            "current=699, total=841\n",
            "current=700, total=841\n",
            "current=701, total=841\n",
            "current=702, total=841\n",
            "current=703, total=841\n",
            "current=704, total=841\n",
            "current=705, total=841\n",
            "current=706, total=841\n",
            "current=707, total=841\n",
            "current=708, total=841\n",
            "current=709, total=841\n",
            "current=710, total=841\n",
            "current=711, total=841\n",
            "current=712, total=841\n",
            "current=713, total=841\n",
            "current=714, total=841\n",
            "current=715, total=841\n",
            "current=716, total=841\n",
            "current=717, total=841\n",
            "current=718, total=841\n",
            "current=719, total=841\n",
            "current=720, total=841\n",
            "current=721, total=841\n",
            "current=722, total=841\n",
            "current=723, total=841\n",
            "current=724, total=841\n",
            "current=725, total=841\n",
            "current=726, total=841\n",
            "current=727, total=841\n",
            "current=728, total=841\n",
            "current=729, total=841\n",
            "current=730, total=841\n",
            "current=731, total=841\n",
            "current=732, total=841\n",
            "current=733, total=841\n",
            "current=734, total=841\n",
            "current=735, total=841\n",
            "current=736, total=841\n",
            "current=737, total=841\n",
            "current=738, total=841\n",
            "current=739, total=841\n",
            "current=740, total=841\n",
            "current=741, total=841\n",
            "current=742, total=841\n",
            "current=743, total=841\n",
            "current=744, total=841\n",
            "current=745, total=841\n",
            "current=746, total=841\n",
            "current=747, total=841\n",
            "current=748, total=841\n",
            "current=749, total=841\n",
            "current=750, total=841\n",
            "current=751, total=841\n",
            "current=752, total=841\n",
            "current=753, total=841\n",
            "current=754, total=841\n",
            "current=755, total=841\n",
            "current=756, total=841\n",
            "current=757, total=841\n",
            "current=758, total=841\n",
            "current=759, total=841\n",
            "current=760, total=841\n",
            "current=761, total=841\n",
            "current=762, total=841\n",
            "current=763, total=841\n",
            "current=764, total=841\n",
            "current=765, total=841\n",
            "current=766, total=841\n",
            "current=767, total=841\n",
            "current=768, total=841\n",
            "current=769, total=841\n",
            "current=770, total=841\n",
            "current=771, total=841\n",
            "current=772, total=841\n",
            "current=773, total=841\n",
            "current=774, total=841\n",
            "current=775, total=841\n",
            "current=776, total=841\n",
            "current=777, total=841\n",
            "current=778, total=841\n",
            "current=779, total=841\n",
            "current=780, total=841\n",
            "current=781, total=841\n",
            "current=782, total=841\n",
            "current=783, total=841\n",
            "current=784, total=841\n",
            "current=785, total=841\n",
            "current=786, total=841\n",
            "current=787, total=841\n",
            "current=788, total=841\n",
            "current=789, total=841\n",
            "current=790, total=841\n",
            "current=791, total=841\n",
            "current=792, total=841\n",
            "current=793, total=841\n",
            "current=794, total=841\n",
            "current=795, total=841\n",
            "current=796, total=841\n",
            "current=797, total=841\n",
            "current=798, total=841\n",
            "current=799, total=841\n",
            "current=800, total=841\n",
            "current=801, total=841\n",
            "current=802, total=841\n",
            "current=803, total=841\n",
            "current=804, total=841\n",
            "current=805, total=841\n",
            "current=806, total=841\n",
            "current=807, total=841\n",
            "current=808, total=841\n",
            "current=809, total=841\n",
            "current=810, total=841\n",
            "current=811, total=841\n",
            "current=812, total=841\n",
            "current=813, total=841\n",
            "current=814, total=841\n",
            "current=815, total=841\n",
            "current=816, total=841\n",
            "current=817, total=841\n",
            "current=818, total=841\n",
            "current=819, total=841\n",
            "current=820, total=841\n",
            "current=821, total=841\n",
            "current=822, total=841\n",
            "current=823, total=841\n",
            "current=824, total=841\n",
            "current=825, total=841\n",
            "current=826, total=841\n",
            "current=827, total=841\n",
            "current=828, total=841\n",
            "current=829, total=841\n",
            "current=830, total=841\n",
            "current=831, total=841\n",
            "current=832, total=841\n",
            "current=833, total=841\n",
            "current=834, total=841\n",
            "current=835, total=841\n",
            "current=836, total=841\n",
            "current=837, total=841\n",
            "current=838, total=841\n",
            "current=839, total=841\n",
            "current=840, total=841\n",
            "current=841, total=841\n",
            "MAE: 937158.974\n",
            "Test RMSE: 1430557.949\n"
          ],
          "name": "stdout"
        },
        {
          "output_type": "display_data",
          "data": {
            "image/png": "[encoded data removed]",
            "text/plain": [
              "<Figure size 432x288 with 1 Axes>"
            ]
          },
          "metadata": {
            "tags": [],
            "needs_background": "light"
          }
        }
      ]
    },
    {
      "cell_type": "code",
      "metadata": {
        "colab": {
          "base_uri": "https://localhost:8080/"
        },
        "id": "yd3qNdusieJ9",
        "outputId": "65db198d-6723-4d0b-fa42-6a4675b3b523"
      },
      "source": [
        "#from statsmodels.tsa.arima_model import ARIMA\n",
        "from statsmodels.tsa.arima.model import ARIMA\n",
        "\n",
        "from sklearn.metrics import mean_squared_error\n",
        "from sklearn.metrics import mean_absolute_error\n",
        "from math import sqrt\n",
        "import warnings\n",
        "warnings.filterwarnings('ignore', 'statsmodels.tsa.arima_model.ARMA',\n",
        "                        FutureWarning)\n",
        "warnings.filterwarnings('ignore', 'statsmodels.tsa.arima_model.ARIMA',\n",
        "                        FutureWarning)\n",
        "\n",
        "\n",
        "warnings.filterwarnings(\"ignore\", category=DeprecationWarning)\n",
        "\n",
        "X = df_total.total_traffic.values\n",
        "size = int(len(X) * 0.7)\n",
        "train, test = X[0:size], X[-300:]\n",
        "history = [x for x in train]\n",
        "predictions = list()\n",
        "total_size = len(test)\n",
        "count = 1\n",
        "# walk-forward validation\n",
        "for t in range(len(test)):\n",
        "  print('current=%d, total=%d' % (count, total_size))\n",
        "  count = count + 1\n",
        "  model = ARIMA(history, order=(4,1,3))\n",
        "  model_fit = model.fit()\n",
        "  output = model_fit.forecast()\n",
        "  yhat = output[0]\n",
        "  predictions.append(yhat)\n",
        "  obs = test[t]\n",
        "  history.append(obs)\n",
        "  #print('predicted=%f, expected=%f' % (yhat, obs))\n",
        "# evaluate forecasts\n",
        "mae = mean_absolute_error(test, predictions)\n",
        "print('MAE: %f' % mae)\n",
        "rmse = sqrt(mean_squared_error(test, predictions))\n",
        "print('Test RMSE: %.3f' % rmse)\n",
        "# plot forecasts against actual outcomes\n",
        "pyplot.plot(test)\n",
        "pyplot.plot(predictions, color='red')\n",
        "pyplot.show()"
      ],
      "execution_count": null,
      "outputs": [
        {
          "output_type": "stream",
          "text": [
            "current=1, total=300\n"
          ],
          "name": "stdout"
        },
        {
          "output_type": "stream",
          "text": [
            "/usr/local/lib/python3.7/dist-packages/statsmodels/base/model.py:568: ConvergenceWarning: Maximum Likelihood optimization failed to converge. Check mle_retvals\n",
            "  ConvergenceWarning)\n"
          ],
          "name": "stderr"
        },
        {
          "output_type": "stream",
          "text": [
            "current=2, total=300\n"
          ],
          "name": "stdout"
        },
        {
          "output_type": "stream",
          "text": [
            "/usr/local/lib/python3.7/dist-packages/statsmodels/base/model.py:568: ConvergenceWarning: Maximum Likelihood optimization failed to converge. Check mle_retvals\n",
            "  ConvergenceWarning)\n"
          ],
          "name": "stderr"
        },
        {
          "output_type": "stream",
          "text": [
            "current=3, total=300\n"
          ],
          "name": "stdout"
        },
        {
          "output_type": "stream",
          "text": [
            "/usr/local/lib/python3.7/dist-packages/statsmodels/base/model.py:568: ConvergenceWarning: Maximum Likelihood optimization failed to converge. Check mle_retvals\n",
            "  ConvergenceWarning)\n"
          ],
          "name": "stderr"
        },
        {
          "output_type": "stream",
          "text": [
            "current=4, total=300\n"
          ],
          "name": "stdout"
        },
        {
          "output_type": "stream",
          "text": [
            "/usr/local/lib/python3.7/dist-packages/statsmodels/base/model.py:568: ConvergenceWarning: Maximum Likelihood optimization failed to converge. Check mle_retvals\n",
            "  ConvergenceWarning)\n"
          ],
          "name": "stderr"
        },
        {
          "output_type": "stream",
          "text": [
            "current=5, total=300\n"
          ],
          "name": "stdout"
        },
        {
          "output_type": "stream",
          "text": [
            "/usr/local/lib/python3.7/dist-packages/statsmodels/base/model.py:568: ConvergenceWarning: Maximum Likelihood optimization failed to converge. Check mle_retvals\n",
            "  ConvergenceWarning)\n"
          ],
          "name": "stderr"
        },
        {
          "output_type": "stream",
          "text": [
            "current=6, total=300\n"
          ],
          "name": "stdout"
        },
        {
          "output_type": "stream",
          "text": [
            "/usr/local/lib/python3.7/dist-packages/statsmodels/base/model.py:568: ConvergenceWarning: Maximum Likelihood optimization failed to converge. Check mle_retvals\n",
            "  ConvergenceWarning)\n"
          ],
          "name": "stderr"
        },
        {
          "output_type": "stream",
          "text": [
            "current=7, total=300\n"
          ],
          "name": "stdout"
        },
        {
          "output_type": "stream",
          "text": [
            "/usr/local/lib/python3.7/dist-packages/statsmodels/base/model.py:568: ConvergenceWarning: Maximum Likelihood optimization failed to converge. Check mle_retvals\n",
            "  ConvergenceWarning)\n"
          ],
          "name": "stderr"
        },
        {
          "output_type": "stream",
          "text": [
            "current=8, total=300\n"
          ],
          "name": "stdout"
        },
        {
          "output_type": "stream",
          "text": [
            "/usr/local/lib/python3.7/dist-packages/statsmodels/base/model.py:568: ConvergenceWarning: Maximum Likelihood optimization failed to converge. Check mle_retvals\n",
            "  ConvergenceWarning)\n"
          ],
          "name": "stderr"
        },
        {
          "output_type": "stream",
          "text": [
            "current=9, total=300\n"
          ],
          "name": "stdout"
        },
        {
          "output_type": "stream",
          "text": [
            "/usr/local/lib/python3.7/dist-packages/statsmodels/base/model.py:568: ConvergenceWarning: Maximum Likelihood optimization failed to converge. Check mle_retvals\n",
            "  ConvergenceWarning)\n"
          ],
          "name": "stderr"
        },
        {
          "output_type": "stream",
          "text": [
            "current=10, total=300\n"
          ],
          "name": "stdout"
        },
        {
          "output_type": "stream",
          "text": [
            "/usr/local/lib/python3.7/dist-packages/statsmodels/base/model.py:568: ConvergenceWarning: Maximum Likelihood optimization failed to converge. Check mle_retvals\n",
            "  ConvergenceWarning)\n"
          ],
          "name": "stderr"
        },
        {
          "output_type": "stream",
          "text": [
            "current=11, total=300\n"
          ],
          "name": "stdout"
        },
        {
          "output_type": "stream",
          "text": [
            "/usr/local/lib/python3.7/dist-packages/statsmodels/base/model.py:568: ConvergenceWarning: Maximum Likelihood optimization failed to converge. Check mle_retvals\n",
            "  ConvergenceWarning)\n"
          ],
          "name": "stderr"
        },
        {
          "output_type": "stream",
          "text": [
            "current=12, total=300\n"
          ],
          "name": "stdout"
        },
        {
          "output_type": "stream",
          "text": [
            "/usr/local/lib/python3.7/dist-packages/statsmodels/base/model.py:568: ConvergenceWarning: Maximum Likelihood optimization failed to converge. Check mle_retvals\n",
            "  ConvergenceWarning)\n"
          ],
          "name": "stderr"
        },
        {
          "output_type": "stream",
          "text": [
            "current=13, total=300\n"
          ],
          "name": "stdout"
        },
        {
          "output_type": "stream",
          "text": [
            "/usr/local/lib/python3.7/dist-packages/statsmodels/base/model.py:568: ConvergenceWarning: Maximum Likelihood optimization failed to converge. Check mle_retvals\n",
            "  ConvergenceWarning)\n"
          ],
          "name": "stderr"
        },
        {
          "output_type": "stream",
          "text": [
            "current=14, total=300\n"
          ],
          "name": "stdout"
        },
        {
          "output_type": "stream",
          "text": [
            "/usr/local/lib/python3.7/dist-packages/statsmodels/base/model.py:568: ConvergenceWarning: Maximum Likelihood optimization failed to converge. Check mle_retvals\n",
            "  ConvergenceWarning)\n"
          ],
          "name": "stderr"
        },
        {
          "output_type": "stream",
          "text": [
            "current=15, total=300\n"
          ],
          "name": "stdout"
        },
        {
          "output_type": "stream",
          "text": [
            "/usr/local/lib/python3.7/dist-packages/statsmodels/base/model.py:568: ConvergenceWarning: Maximum Likelihood optimization failed to converge. Check mle_retvals\n",
            "  ConvergenceWarning)\n"
          ],
          "name": "stderr"
        },
        {
          "output_type": "stream",
          "text": [
            "current=16, total=300\n"
          ],
          "name": "stdout"
        },
        {
          "output_type": "stream",
          "text": [
            "/usr/local/lib/python3.7/dist-packages/statsmodels/base/model.py:568: ConvergenceWarning: Maximum Likelihood optimization failed to converge. Check mle_retvals\n",
            "  ConvergenceWarning)\n"
          ],
          "name": "stderr"
        },
        {
          "output_type": "stream",
          "text": [
            "current=17, total=300\n"
          ],
          "name": "stdout"
        },
        {
          "output_type": "stream",
          "text": [
            "/usr/local/lib/python3.7/dist-packages/statsmodels/base/model.py:568: ConvergenceWarning: Maximum Likelihood optimization failed to converge. Check mle_retvals\n",
            "  ConvergenceWarning)\n"
          ],
          "name": "stderr"
        },
        {
          "output_type": "stream",
          "text": [
            "current=18, total=300\n"
          ],
          "name": "stdout"
        },
        {
          "output_type": "stream",
          "text": [
            "/usr/local/lib/python3.7/dist-packages/statsmodels/base/model.py:568: ConvergenceWarning: Maximum Likelihood optimization failed to converge. Check mle_retvals\n",
            "  ConvergenceWarning)\n"
          ],
          "name": "stderr"
        },
        {
          "output_type": "stream",
          "text": [
            "current=19, total=300\n"
          ],
          "name": "stdout"
        },
        {
          "output_type": "stream",
          "text": [
            "/usr/local/lib/python3.7/dist-packages/statsmodels/base/model.py:568: ConvergenceWarning: Maximum Likelihood optimization failed to converge. Check mle_retvals\n",
            "  ConvergenceWarning)\n"
          ],
          "name": "stderr"
        },
        {
          "output_type": "stream",
          "text": [
            "current=20, total=300\n"
          ],
          "name": "stdout"
        },
        {
          "output_type": "stream",
          "text": [
            "/usr/local/lib/python3.7/dist-packages/statsmodels/base/model.py:568: ConvergenceWarning: Maximum Likelihood optimization failed to converge. Check mle_retvals\n",
            "  ConvergenceWarning)\n"
          ],
          "name": "stderr"
        },
        {
          "output_type": "stream",
          "text": [
            "current=21, total=300\n"
          ],
          "name": "stdout"
        },
        {
          "output_type": "stream",
          "text": [
            "/usr/local/lib/python3.7/dist-packages/statsmodels/base/model.py:568: ConvergenceWarning: Maximum Likelihood optimization failed to converge. Check mle_retvals\n",
            "  ConvergenceWarning)\n"
          ],
          "name": "stderr"
        },
        {
          "output_type": "stream",
          "text": [
            "current=22, total=300\n"
          ],
          "name": "stdout"
        },
        {
          "output_type": "stream",
          "text": [
            "/usr/local/lib/python3.7/dist-packages/statsmodels/base/model.py:568: ConvergenceWarning: Maximum Likelihood optimization failed to converge. Check mle_retvals\n",
            "  ConvergenceWarning)\n"
          ],
          "name": "stderr"
        },
        {
          "output_type": "stream",
          "text": [
            "current=23, total=300\n"
          ],
          "name": "stdout"
        },
        {
          "output_type": "stream",
          "text": [
            "/usr/local/lib/python3.7/dist-packages/statsmodels/base/model.py:568: ConvergenceWarning: Maximum Likelihood optimization failed to converge. Check mle_retvals\n",
            "  ConvergenceWarning)\n"
          ],
          "name": "stderr"
        },
        {
          "output_type": "stream",
          "text": [
            "current=24, total=300\n"
          ],
          "name": "stdout"
        },
        {
          "output_type": "stream",
          "text": [
            "/usr/local/lib/python3.7/dist-packages/statsmodels/base/model.py:568: ConvergenceWarning: Maximum Likelihood optimization failed to converge. Check mle_retvals\n",
            "  ConvergenceWarning)\n"
          ],
          "name": "stderr"
        },
        {
          "output_type": "stream",
          "text": [
            "current=25, total=300\n"
          ],
          "name": "stdout"
        },
        {
          "output_type": "stream",
          "text": [
            "/usr/local/lib/python3.7/dist-packages/statsmodels/base/model.py:568: ConvergenceWarning: Maximum Likelihood optimization failed to converge. Check mle_retvals\n",
            "  ConvergenceWarning)\n"
          ],
          "name": "stderr"
        },
        {
          "output_type": "stream",
          "text": [
            "current=26, total=300\n"
          ],
          "name": "stdout"
        },
        {
          "output_type": "stream",
          "text": [
            "/usr/local/lib/python3.7/dist-packages/statsmodels/base/model.py:568: ConvergenceWarning: Maximum Likelihood optimization failed to converge. Check mle_retvals\n",
            "  ConvergenceWarning)\n"
          ],
          "name": "stderr"
        },
        {
          "output_type": "stream",
          "text": [
            "current=27, total=300\n"
          ],
          "name": "stdout"
        },
        {
          "output_type": "stream",
          "text": [
            "/usr/local/lib/python3.7/dist-packages/statsmodels/base/model.py:568: ConvergenceWarning: Maximum Likelihood optimization failed to converge. Check mle_retvals\n",
            "  ConvergenceWarning)\n"
          ],
          "name": "stderr"
        },
        {
          "output_type": "stream",
          "text": [
            "current=28, total=300\n"
          ],
          "name": "stdout"
        },
        {
          "output_type": "stream",
          "text": [
            "/usr/local/lib/python3.7/dist-packages/statsmodels/base/model.py:568: ConvergenceWarning: Maximum Likelihood optimization failed to converge. Check mle_retvals\n",
            "  ConvergenceWarning)\n"
          ],
          "name": "stderr"
        },
        {
          "output_type": "stream",
          "text": [
            "current=29, total=300\n"
          ],
          "name": "stdout"
        },
        {
          "output_type": "stream",
          "text": [
            "/usr/local/lib/python3.7/dist-packages/statsmodels/base/model.py:568: ConvergenceWarning: Maximum Likelihood optimization failed to converge. Check mle_retvals\n",
            "  ConvergenceWarning)\n"
          ],
          "name": "stderr"
        },
        {
          "output_type": "stream",
          "text": [
            "current=30, total=300\n"
          ],
          "name": "stdout"
        },
        {
          "output_type": "stream",
          "text": [
            "/usr/local/lib/python3.7/dist-packages/statsmodels/base/model.py:568: ConvergenceWarning: Maximum Likelihood optimization failed to converge. Check mle_retvals\n",
            "  ConvergenceWarning)\n"
          ],
          "name": "stderr"
        },
        {
          "output_type": "stream",
          "text": [
            "current=31, total=300\n"
          ],
          "name": "stdout"
        },
        {
          "output_type": "stream",
          "text": [
            "/usr/local/lib/python3.7/dist-packages/statsmodels/base/model.py:568: ConvergenceWarning: Maximum Likelihood optimization failed to converge. Check mle_retvals\n",
            "  ConvergenceWarning)\n"
          ],
          "name": "stderr"
        },
        {
          "output_type": "stream",
          "text": [
            "current=32, total=300\n"
          ],
          "name": "stdout"
        },
        {
          "output_type": "stream",
          "text": [
            "/usr/local/lib/python3.7/dist-packages/statsmodels/base/model.py:568: ConvergenceWarning: Maximum Likelihood optimization failed to converge. Check mle_retvals\n",
            "  ConvergenceWarning)\n"
          ],
          "name": "stderr"
        },
        {
          "output_type": "stream",
          "text": [
            "current=33, total=300\n"
          ],
          "name": "stdout"
        },
        {
          "output_type": "stream",
          "text": [
            "/usr/local/lib/python3.7/dist-packages/statsmodels/base/model.py:568: ConvergenceWarning: Maximum Likelihood optimization failed to converge. Check mle_retvals\n",
            "  ConvergenceWarning)\n"
          ],
          "name": "stderr"
        },
        {
          "output_type": "stream",
          "text": [
            "current=34, total=300\n"
          ],
          "name": "stdout"
        },
        {
          "output_type": "stream",
          "text": [
            "/usr/local/lib/python3.7/dist-packages/statsmodels/base/model.py:568: ConvergenceWarning: Maximum Likelihood optimization failed to converge. Check mle_retvals\n",
            "  ConvergenceWarning)\n"
          ],
          "name": "stderr"
        },
        {
          "output_type": "stream",
          "text": [
            "current=35, total=300\n"
          ],
          "name": "stdout"
        },
        {
          "output_type": "stream",
          "text": [
            "/usr/local/lib/python3.7/dist-packages/statsmodels/base/model.py:568: ConvergenceWarning: Maximum Likelihood optimization failed to converge. Check mle_retvals\n",
            "  ConvergenceWarning)\n"
          ],
          "name": "stderr"
        },
        {
          "output_type": "stream",
          "text": [
            "current=36, total=300\n"
          ],
          "name": "stdout"
        },
        {
          "output_type": "stream",
          "text": [
            "/usr/local/lib/python3.7/dist-packages/statsmodels/base/model.py:568: ConvergenceWarning: Maximum Likelihood optimization failed to converge. Check mle_retvals\n",
            "  ConvergenceWarning)\n"
          ],
          "name": "stderr"
        },
        {
          "output_type": "stream",
          "text": [
            "current=37, total=300\n"
          ],
          "name": "stdout"
        },
        {
          "output_type": "stream",
          "text": [
            "/usr/local/lib/python3.7/dist-packages/statsmodels/base/model.py:568: ConvergenceWarning: Maximum Likelihood optimization failed to converge. Check mle_retvals\n",
            "  ConvergenceWarning)\n"
          ],
          "name": "stderr"
        },
        {
          "output_type": "stream",
          "text": [
            "current=38, total=300\n"
          ],
          "name": "stdout"
        },
        {
          "output_type": "stream",
          "text": [
            "/usr/local/lib/python3.7/dist-packages/statsmodels/base/model.py:568: ConvergenceWarning: Maximum Likelihood optimization failed to converge. Check mle_retvals\n",
            "  ConvergenceWarning)\n"
          ],
          "name": "stderr"
        },
        {
          "output_type": "stream",
          "text": [
            "current=39, total=300\n"
          ],
          "name": "stdout"
        },
        {
          "output_type": "stream",
          "text": [
            "/usr/local/lib/python3.7/dist-packages/statsmodels/base/model.py:568: ConvergenceWarning: Maximum Likelihood optimization failed to converge. Check mle_retvals\n",
            "  ConvergenceWarning)\n"
          ],
          "name": "stderr"
        },
        {
          "output_type": "stream",
          "text": [
            "current=40, total=300\n"
          ],
          "name": "stdout"
        },
        {
          "output_type": "stream",
          "text": [
            "/usr/local/lib/python3.7/dist-packages/statsmodels/base/model.py:568: ConvergenceWarning: Maximum Likelihood optimization failed to converge. Check mle_retvals\n",
            "  ConvergenceWarning)\n"
          ],
          "name": "stderr"
        },
        {
          "output_type": "stream",
          "text": [
            "current=41, total=300\n"
          ],
          "name": "stdout"
        },
        {
          "output_type": "stream",
          "text": [
            "/usr/local/lib/python3.7/dist-packages/statsmodels/base/model.py:568: ConvergenceWarning: Maximum Likelihood optimization failed to converge. Check mle_retvals\n",
            "  ConvergenceWarning)\n"
          ],
          "name": "stderr"
        },
        {
          "output_type": "stream",
          "text": [
            "current=42, total=300\n"
          ],
          "name": "stdout"
        },
        {
          "output_type": "stream",
          "text": [
            "/usr/local/lib/python3.7/dist-packages/statsmodels/base/model.py:568: ConvergenceWarning: Maximum Likelihood optimization failed to converge. Check mle_retvals\n",
            "  ConvergenceWarning)\n"
          ],
          "name": "stderr"
        },
        {
          "output_type": "stream",
          "text": [
            "current=43, total=300\n"
          ],
          "name": "stdout"
        },
        {
          "output_type": "stream",
          "text": [
            "/usr/local/lib/python3.7/dist-packages/statsmodels/base/model.py:568: ConvergenceWarning: Maximum Likelihood optimization failed to converge. Check mle_retvals\n",
            "  ConvergenceWarning)\n"
          ],
          "name": "stderr"
        },
        {
          "output_type": "stream",
          "text": [
            "current=44, total=300\n"
          ],
          "name": "stdout"
        },
        {
          "output_type": "stream",
          "text": [
            "/usr/local/lib/python3.7/dist-packages/statsmodels/base/model.py:568: ConvergenceWarning: Maximum Likelihood optimization failed to converge. Check mle_retvals\n",
            "  ConvergenceWarning)\n"
          ],
          "name": "stderr"
        },
        {
          "output_type": "stream",
          "text": [
            "current=45, total=300\n"
          ],
          "name": "stdout"
        },
        {
          "output_type": "stream",
          "text": [
            "/usr/local/lib/python3.7/dist-packages/statsmodels/base/model.py:568: ConvergenceWarning: Maximum Likelihood optimization failed to converge. Check mle_retvals\n",
            "  ConvergenceWarning)\n"
          ],
          "name": "stderr"
        },
        {
          "output_type": "stream",
          "text": [
            "current=46, total=300\n"
          ],
          "name": "stdout"
        },
        {
          "output_type": "stream",
          "text": [
            "/usr/local/lib/python3.7/dist-packages/statsmodels/base/model.py:568: ConvergenceWarning: Maximum Likelihood optimization failed to converge. Check mle_retvals\n",
            "  ConvergenceWarning)\n"
          ],
          "name": "stderr"
        },
        {
          "output_type": "stream",
          "text": [
            "current=47, total=300\n"
          ],
          "name": "stdout"
        },
        {
          "output_type": "stream",
          "text": [
            "/usr/local/lib/python3.7/dist-packages/statsmodels/base/model.py:568: ConvergenceWarning: Maximum Likelihood optimization failed to converge. Check mle_retvals\n",
            "  ConvergenceWarning)\n"
          ],
          "name": "stderr"
        },
        {
          "output_type": "stream",
          "text": [
            "current=48, total=300\n"
          ],
          "name": "stdout"
        },
        {
          "output_type": "stream",
          "text": [
            "/usr/local/lib/python3.7/dist-packages/statsmodels/base/model.py:568: ConvergenceWarning: Maximum Likelihood optimization failed to converge. Check mle_retvals\n",
            "  ConvergenceWarning)\n"
          ],
          "name": "stderr"
        },
        {
          "output_type": "stream",
          "text": [
            "current=49, total=300\n"
          ],
          "name": "stdout"
        },
        {
          "output_type": "stream",
          "text": [
            "/usr/local/lib/python3.7/dist-packages/statsmodels/base/model.py:568: ConvergenceWarning: Maximum Likelihood optimization failed to converge. Check mle_retvals\n",
            "  ConvergenceWarning)\n"
          ],
          "name": "stderr"
        },
        {
          "output_type": "stream",
          "text": [
            "current=50, total=300\n"
          ],
          "name": "stdout"
        },
        {
          "output_type": "stream",
          "text": [
            "/usr/local/lib/python3.7/dist-packages/statsmodels/base/model.py:568: ConvergenceWarning: Maximum Likelihood optimization failed to converge. Check mle_retvals\n",
            "  ConvergenceWarning)\n"
          ],
          "name": "stderr"
        },
        {
          "output_type": "stream",
          "text": [
            "current=51, total=300\n"
          ],
          "name": "stdout"
        },
        {
          "output_type": "stream",
          "text": [
            "/usr/local/lib/python3.7/dist-packages/statsmodels/base/model.py:568: ConvergenceWarning: Maximum Likelihood optimization failed to converge. Check mle_retvals\n",
            "  ConvergenceWarning)\n"
          ],
          "name": "stderr"
        },
        {
          "output_type": "stream",
          "text": [
            "current=52, total=300\n"
          ],
          "name": "stdout"
        },
        {
          "output_type": "stream",
          "text": [
            "/usr/local/lib/python3.7/dist-packages/statsmodels/base/model.py:568: ConvergenceWarning: Maximum Likelihood optimization failed to converge. Check mle_retvals\n",
            "  ConvergenceWarning)\n"
          ],
          "name": "stderr"
        },
        {
          "output_type": "stream",
          "text": [
            "current=53, total=300\n"
          ],
          "name": "stdout"
        },
        {
          "output_type": "stream",
          "text": [
            "/usr/local/lib/python3.7/dist-packages/statsmodels/base/model.py:568: ConvergenceWarning: Maximum Likelihood optimization failed to converge. Check mle_retvals\n",
            "  ConvergenceWarning)\n"
          ],
          "name": "stderr"
        },
        {
          "output_type": "stream",
          "text": [
            "current=54, total=300\n"
          ],
          "name": "stdout"
        },
        {
          "output_type": "stream",
          "text": [
            "/usr/local/lib/python3.7/dist-packages/statsmodels/base/model.py:568: ConvergenceWarning: Maximum Likelihood optimization failed to converge. Check mle_retvals\n",
            "  ConvergenceWarning)\n"
          ],
          "name": "stderr"
        },
        {
          "output_type": "stream",
          "text": [
            "current=55, total=300\n"
          ],
          "name": "stdout"
        },
        {
          "output_type": "stream",
          "text": [
            "/usr/local/lib/python3.7/dist-packages/statsmodels/base/model.py:568: ConvergenceWarning: Maximum Likelihood optimization failed to converge. Check mle_retvals\n",
            "  ConvergenceWarning)\n"
          ],
          "name": "stderr"
        },
        {
          "output_type": "stream",
          "text": [
            "current=56, total=300\n"
          ],
          "name": "stdout"
        },
        {
          "output_type": "stream",
          "text": [
            "/usr/local/lib/python3.7/dist-packages/statsmodels/base/model.py:568: ConvergenceWarning: Maximum Likelihood optimization failed to converge. Check mle_retvals\n",
            "  ConvergenceWarning)\n"
          ],
          "name": "stderr"
        },
        {
          "output_type": "stream",
          "text": [
            "current=57, total=300\n"
          ],
          "name": "stdout"
        },
        {
          "output_type": "stream",
          "text": [
            "/usr/local/lib/python3.7/dist-packages/statsmodels/base/model.py:568: ConvergenceWarning: Maximum Likelihood optimization failed to converge. Check mle_retvals\n",
            "  ConvergenceWarning)\n"
          ],
          "name": "stderr"
        },
        {
          "output_type": "stream",
          "text": [
            "current=58, total=300\n"
          ],
          "name": "stdout"
        },
        {
          "output_type": "stream",
          "text": [
            "/usr/local/lib/python3.7/dist-packages/statsmodels/base/model.py:568: ConvergenceWarning: Maximum Likelihood optimization failed to converge. Check mle_retvals\n",
            "  ConvergenceWarning)\n"
          ],
          "name": "stderr"
        },
        {
          "output_type": "stream",
          "text": [
            "current=59, total=300\n"
          ],
          "name": "stdout"
        },
        {
          "output_type": "stream",
          "text": [
            "/usr/local/lib/python3.7/dist-packages/statsmodels/base/model.py:568: ConvergenceWarning: Maximum Likelihood optimization failed to converge. Check mle_retvals\n",
            "  ConvergenceWarning)\n"
          ],
          "name": "stderr"
        },
        {
          "output_type": "stream",
          "text": [
            "current=60, total=300\n"
          ],
          "name": "stdout"
        },
        {
          "output_type": "stream",
          "text": [
            "/usr/local/lib/python3.7/dist-packages/statsmodels/base/model.py:568: ConvergenceWarning: Maximum Likelihood optimization failed to converge. Check mle_retvals\n",
            "  ConvergenceWarning)\n"
          ],
          "name": "stderr"
        },
        {
          "output_type": "stream",
          "text": [
            "current=61, total=300\n"
          ],
          "name": "stdout"
        },
        {
          "output_type": "stream",
          "text": [
            "/usr/local/lib/python3.7/dist-packages/statsmodels/base/model.py:568: ConvergenceWarning: Maximum Likelihood optimization failed to converge. Check mle_retvals\n",
            "  ConvergenceWarning)\n"
          ],
          "name": "stderr"
        },
        {
          "output_type": "stream",
          "text": [
            "current=62, total=300\n"
          ],
          "name": "stdout"
        },
        {
          "output_type": "stream",
          "text": [
            "/usr/local/lib/python3.7/dist-packages/statsmodels/base/model.py:568: ConvergenceWarning: Maximum Likelihood optimization failed to converge. Check mle_retvals\n",
            "  ConvergenceWarning)\n"
          ],
          "name": "stderr"
        },
        {
          "output_type": "stream",
          "text": [
            "current=63, total=300\n"
          ],
          "name": "stdout"
        },
        {
          "output_type": "stream",
          "text": [
            "/usr/local/lib/python3.7/dist-packages/statsmodels/base/model.py:568: ConvergenceWarning: Maximum Likelihood optimization failed to converge. Check mle_retvals\n",
            "  ConvergenceWarning)\n"
          ],
          "name": "stderr"
        },
        {
          "output_type": "stream",
          "text": [
            "current=64, total=300\n"
          ],
          "name": "stdout"
        },
        {
          "output_type": "stream",
          "text": [
            "/usr/local/lib/python3.7/dist-packages/statsmodels/base/model.py:568: ConvergenceWarning: Maximum Likelihood optimization failed to converge. Check mle_retvals\n",
            "  ConvergenceWarning)\n"
          ],
          "name": "stderr"
        },
        {
          "output_type": "stream",
          "text": [
            "current=65, total=300\n"
          ],
          "name": "stdout"
        },
        {
          "output_type": "stream",
          "text": [
            "/usr/local/lib/python3.7/dist-packages/statsmodels/base/model.py:568: ConvergenceWarning: Maximum Likelihood optimization failed to converge. Check mle_retvals\n",
            "  ConvergenceWarning)\n"
          ],
          "name": "stderr"
        },
        {
          "output_type": "stream",
          "text": [
            "current=66, total=300\n"
          ],
          "name": "stdout"
        },
        {
          "output_type": "stream",
          "text": [
            "/usr/local/lib/python3.7/dist-packages/statsmodels/base/model.py:568: ConvergenceWarning: Maximum Likelihood optimization failed to converge. Check mle_retvals\n",
            "  ConvergenceWarning)\n"
          ],
          "name": "stderr"
        },
        {
          "output_type": "stream",
          "text": [
            "current=67, total=300\n"
          ],
          "name": "stdout"
        },
        {
          "output_type": "stream",
          "text": [
            "/usr/local/lib/python3.7/dist-packages/statsmodels/base/model.py:568: ConvergenceWarning: Maximum Likelihood optimization failed to converge. Check mle_retvals\n",
            "  ConvergenceWarning)\n"
          ],
          "name": "stderr"
        },
        {
          "output_type": "stream",
          "text": [
            "current=68, total=300\n"
          ],
          "name": "stdout"
        },
        {
          "output_type": "stream",
          "text": [
            "/usr/local/lib/python3.7/dist-packages/statsmodels/base/model.py:568: ConvergenceWarning: Maximum Likelihood optimization failed to converge. Check mle_retvals\n",
            "  ConvergenceWarning)\n"
          ],
          "name": "stderr"
        },
        {
          "output_type": "stream",
          "text": [
            "current=69, total=300\n"
          ],
          "name": "stdout"
        },
        {
          "output_type": "stream",
          "text": [
            "/usr/local/lib/python3.7/dist-packages/statsmodels/base/model.py:568: ConvergenceWarning: Maximum Likelihood optimization failed to converge. Check mle_retvals\n",
            "  ConvergenceWarning)\n"
          ],
          "name": "stderr"
        },
        {
          "output_type": "stream",
          "text": [
            "current=70, total=300\n"
          ],
          "name": "stdout"
        },
        {
          "output_type": "stream",
          "text": [
            "/usr/local/lib/python3.7/dist-packages/statsmodels/base/model.py:568: ConvergenceWarning: Maximum Likelihood optimization failed to converge. Check mle_retvals\n",
            "  ConvergenceWarning)\n"
          ],
          "name": "stderr"
        },
        {
          "output_type": "stream",
          "text": [
            "current=71, total=300\n"
          ],
          "name": "stdout"
        },
        {
          "output_type": "stream",
          "text": [
            "/usr/local/lib/python3.7/dist-packages/statsmodels/base/model.py:568: ConvergenceWarning: Maximum Likelihood optimization failed to converge. Check mle_retvals\n",
            "  ConvergenceWarning)\n"
          ],
          "name": "stderr"
        },
        {
          "output_type": "stream",
          "text": [
            "current=72, total=300\n"
          ],
          "name": "stdout"
        },
        {
          "output_type": "stream",
          "text": [
            "/usr/local/lib/python3.7/dist-packages/statsmodels/base/model.py:568: ConvergenceWarning: Maximum Likelihood optimization failed to converge. Check mle_retvals\n",
            "  ConvergenceWarning)\n"
          ],
          "name": "stderr"
        },
        {
          "output_type": "stream",
          "text": [
            "current=73, total=300\n"
          ],
          "name": "stdout"
        },
        {
          "output_type": "stream",
          "text": [
            "/usr/local/lib/python3.7/dist-packages/statsmodels/base/model.py:568: ConvergenceWarning: Maximum Likelihood optimization failed to converge. Check mle_retvals\n",
            "  ConvergenceWarning)\n"
          ],
          "name": "stderr"
        },
        {
          "output_type": "stream",
          "text": [
            "current=74, total=300\n"
          ],
          "name": "stdout"
        },
        {
          "output_type": "stream",
          "text": [
            "/usr/local/lib/python3.7/dist-packages/statsmodels/base/model.py:568: ConvergenceWarning: Maximum Likelihood optimization failed to converge. Check mle_retvals\n",
            "  ConvergenceWarning)\n"
          ],
          "name": "stderr"
        },
        {
          "output_type": "stream",
          "text": [
            "current=75, total=300\n"
          ],
          "name": "stdout"
        },
        {
          "output_type": "stream",
          "text": [
            "/usr/local/lib/python3.7/dist-packages/statsmodels/base/model.py:568: ConvergenceWarning: Maximum Likelihood optimization failed to converge. Check mle_retvals\n",
            "  ConvergenceWarning)\n"
          ],
          "name": "stderr"
        },
        {
          "output_type": "stream",
          "text": [
            "current=76, total=300\n"
          ],
          "name": "stdout"
        },
        {
          "output_type": "stream",
          "text": [
            "/usr/local/lib/python3.7/dist-packages/statsmodels/base/model.py:568: ConvergenceWarning: Maximum Likelihood optimization failed to converge. Check mle_retvals\n",
            "  ConvergenceWarning)\n"
          ],
          "name": "stderr"
        },
        {
          "output_type": "stream",
          "text": [
            "current=77, total=300\n"
          ],
          "name": "stdout"
        },
        {
          "output_type": "stream",
          "text": [
            "/usr/local/lib/python3.7/dist-packages/statsmodels/base/model.py:568: ConvergenceWarning: Maximum Likelihood optimization failed to converge. Check mle_retvals\n",
            "  ConvergenceWarning)\n"
          ],
          "name": "stderr"
        },
        {
          "output_type": "stream",
          "text": [
            "current=78, total=300\n"
          ],
          "name": "stdout"
        },
        {
          "output_type": "stream",
          "text": [
            "/usr/local/lib/python3.7/dist-packages/statsmodels/base/model.py:568: ConvergenceWarning: Maximum Likelihood optimization failed to converge. Check mle_retvals\n",
            "  ConvergenceWarning)\n"
          ],
          "name": "stderr"
        },
        {
          "output_type": "stream",
          "text": [
            "current=79, total=300\n"
          ],
          "name": "stdout"
        },
        {
          "output_type": "stream",
          "text": [
            "/usr/local/lib/python3.7/dist-packages/statsmodels/base/model.py:568: ConvergenceWarning: Maximum Likelihood optimization failed to converge. Check mle_retvals\n",
            "  ConvergenceWarning)\n"
          ],
          "name": "stderr"
        },
        {
          "output_type": "stream",
          "text": [
            "current=80, total=300\n"
          ],
          "name": "stdout"
        },
        {
          "output_type": "stream",
          "text": [
            "/usr/local/lib/python3.7/dist-packages/statsmodels/base/model.py:568: ConvergenceWarning: Maximum Likelihood optimization failed to converge. Check mle_retvals\n",
            "  ConvergenceWarning)\n"
          ],
          "name": "stderr"
        },
        {
          "output_type": "stream",
          "text": [
            "current=81, total=300\n"
          ],
          "name": "stdout"
        },
        {
          "output_type": "stream",
          "text": [
            "/usr/local/lib/python3.7/dist-packages/statsmodels/base/model.py:568: ConvergenceWarning: Maximum Likelihood optimization failed to converge. Check mle_retvals\n",
            "  ConvergenceWarning)\n"
          ],
          "name": "stderr"
        },
        {
          "output_type": "stream",
          "text": [
            "current=82, total=300\n"
          ],
          "name": "stdout"
        },
        {
          "output_type": "stream",
          "text": [
            "/usr/local/lib/python3.7/dist-packages/statsmodels/base/model.py:568: ConvergenceWarning: Maximum Likelihood optimization failed to converge. Check mle_retvals\n",
            "  ConvergenceWarning)\n"
          ],
          "name": "stderr"
        },
        {
          "output_type": "stream",
          "text": [
            "current=83, total=300\n"
          ],
          "name": "stdout"
        },
        {
          "output_type": "stream",
          "text": [
            "/usr/local/lib/python3.7/dist-packages/statsmodels/base/model.py:568: ConvergenceWarning: Maximum Likelihood optimization failed to converge. Check mle_retvals\n",
            "  ConvergenceWarning)\n"
          ],
          "name": "stderr"
        },
        {
          "output_type": "stream",
          "text": [
            "current=84, total=300\n"
          ],
          "name": "stdout"
        },
        {
          "output_type": "stream",
          "text": [
            "/usr/local/lib/python3.7/dist-packages/statsmodels/base/model.py:568: ConvergenceWarning: Maximum Likelihood optimization failed to converge. Check mle_retvals\n",
            "  ConvergenceWarning)\n"
          ],
          "name": "stderr"
        },
        {
          "output_type": "stream",
          "text": [
            "current=85, total=300\n"
          ],
          "name": "stdout"
        },
        {
          "output_type": "stream",
          "text": [
            "/usr/local/lib/python3.7/dist-packages/statsmodels/base/model.py:568: ConvergenceWarning: Maximum Likelihood optimization failed to converge. Check mle_retvals\n",
            "  ConvergenceWarning)\n"
          ],
          "name": "stderr"
        },
        {
          "output_type": "stream",
          "text": [
            "current=86, total=300\n"
          ],
          "name": "stdout"
        },
        {
          "output_type": "stream",
          "text": [
            "/usr/local/lib/python3.7/dist-packages/statsmodels/base/model.py:568: ConvergenceWarning: Maximum Likelihood optimization failed to converge. Check mle_retvals\n",
            "  ConvergenceWarning)\n"
          ],
          "name": "stderr"
        },
        {
          "output_type": "stream",
          "text": [
            "current=87, total=300\n"
          ],
          "name": "stdout"
        },
        {
          "output_type": "stream",
          "text": [
            "/usr/local/lib/python3.7/dist-packages/statsmodels/base/model.py:568: ConvergenceWarning: Maximum Likelihood optimization failed to converge. Check mle_retvals\n",
            "  ConvergenceWarning)\n"
          ],
          "name": "stderr"
        },
        {
          "output_type": "stream",
          "text": [
            "current=88, total=300\n"
          ],
          "name": "stdout"
        },
        {
          "output_type": "stream",
          "text": [
            "/usr/local/lib/python3.7/dist-packages/statsmodels/base/model.py:568: ConvergenceWarning: Maximum Likelihood optimization failed to converge. Check mle_retvals\n",
            "  ConvergenceWarning)\n"
          ],
          "name": "stderr"
        },
        {
          "output_type": "stream",
          "text": [
            "current=89, total=300\n"
          ],
          "name": "stdout"
        },
        {
          "output_type": "stream",
          "text": [
            "/usr/local/lib/python3.7/dist-packages/statsmodels/base/model.py:568: ConvergenceWarning: Maximum Likelihood optimization failed to converge. Check mle_retvals\n",
            "  ConvergenceWarning)\n"
          ],
          "name": "stderr"
        },
        {
          "output_type": "stream",
          "text": [
            "current=90, total=300\n"
          ],
          "name": "stdout"
        },
        {
          "output_type": "stream",
          "text": [
            "/usr/local/lib/python3.7/dist-packages/statsmodels/base/model.py:568: ConvergenceWarning: Maximum Likelihood optimization failed to converge. Check mle_retvals\n",
            "  ConvergenceWarning)\n"
          ],
          "name": "stderr"
        },
        {
          "output_type": "stream",
          "text": [
            "current=91, total=300\n"
          ],
          "name": "stdout"
        },
        {
          "output_type": "stream",
          "text": [
            "/usr/local/lib/python3.7/dist-packages/statsmodels/base/model.py:568: ConvergenceWarning: Maximum Likelihood optimization failed to converge. Check mle_retvals\n",
            "  ConvergenceWarning)\n"
          ],
          "name": "stderr"
        },
        {
          "output_type": "stream",
          "text": [
            "current=92, total=300\n"
          ],
          "name": "stdout"
        },
        {
          "output_type": "stream",
          "text": [
            "/usr/local/lib/python3.7/dist-packages/statsmodels/base/model.py:568: ConvergenceWarning: Maximum Likelihood optimization failed to converge. Check mle_retvals\n",
            "  ConvergenceWarning)\n"
          ],
          "name": "stderr"
        },
        {
          "output_type": "stream",
          "text": [
            "current=93, total=300\n"
          ],
          "name": "stdout"
        },
        {
          "output_type": "stream",
          "text": [
            "/usr/local/lib/python3.7/dist-packages/statsmodels/base/model.py:568: ConvergenceWarning: Maximum Likelihood optimization failed to converge. Check mle_retvals\n",
            "  ConvergenceWarning)\n"
          ],
          "name": "stderr"
        },
        {
          "output_type": "stream",
          "text": [
            "current=94, total=300\n"
          ],
          "name": "stdout"
        },
        {
          "output_type": "stream",
          "text": [
            "/usr/local/lib/python3.7/dist-packages/statsmodels/base/model.py:568: ConvergenceWarning: Maximum Likelihood optimization failed to converge. Check mle_retvals\n",
            "  ConvergenceWarning)\n"
          ],
          "name": "stderr"
        },
        {
          "output_type": "stream",
          "text": [
            "current=95, total=300\n"
          ],
          "name": "stdout"
        },
        {
          "output_type": "stream",
          "text": [
            "/usr/local/lib/python3.7/dist-packages/statsmodels/base/model.py:568: ConvergenceWarning: Maximum Likelihood optimization failed to converge. Check mle_retvals\n",
            "  ConvergenceWarning)\n"
          ],
          "name": "stderr"
        },
        {
          "output_type": "stream",
          "text": [
            "current=96, total=300\n"
          ],
          "name": "stdout"
        },
        {
          "output_type": "stream",
          "text": [
            "/usr/local/lib/python3.7/dist-packages/statsmodels/base/model.py:568: ConvergenceWarning: Maximum Likelihood optimization failed to converge. Check mle_retvals\n",
            "  ConvergenceWarning)\n"
          ],
          "name": "stderr"
        },
        {
          "output_type": "stream",
          "text": [
            "current=97, total=300\n"
          ],
          "name": "stdout"
        },
        {
          "output_type": "stream",
          "text": [
            "/usr/local/lib/python3.7/dist-packages/statsmodels/base/model.py:568: ConvergenceWarning: Maximum Likelihood optimization failed to converge. Check mle_retvals\n",
            "  ConvergenceWarning)\n"
          ],
          "name": "stderr"
        },
        {
          "output_type": "stream",
          "text": [
            "current=98, total=300\n"
          ],
          "name": "stdout"
        },
        {
          "output_type": "stream",
          "text": [
            "/usr/local/lib/python3.7/dist-packages/statsmodels/base/model.py:568: ConvergenceWarning: Maximum Likelihood optimization failed to converge. Check mle_retvals\n",
            "  ConvergenceWarning)\n"
          ],
          "name": "stderr"
        },
        {
          "output_type": "stream",
          "text": [
            "current=99, total=300\n"
          ],
          "name": "stdout"
        },
        {
          "output_type": "stream",
          "text": [
            "/usr/local/lib/python3.7/dist-packages/statsmodels/base/model.py:568: ConvergenceWarning: Maximum Likelihood optimization failed to converge. Check mle_retvals\n",
            "  ConvergenceWarning)\n"
          ],
          "name": "stderr"
        },
        {
          "output_type": "stream",
          "text": [
            "current=100, total=300\n"
          ],
          "name": "stdout"
        },
        {
          "output_type": "stream",
          "text": [
            "/usr/local/lib/python3.7/dist-packages/statsmodels/base/model.py:568: ConvergenceWarning: Maximum Likelihood optimization failed to converge. Check mle_retvals\n",
            "  ConvergenceWarning)\n"
          ],
          "name": "stderr"
        },
        {
          "output_type": "stream",
          "text": [
            "current=101, total=300\n"
          ],
          "name": "stdout"
        },
        {
          "output_type": "stream",
          "text": [
            "/usr/local/lib/python3.7/dist-packages/statsmodels/base/model.py:568: ConvergenceWarning: Maximum Likelihood optimization failed to converge. Check mle_retvals\n",
            "  ConvergenceWarning)\n"
          ],
          "name": "stderr"
        },
        {
          "output_type": "stream",
          "text": [
            "current=102, total=300\n"
          ],
          "name": "stdout"
        },
        {
          "output_type": "stream",
          "text": [
            "/usr/local/lib/python3.7/dist-packages/statsmodels/base/model.py:568: ConvergenceWarning: Maximum Likelihood optimization failed to converge. Check mle_retvals\n",
            "  ConvergenceWarning)\n"
          ],
          "name": "stderr"
        },
        {
          "output_type": "stream",
          "text": [
            "current=103, total=300\n"
          ],
          "name": "stdout"
        },
        {
          "output_type": "stream",
          "text": [
            "/usr/local/lib/python3.7/dist-packages/statsmodels/base/model.py:568: ConvergenceWarning: Maximum Likelihood optimization failed to converge. Check mle_retvals\n",
            "  ConvergenceWarning)\n"
          ],
          "name": "stderr"
        },
        {
          "output_type": "stream",
          "text": [
            "current=104, total=300\n"
          ],
          "name": "stdout"
        },
        {
          "output_type": "stream",
          "text": [
            "/usr/local/lib/python3.7/dist-packages/statsmodels/base/model.py:568: ConvergenceWarning: Maximum Likelihood optimization failed to converge. Check mle_retvals\n",
            "  ConvergenceWarning)\n"
          ],
          "name": "stderr"
        },
        {
          "output_type": "stream",
          "text": [
            "current=105, total=300\n"
          ],
          "name": "stdout"
        },
        {
          "output_type": "stream",
          "text": [
            "/usr/local/lib/python3.7/dist-packages/statsmodels/base/model.py:568: ConvergenceWarning: Maximum Likelihood optimization failed to converge. Check mle_retvals\n",
            "  ConvergenceWarning)\n"
          ],
          "name": "stderr"
        },
        {
          "output_type": "stream",
          "text": [
            "current=106, total=300\n"
          ],
          "name": "stdout"
        },
        {
          "output_type": "stream",
          "text": [
            "/usr/local/lib/python3.7/dist-packages/statsmodels/base/model.py:568: ConvergenceWarning: Maximum Likelihood optimization failed to converge. Check mle_retvals\n",
            "  ConvergenceWarning)\n"
          ],
          "name": "stderr"
        },
        {
          "output_type": "stream",
          "text": [
            "current=107, total=300\n"
          ],
          "name": "stdout"
        },
        {
          "output_type": "stream",
          "text": [
            "/usr/local/lib/python3.7/dist-packages/statsmodels/base/model.py:568: ConvergenceWarning: Maximum Likelihood optimization failed to converge. Check mle_retvals\n",
            "  ConvergenceWarning)\n"
          ],
          "name": "stderr"
        },
        {
          "output_type": "stream",
          "text": [
            "current=108, total=300\n"
          ],
          "name": "stdout"
        },
        {
          "output_type": "stream",
          "text": [
            "/usr/local/lib/python3.7/dist-packages/statsmodels/base/model.py:568: ConvergenceWarning: Maximum Likelihood optimization failed to converge. Check mle_retvals\n",
            "  ConvergenceWarning)\n"
          ],
          "name": "stderr"
        },
        {
          "output_type": "stream",
          "text": [
            "current=109, total=300\n"
          ],
          "name": "stdout"
        },
        {
          "output_type": "stream",
          "text": [
            "/usr/local/lib/python3.7/dist-packages/statsmodels/base/model.py:568: ConvergenceWarning: Maximum Likelihood optimization failed to converge. Check mle_retvals\n",
            "  ConvergenceWarning)\n"
          ],
          "name": "stderr"
        },
        {
          "output_type": "stream",
          "text": [
            "current=110, total=300\n"
          ],
          "name": "stdout"
        },
        {
          "output_type": "stream",
          "text": [
            "/usr/local/lib/python3.7/dist-packages/statsmodels/base/model.py:568: ConvergenceWarning: Maximum Likelihood optimization failed to converge. Check mle_retvals\n",
            "  ConvergenceWarning)\n"
          ],
          "name": "stderr"
        },
        {
          "output_type": "stream",
          "text": [
            "current=111, total=300\n"
          ],
          "name": "stdout"
        },
        {
          "output_type": "stream",
          "text": [
            "/usr/local/lib/python3.7/dist-packages/statsmodels/base/model.py:568: ConvergenceWarning: Maximum Likelihood optimization failed to converge. Check mle_retvals\n",
            "  ConvergenceWarning)\n"
          ],
          "name": "stderr"
        },
        {
          "output_type": "stream",
          "text": [
            "current=112, total=300\n"
          ],
          "name": "stdout"
        },
        {
          "output_type": "stream",
          "text": [
            "/usr/local/lib/python3.7/dist-packages/statsmodels/base/model.py:568: ConvergenceWarning: Maximum Likelihood optimization failed to converge. Check mle_retvals\n",
            "  ConvergenceWarning)\n"
          ],
          "name": "stderr"
        },
        {
          "output_type": "stream",
          "text": [
            "current=113, total=300\n"
          ],
          "name": "stdout"
        },
        {
          "output_type": "stream",
          "text": [
            "/usr/local/lib/python3.7/dist-packages/statsmodels/base/model.py:568: ConvergenceWarning: Maximum Likelihood optimization failed to converge. Check mle_retvals\n",
            "  ConvergenceWarning)\n"
          ],
          "name": "stderr"
        },
        {
          "output_type": "stream",
          "text": [
            "current=114, total=300\n"
          ],
          "name": "stdout"
        },
        {
          "output_type": "stream",
          "text": [
            "/usr/local/lib/python3.7/dist-packages/statsmodels/base/model.py:568: ConvergenceWarning: Maximum Likelihood optimization failed to converge. Check mle_retvals\n",
            "  ConvergenceWarning)\n"
          ],
          "name": "stderr"
        },
        {
          "output_type": "stream",
          "text": [
            "current=115, total=300\n"
          ],
          "name": "stdout"
        },
        {
          "output_type": "stream",
          "text": [
            "/usr/local/lib/python3.7/dist-packages/statsmodels/base/model.py:568: ConvergenceWarning: Maximum Likelihood optimization failed to converge. Check mle_retvals\n",
            "  ConvergenceWarning)\n"
          ],
          "name": "stderr"
        },
        {
          "output_type": "stream",
          "text": [
            "current=116, total=300\n"
          ],
          "name": "stdout"
        },
        {
          "output_type": "stream",
          "text": [
            "/usr/local/lib/python3.7/dist-packages/statsmodels/base/model.py:568: ConvergenceWarning: Maximum Likelihood optimization failed to converge. Check mle_retvals\n",
            "  ConvergenceWarning)\n"
          ],
          "name": "stderr"
        },
        {
          "output_type": "stream",
          "text": [
            "current=117, total=300\n"
          ],
          "name": "stdout"
        },
        {
          "output_type": "stream",
          "text": [
            "/usr/local/lib/python3.7/dist-packages/statsmodels/base/model.py:568: ConvergenceWarning: Maximum Likelihood optimization failed to converge. Check mle_retvals\n",
            "  ConvergenceWarning)\n"
          ],
          "name": "stderr"
        },
        {
          "output_type": "stream",
          "text": [
            "current=118, total=300\n"
          ],
          "name": "stdout"
        },
        {
          "output_type": "stream",
          "text": [
            "/usr/local/lib/python3.7/dist-packages/statsmodels/base/model.py:568: ConvergenceWarning: Maximum Likelihood optimization failed to converge. Check mle_retvals\n",
            "  ConvergenceWarning)\n"
          ],
          "name": "stderr"
        },
        {
          "output_type": "stream",
          "text": [
            "current=119, total=300\n"
          ],
          "name": "stdout"
        },
        {
          "output_type": "stream",
          "text": [
            "/usr/local/lib/python3.7/dist-packages/statsmodels/base/model.py:568: ConvergenceWarning: Maximum Likelihood optimization failed to converge. Check mle_retvals\n",
            "  ConvergenceWarning)\n"
          ],
          "name": "stderr"
        },
        {
          "output_type": "stream",
          "text": [
            "current=120, total=300\n"
          ],
          "name": "stdout"
        },
        {
          "output_type": "stream",
          "text": [
            "/usr/local/lib/python3.7/dist-packages/statsmodels/base/model.py:568: ConvergenceWarning: Maximum Likelihood optimization failed to converge. Check mle_retvals\n",
            "  ConvergenceWarning)\n"
          ],
          "name": "stderr"
        },
        {
          "output_type": "stream",
          "text": [
            "current=121, total=300\n"
          ],
          "name": "stdout"
        },
        {
          "output_type": "stream",
          "text": [
            "/usr/local/lib/python3.7/dist-packages/statsmodels/base/model.py:568: ConvergenceWarning: Maximum Likelihood optimization failed to converge. Check mle_retvals\n",
            "  ConvergenceWarning)\n"
          ],
          "name": "stderr"
        },
        {
          "output_type": "stream",
          "text": [
            "current=122, total=300\n"
          ],
          "name": "stdout"
        },
        {
          "output_type": "stream",
          "text": [
            "/usr/local/lib/python3.7/dist-packages/statsmodels/base/model.py:568: ConvergenceWarning: Maximum Likelihood optimization failed to converge. Check mle_retvals\n",
            "  ConvergenceWarning)\n"
          ],
          "name": "stderr"
        },
        {
          "output_type": "stream",
          "text": [
            "current=123, total=300\n"
          ],
          "name": "stdout"
        },
        {
          "output_type": "stream",
          "text": [
            "/usr/local/lib/python3.7/dist-packages/statsmodels/base/model.py:568: ConvergenceWarning: Maximum Likelihood optimization failed to converge. Check mle_retvals\n",
            "  ConvergenceWarning)\n"
          ],
          "name": "stderr"
        },
        {
          "output_type": "stream",
          "text": [
            "current=124, total=300\n"
          ],
          "name": "stdout"
        },
        {
          "output_type": "stream",
          "text": [
            "/usr/local/lib/python3.7/dist-packages/statsmodels/base/model.py:568: ConvergenceWarning: Maximum Likelihood optimization failed to converge. Check mle_retvals\n",
            "  ConvergenceWarning)\n"
          ],
          "name": "stderr"
        },
        {
          "output_type": "stream",
          "text": [
            "current=125, total=300\n"
          ],
          "name": "stdout"
        },
        {
          "output_type": "stream",
          "text": [
            "/usr/local/lib/python3.7/dist-packages/statsmodels/base/model.py:568: ConvergenceWarning: Maximum Likelihood optimization failed to converge. Check mle_retvals\n",
            "  ConvergenceWarning)\n"
          ],
          "name": "stderr"
        },
        {
          "output_type": "stream",
          "text": [
            "current=126, total=300\n"
          ],
          "name": "stdout"
        },
        {
          "output_type": "stream",
          "text": [
            "/usr/local/lib/python3.7/dist-packages/statsmodels/base/model.py:568: ConvergenceWarning: Maximum Likelihood optimization failed to converge. Check mle_retvals\n",
            "  ConvergenceWarning)\n"
          ],
          "name": "stderr"
        },
        {
          "output_type": "stream",
          "text": [
            "current=127, total=300\n"
          ],
          "name": "stdout"
        },
        {
          "output_type": "stream",
          "text": [
            "/usr/local/lib/python3.7/dist-packages/statsmodels/base/model.py:568: ConvergenceWarning: Maximum Likelihood optimization failed to converge. Check mle_retvals\n",
            "  ConvergenceWarning)\n"
          ],
          "name": "stderr"
        },
        {
          "output_type": "stream",
          "text": [
            "current=128, total=300\n"
          ],
          "name": "stdout"
        },
        {
          "output_type": "stream",
          "text": [
            "/usr/local/lib/python3.7/dist-packages/statsmodels/base/model.py:568: ConvergenceWarning: Maximum Likelihood optimization failed to converge. Check mle_retvals\n",
            "  ConvergenceWarning)\n"
          ],
          "name": "stderr"
        },
        {
          "output_type": "stream",
          "text": [
            "current=129, total=300\n"
          ],
          "name": "stdout"
        },
        {
          "output_type": "stream",
          "text": [
            "/usr/local/lib/python3.7/dist-packages/statsmodels/base/model.py:568: ConvergenceWarning: Maximum Likelihood optimization failed to converge. Check mle_retvals\n",
            "  ConvergenceWarning)\n"
          ],
          "name": "stderr"
        },
        {
          "output_type": "stream",
          "text": [
            "current=130, total=300\n",
            "current=131, total=300\n"
          ],
          "name": "stdout"
        },
        {
          "output_type": "stream",
          "text": [
            "/usr/local/lib/python3.7/dist-packages/statsmodels/base/model.py:568: ConvergenceWarning: Maximum Likelihood optimization failed to converge. Check mle_retvals\n",
            "  ConvergenceWarning)\n"
          ],
          "name": "stderr"
        },
        {
          "output_type": "stream",
          "text": [
            "current=132, total=300\n"
          ],
          "name": "stdout"
        },
        {
          "output_type": "stream",
          "text": [
            "/usr/local/lib/python3.7/dist-packages/statsmodels/base/model.py:568: ConvergenceWarning: Maximum Likelihood optimization failed to converge. Check mle_retvals\n",
            "  ConvergenceWarning)\n"
          ],
          "name": "stderr"
        },
        {
          "output_type": "stream",
          "text": [
            "current=133, total=300\n"
          ],
          "name": "stdout"
        },
        {
          "output_type": "stream",
          "text": [
            "/usr/local/lib/python3.7/dist-packages/statsmodels/base/model.py:568: ConvergenceWarning: Maximum Likelihood optimization failed to converge. Check mle_retvals\n",
            "  ConvergenceWarning)\n"
          ],
          "name": "stderr"
        },
        {
          "output_type": "stream",
          "text": [
            "current=134, total=300\n"
          ],
          "name": "stdout"
        },
        {
          "output_type": "stream",
          "text": [
            "/usr/local/lib/python3.7/dist-packages/statsmodels/base/model.py:568: ConvergenceWarning: Maximum Likelihood optimization failed to converge. Check mle_retvals\n",
            "  ConvergenceWarning)\n"
          ],
          "name": "stderr"
        },
        {
          "output_type": "stream",
          "text": [
            "current=135, total=300\n"
          ],
          "name": "stdout"
        },
        {
          "output_type": "stream",
          "text": [
            "/usr/local/lib/python3.7/dist-packages/statsmodels/base/model.py:568: ConvergenceWarning: Maximum Likelihood optimization failed to converge. Check mle_retvals\n",
            "  ConvergenceWarning)\n"
          ],
          "name": "stderr"
        },
        {
          "output_type": "stream",
          "text": [
            "current=136, total=300\n"
          ],
          "name": "stdout"
        },
        {
          "output_type": "stream",
          "text": [
            "/usr/local/lib/python3.7/dist-packages/statsmodels/base/model.py:568: ConvergenceWarning: Maximum Likelihood optimization failed to converge. Check mle_retvals\n",
            "  ConvergenceWarning)\n"
          ],
          "name": "stderr"
        },
        {
          "output_type": "stream",
          "text": [
            "current=137, total=300\n"
          ],
          "name": "stdout"
        },
        {
          "output_type": "stream",
          "text": [
            "/usr/local/lib/python3.7/dist-packages/statsmodels/base/model.py:568: ConvergenceWarning: Maximum Likelihood optimization failed to converge. Check mle_retvals\n",
            "  ConvergenceWarning)\n"
          ],
          "name": "stderr"
        },
        {
          "output_type": "stream",
          "text": [
            "current=138, total=300\n"
          ],
          "name": "stdout"
        },
        {
          "output_type": "stream",
          "text": [
            "/usr/local/lib/python3.7/dist-packages/statsmodels/base/model.py:568: ConvergenceWarning: Maximum Likelihood optimization failed to converge. Check mle_retvals\n",
            "  ConvergenceWarning)\n"
          ],
          "name": "stderr"
        },
        {
          "output_type": "stream",
          "text": [
            "current=139, total=300\n"
          ],
          "name": "stdout"
        },
        {
          "output_type": "stream",
          "text": [
            "/usr/local/lib/python3.7/dist-packages/statsmodels/base/model.py:568: ConvergenceWarning: Maximum Likelihood optimization failed to converge. Check mle_retvals\n",
            "  ConvergenceWarning)\n"
          ],
          "name": "stderr"
        },
        {
          "output_type": "stream",
          "text": [
            "current=140, total=300\n"
          ],
          "name": "stdout"
        },
        {
          "output_type": "stream",
          "text": [
            "/usr/local/lib/python3.7/dist-packages/statsmodels/base/model.py:568: ConvergenceWarning: Maximum Likelihood optimization failed to converge. Check mle_retvals\n",
            "  ConvergenceWarning)\n"
          ],
          "name": "stderr"
        },
        {
          "output_type": "stream",
          "text": [
            "current=141, total=300\n"
          ],
          "name": "stdout"
        },
        {
          "output_type": "stream",
          "text": [
            "/usr/local/lib/python3.7/dist-packages/statsmodels/base/model.py:568: ConvergenceWarning: Maximum Likelihood optimization failed to converge. Check mle_retvals\n",
            "  ConvergenceWarning)\n"
          ],
          "name": "stderr"
        },
        {
          "output_type": "stream",
          "text": [
            "current=142, total=300\n"
          ],
          "name": "stdout"
        },
        {
          "output_type": "stream",
          "text": [
            "/usr/local/lib/python3.7/dist-packages/statsmodels/base/model.py:568: ConvergenceWarning: Maximum Likelihood optimization failed to converge. Check mle_retvals\n",
            "  ConvergenceWarning)\n"
          ],
          "name": "stderr"
        },
        {
          "output_type": "stream",
          "text": [
            "current=143, total=300\n"
          ],
          "name": "stdout"
        },
        {
          "output_type": "stream",
          "text": [
            "/usr/local/lib/python3.7/dist-packages/statsmodels/base/model.py:568: ConvergenceWarning: Maximum Likelihood optimization failed to converge. Check mle_retvals\n",
            "  ConvergenceWarning)\n"
          ],
          "name": "stderr"
        },
        {
          "output_type": "stream",
          "text": [
            "current=144, total=300\n"
          ],
          "name": "stdout"
        },
        {
          "output_type": "stream",
          "text": [
            "/usr/local/lib/python3.7/dist-packages/statsmodels/base/model.py:568: ConvergenceWarning: Maximum Likelihood optimization failed to converge. Check mle_retvals\n",
            "  ConvergenceWarning)\n"
          ],
          "name": "stderr"
        },
        {
          "output_type": "stream",
          "text": [
            "current=145, total=300\n"
          ],
          "name": "stdout"
        },
        {
          "output_type": "stream",
          "text": [
            "/usr/local/lib/python3.7/dist-packages/statsmodels/base/model.py:568: ConvergenceWarning: Maximum Likelihood optimization failed to converge. Check mle_retvals\n",
            "  ConvergenceWarning)\n"
          ],
          "name": "stderr"
        },
        {
          "output_type": "stream",
          "text": [
            "current=146, total=300\n"
          ],
          "name": "stdout"
        },
        {
          "output_type": "stream",
          "text": [
            "/usr/local/lib/python3.7/dist-packages/statsmodels/base/model.py:568: ConvergenceWarning: Maximum Likelihood optimization failed to converge. Check mle_retvals\n",
            "  ConvergenceWarning)\n"
          ],
          "name": "stderr"
        },
        {
          "output_type": "stream",
          "text": [
            "current=147, total=300\n"
          ],
          "name": "stdout"
        },
        {
          "output_type": "stream",
          "text": [
            "/usr/local/lib/python3.7/dist-packages/statsmodels/base/model.py:568: ConvergenceWarning: Maximum Likelihood optimization failed to converge. Check mle_retvals\n",
            "  ConvergenceWarning)\n"
          ],
          "name": "stderr"
        },
        {
          "output_type": "stream",
          "text": [
            "current=148, total=300\n"
          ],
          "name": "stdout"
        },
        {
          "output_type": "stream",
          "text": [
            "/usr/local/lib/python3.7/dist-packages/statsmodels/base/model.py:568: ConvergenceWarning: Maximum Likelihood optimization failed to converge. Check mle_retvals\n",
            "  ConvergenceWarning)\n"
          ],
          "name": "stderr"
        },
        {
          "output_type": "stream",
          "text": [
            "current=149, total=300\n"
          ],
          "name": "stdout"
        },
        {
          "output_type": "stream",
          "text": [
            "/usr/local/lib/python3.7/dist-packages/statsmodels/base/model.py:568: ConvergenceWarning: Maximum Likelihood optimization failed to converge. Check mle_retvals\n",
            "  ConvergenceWarning)\n"
          ],
          "name": "stderr"
        },
        {
          "output_type": "stream",
          "text": [
            "current=150, total=300\n"
          ],
          "name": "stdout"
        },
        {
          "output_type": "stream",
          "text": [
            "/usr/local/lib/python3.7/dist-packages/statsmodels/base/model.py:568: ConvergenceWarning: Maximum Likelihood optimization failed to converge. Check mle_retvals\n",
            "  ConvergenceWarning)\n"
          ],
          "name": "stderr"
        },
        {
          "output_type": "stream",
          "text": [
            "current=151, total=300\n"
          ],
          "name": "stdout"
        },
        {
          "output_type": "stream",
          "text": [
            "/usr/local/lib/python3.7/dist-packages/statsmodels/base/model.py:568: ConvergenceWarning: Maximum Likelihood optimization failed to converge. Check mle_retvals\n",
            "  ConvergenceWarning)\n"
          ],
          "name": "stderr"
        },
        {
          "output_type": "stream",
          "text": [
            "current=152, total=300\n"
          ],
          "name": "stdout"
        },
        {
          "output_type": "stream",
          "text": [
            "/usr/local/lib/python3.7/dist-packages/statsmodels/base/model.py:568: ConvergenceWarning: Maximum Likelihood optimization failed to converge. Check mle_retvals\n",
            "  ConvergenceWarning)\n"
          ],
          "name": "stderr"
        },
        {
          "output_type": "stream",
          "text": [
            "current=153, total=300\n"
          ],
          "name": "stdout"
        },
        {
          "output_type": "stream",
          "text": [
            "/usr/local/lib/python3.7/dist-packages/statsmodels/base/model.py:568: ConvergenceWarning: Maximum Likelihood optimization failed to converge. Check mle_retvals\n",
            "  ConvergenceWarning)\n"
          ],
          "name": "stderr"
        },
        {
          "output_type": "stream",
          "text": [
            "current=154, total=300\n"
          ],
          "name": "stdout"
        },
        {
          "output_type": "stream",
          "text": [
            "/usr/local/lib/python3.7/dist-packages/statsmodels/base/model.py:568: ConvergenceWarning: Maximum Likelihood optimization failed to converge. Check mle_retvals\n",
            "  ConvergenceWarning)\n"
          ],
          "name": "stderr"
        },
        {
          "output_type": "stream",
          "text": [
            "current=155, total=300\n"
          ],
          "name": "stdout"
        },
        {
          "output_type": "stream",
          "text": [
            "/usr/local/lib/python3.7/dist-packages/statsmodels/base/model.py:568: ConvergenceWarning: Maximum Likelihood optimization failed to converge. Check mle_retvals\n",
            "  ConvergenceWarning)\n"
          ],
          "name": "stderr"
        },
        {
          "output_type": "stream",
          "text": [
            "current=156, total=300\n"
          ],
          "name": "stdout"
        },
        {
          "output_type": "stream",
          "text": [
            "/usr/local/lib/python3.7/dist-packages/statsmodels/base/model.py:568: ConvergenceWarning: Maximum Likelihood optimization failed to converge. Check mle_retvals\n",
            "  ConvergenceWarning)\n"
          ],
          "name": "stderr"
        },
        {
          "output_type": "stream",
          "text": [
            "current=157, total=300\n"
          ],
          "name": "stdout"
        },
        {
          "output_type": "stream",
          "text": [
            "/usr/local/lib/python3.7/dist-packages/statsmodels/base/model.py:568: ConvergenceWarning: Maximum Likelihood optimization failed to converge. Check mle_retvals\n",
            "  ConvergenceWarning)\n"
          ],
          "name": "stderr"
        },
        {
          "output_type": "stream",
          "text": [
            "current=158, total=300\n"
          ],
          "name": "stdout"
        },
        {
          "output_type": "stream",
          "text": [
            "/usr/local/lib/python3.7/dist-packages/statsmodels/base/model.py:568: ConvergenceWarning: Maximum Likelihood optimization failed to converge. Check mle_retvals\n",
            "  ConvergenceWarning)\n"
          ],
          "name": "stderr"
        },
        {
          "output_type": "stream",
          "text": [
            "current=159, total=300\n"
          ],
          "name": "stdout"
        },
        {
          "output_type": "stream",
          "text": [
            "/usr/local/lib/python3.7/dist-packages/statsmodels/base/model.py:568: ConvergenceWarning: Maximum Likelihood optimization failed to converge. Check mle_retvals\n",
            "  ConvergenceWarning)\n"
          ],
          "name": "stderr"
        },
        {
          "output_type": "stream",
          "text": [
            "current=160, total=300\n"
          ],
          "name": "stdout"
        },
        {
          "output_type": "stream",
          "text": [
            "/usr/local/lib/python3.7/dist-packages/statsmodels/base/model.py:568: ConvergenceWarning: Maximum Likelihood optimization failed to converge. Check mle_retvals\n",
            "  ConvergenceWarning)\n"
          ],
          "name": "stderr"
        },
        {
          "output_type": "stream",
          "text": [
            "current=161, total=300\n"
          ],
          "name": "stdout"
        },
        {
          "output_type": "stream",
          "text": [
            "/usr/local/lib/python3.7/dist-packages/statsmodels/base/model.py:568: ConvergenceWarning: Maximum Likelihood optimization failed to converge. Check mle_retvals\n",
            "  ConvergenceWarning)\n"
          ],
          "name": "stderr"
        },
        {
          "output_type": "stream",
          "text": [
            "current=162, total=300\n"
          ],
          "name": "stdout"
        },
        {
          "output_type": "stream",
          "text": [
            "/usr/local/lib/python3.7/dist-packages/statsmodels/base/model.py:568: ConvergenceWarning: Maximum Likelihood optimization failed to converge. Check mle_retvals\n",
            "  ConvergenceWarning)\n"
          ],
          "name": "stderr"
        },
        {
          "output_type": "stream",
          "text": [
            "current=163, total=300\n"
          ],
          "name": "stdout"
        },
        {
          "output_type": "stream",
          "text": [
            "/usr/local/lib/python3.7/dist-packages/statsmodels/base/model.py:568: ConvergenceWarning: Maximum Likelihood optimization failed to converge. Check mle_retvals\n",
            "  ConvergenceWarning)\n"
          ],
          "name": "stderr"
        },
        {
          "output_type": "stream",
          "text": [
            "current=164, total=300\n"
          ],
          "name": "stdout"
        },
        {
          "output_type": "stream",
          "text": [
            "/usr/local/lib/python3.7/dist-packages/statsmodels/base/model.py:568: ConvergenceWarning: Maximum Likelihood optimization failed to converge. Check mle_retvals\n",
            "  ConvergenceWarning)\n"
          ],
          "name": "stderr"
        },
        {
          "output_type": "stream",
          "text": [
            "current=165, total=300\n"
          ],
          "name": "stdout"
        },
        {
          "output_type": "stream",
          "text": [
            "/usr/local/lib/python3.7/dist-packages/statsmodels/base/model.py:568: ConvergenceWarning: Maximum Likelihood optimization failed to converge. Check mle_retvals\n",
            "  ConvergenceWarning)\n"
          ],
          "name": "stderr"
        },
        {
          "output_type": "stream",
          "text": [
            "current=166, total=300\n"
          ],
          "name": "stdout"
        },
        {
          "output_type": "stream",
          "text": [
            "/usr/local/lib/python3.7/dist-packages/statsmodels/base/model.py:568: ConvergenceWarning: Maximum Likelihood optimization failed to converge. Check mle_retvals\n",
            "  ConvergenceWarning)\n"
          ],
          "name": "stderr"
        },
        {
          "output_type": "stream",
          "text": [
            "current=167, total=300\n"
          ],
          "name": "stdout"
        },
        {
          "output_type": "stream",
          "text": [
            "/usr/local/lib/python3.7/dist-packages/statsmodels/base/model.py:568: ConvergenceWarning: Maximum Likelihood optimization failed to converge. Check mle_retvals\n",
            "  ConvergenceWarning)\n"
          ],
          "name": "stderr"
        },
        {
          "output_type": "stream",
          "text": [
            "current=168, total=300\n"
          ],
          "name": "stdout"
        },
        {
          "output_type": "stream",
          "text": [
            "/usr/local/lib/python3.7/dist-packages/statsmodels/base/model.py:568: ConvergenceWarning: Maximum Likelihood optimization failed to converge. Check mle_retvals\n",
            "  ConvergenceWarning)\n"
          ],
          "name": "stderr"
        },
        {
          "output_type": "stream",
          "text": [
            "current=169, total=300\n"
          ],
          "name": "stdout"
        },
        {
          "output_type": "stream",
          "text": [
            "/usr/local/lib/python3.7/dist-packages/statsmodels/base/model.py:568: ConvergenceWarning: Maximum Likelihood optimization failed to converge. Check mle_retvals\n",
            "  ConvergenceWarning)\n"
          ],
          "name": "stderr"
        },
        {
          "output_type": "stream",
          "text": [
            "current=170, total=300\n"
          ],
          "name": "stdout"
        },
        {
          "output_type": "stream",
          "text": [
            "/usr/local/lib/python3.7/dist-packages/statsmodels/base/model.py:568: ConvergenceWarning: Maximum Likelihood optimization failed to converge. Check mle_retvals\n",
            "  ConvergenceWarning)\n"
          ],
          "name": "stderr"
        },
        {
          "output_type": "stream",
          "text": [
            "current=171, total=300\n"
          ],
          "name": "stdout"
        },
        {
          "output_type": "stream",
          "text": [
            "/usr/local/lib/python3.7/dist-packages/statsmodels/base/model.py:568: ConvergenceWarning: Maximum Likelihood optimization failed to converge. Check mle_retvals\n",
            "  ConvergenceWarning)\n"
          ],
          "name": "stderr"
        },
        {
          "output_type": "stream",
          "text": [
            "current=172, total=300\n"
          ],
          "name": "stdout"
        },
        {
          "output_type": "stream",
          "text": [
            "/usr/local/lib/python3.7/dist-packages/statsmodels/base/model.py:568: ConvergenceWarning: Maximum Likelihood optimization failed to converge. Check mle_retvals\n",
            "  ConvergenceWarning)\n"
          ],
          "name": "stderr"
        },
        {
          "output_type": "stream",
          "text": [
            "current=173, total=300\n"
          ],
          "name": "stdout"
        },
        {
          "output_type": "stream",
          "text": [
            "/usr/local/lib/python3.7/dist-packages/statsmodels/base/model.py:568: ConvergenceWarning: Maximum Likelihood optimization failed to converge. Check mle_retvals\n",
            "  ConvergenceWarning)\n"
          ],
          "name": "stderr"
        },
        {
          "output_type": "stream",
          "text": [
            "current=174, total=300\n"
          ],
          "name": "stdout"
        },
        {
          "output_type": "stream",
          "text": [
            "/usr/local/lib/python3.7/dist-packages/statsmodels/base/model.py:568: ConvergenceWarning: Maximum Likelihood optimization failed to converge. Check mle_retvals\n",
            "  ConvergenceWarning)\n"
          ],
          "name": "stderr"
        },
        {
          "output_type": "stream",
          "text": [
            "current=175, total=300\n"
          ],
          "name": "stdout"
        },
        {
          "output_type": "stream",
          "text": [
            "/usr/local/lib/python3.7/dist-packages/statsmodels/base/model.py:568: ConvergenceWarning: Maximum Likelihood optimization failed to converge. Check mle_retvals\n",
            "  ConvergenceWarning)\n"
          ],
          "name": "stderr"
        },
        {
          "output_type": "stream",
          "text": [
            "current=176, total=300\n",
            "current=177, total=300\n"
          ],
          "name": "stdout"
        },
        {
          "output_type": "stream",
          "text": [
            "/usr/local/lib/python3.7/dist-packages/statsmodels/base/model.py:568: ConvergenceWarning: Maximum Likelihood optimization failed to converge. Check mle_retvals\n",
            "  ConvergenceWarning)\n"
          ],
          "name": "stderr"
        },
        {
          "output_type": "stream",
          "text": [
            "current=178, total=300\n"
          ],
          "name": "stdout"
        },
        {
          "output_type": "stream",
          "text": [
            "/usr/local/lib/python3.7/dist-packages/statsmodels/base/model.py:568: ConvergenceWarning: Maximum Likelihood optimization failed to converge. Check mle_retvals\n",
            "  ConvergenceWarning)\n"
          ],
          "name": "stderr"
        },
        {
          "output_type": "stream",
          "text": [
            "current=179, total=300\n"
          ],
          "name": "stdout"
        },
        {
          "output_type": "stream",
          "text": [
            "/usr/local/lib/python3.7/dist-packages/statsmodels/base/model.py:568: ConvergenceWarning: Maximum Likelihood optimization failed to converge. Check mle_retvals\n",
            "  ConvergenceWarning)\n"
          ],
          "name": "stderr"
        },
        {
          "output_type": "stream",
          "text": [
            "current=180, total=300\n"
          ],
          "name": "stdout"
        },
        {
          "output_type": "stream",
          "text": [
            "/usr/local/lib/python3.7/dist-packages/statsmodels/base/model.py:568: ConvergenceWarning: Maximum Likelihood optimization failed to converge. Check mle_retvals\n",
            "  ConvergenceWarning)\n"
          ],
          "name": "stderr"
        },
        {
          "output_type": "stream",
          "text": [
            "current=181, total=300\n"
          ],
          "name": "stdout"
        },
        {
          "output_type": "stream",
          "text": [
            "/usr/local/lib/python3.7/dist-packages/statsmodels/base/model.py:568: ConvergenceWarning: Maximum Likelihood optimization failed to converge. Check mle_retvals\n",
            "  ConvergenceWarning)\n"
          ],
          "name": "stderr"
        },
        {
          "output_type": "stream",
          "text": [
            "current=182, total=300\n"
          ],
          "name": "stdout"
        },
        {
          "output_type": "stream",
          "text": [
            "/usr/local/lib/python3.7/dist-packages/statsmodels/base/model.py:568: ConvergenceWarning: Maximum Likelihood optimization failed to converge. Check mle_retvals\n",
            "  ConvergenceWarning)\n"
          ],
          "name": "stderr"
        },
        {
          "output_type": "stream",
          "text": [
            "current=183, total=300\n"
          ],
          "name": "stdout"
        },
        {
          "output_type": "stream",
          "text": [
            "/usr/local/lib/python3.7/dist-packages/statsmodels/base/model.py:568: ConvergenceWarning: Maximum Likelihood optimization failed to converge. Check mle_retvals\n",
            "  ConvergenceWarning)\n"
          ],
          "name": "stderr"
        },
        {
          "output_type": "stream",
          "text": [
            "current=184, total=300\n"
          ],
          "name": "stdout"
        },
        {
          "output_type": "stream",
          "text": [
            "/usr/local/lib/python3.7/dist-packages/statsmodels/base/model.py:568: ConvergenceWarning: Maximum Likelihood optimization failed to converge. Check mle_retvals\n",
            "  ConvergenceWarning)\n"
          ],
          "name": "stderr"
        },
        {
          "output_type": "stream",
          "text": [
            "current=185, total=300\n"
          ],
          "name": "stdout"
        },
        {
          "output_type": "stream",
          "text": [
            "/usr/local/lib/python3.7/dist-packages/statsmodels/base/model.py:568: ConvergenceWarning: Maximum Likelihood optimization failed to converge. Check mle_retvals\n",
            "  ConvergenceWarning)\n"
          ],
          "name": "stderr"
        },
        {
          "output_type": "stream",
          "text": [
            "current=186, total=300\n"
          ],
          "name": "stdout"
        },
        {
          "output_type": "stream",
          "text": [
            "/usr/local/lib/python3.7/dist-packages/statsmodels/base/model.py:568: ConvergenceWarning: Maximum Likelihood optimization failed to converge. Check mle_retvals\n",
            "  ConvergenceWarning)\n"
          ],
          "name": "stderr"
        },
        {
          "output_type": "stream",
          "text": [
            "current=187, total=300\n"
          ],
          "name": "stdout"
        },
        {
          "output_type": "stream",
          "text": [
            "/usr/local/lib/python3.7/dist-packages/statsmodels/base/model.py:568: ConvergenceWarning: Maximum Likelihood optimization failed to converge. Check mle_retvals\n",
            "  ConvergenceWarning)\n"
          ],
          "name": "stderr"
        },
        {
          "output_type": "stream",
          "text": [
            "current=188, total=300\n"
          ],
          "name": "stdout"
        },
        {
          "output_type": "stream",
          "text": [
            "/usr/local/lib/python3.7/dist-packages/statsmodels/base/model.py:568: ConvergenceWarning: Maximum Likelihood optimization failed to converge. Check mle_retvals\n",
            "  ConvergenceWarning)\n"
          ],
          "name": "stderr"
        },
        {
          "output_type": "stream",
          "text": [
            "current=189, total=300\n"
          ],
          "name": "stdout"
        },
        {
          "output_type": "stream",
          "text": [
            "/usr/local/lib/python3.7/dist-packages/statsmodels/base/model.py:568: ConvergenceWarning: Maximum Likelihood optimization failed to converge. Check mle_retvals\n",
            "  ConvergenceWarning)\n"
          ],
          "name": "stderr"
        },
        {
          "output_type": "stream",
          "text": [
            "current=190, total=300\n"
          ],
          "name": "stdout"
        },
        {
          "output_type": "stream",
          "text": [
            "/usr/local/lib/python3.7/dist-packages/statsmodels/base/model.py:568: ConvergenceWarning: Maximum Likelihood optimization failed to converge. Check mle_retvals\n",
            "  ConvergenceWarning)\n"
          ],
          "name": "stderr"
        },
        {
          "output_type": "stream",
          "text": [
            "current=191, total=300\n"
          ],
          "name": "stdout"
        },
        {
          "output_type": "stream",
          "text": [
            "/usr/local/lib/python3.7/dist-packages/statsmodels/base/model.py:568: ConvergenceWarning: Maximum Likelihood optimization failed to converge. Check mle_retvals\n",
            "  ConvergenceWarning)\n"
          ],
          "name": "stderr"
        },
        {
          "output_type": "stream",
          "text": [
            "current=192, total=300\n"
          ],
          "name": "stdout"
        },
        {
          "output_type": "stream",
          "text": [
            "/usr/local/lib/python3.7/dist-packages/statsmodels/base/model.py:568: ConvergenceWarning: Maximum Likelihood optimization failed to converge. Check mle_retvals\n",
            "  ConvergenceWarning)\n"
          ],
          "name": "stderr"
        },
        {
          "output_type": "stream",
          "text": [
            "current=193, total=300\n"
          ],
          "name": "stdout"
        },
        {
          "output_type": "stream",
          "text": [
            "/usr/local/lib/python3.7/dist-packages/statsmodels/base/model.py:568: ConvergenceWarning: Maximum Likelihood optimization failed to converge. Check mle_retvals\n",
            "  ConvergenceWarning)\n"
          ],
          "name": "stderr"
        },
        {
          "output_type": "stream",
          "text": [
            "current=194, total=300\n"
          ],
          "name": "stdout"
        },
        {
          "output_type": "stream",
          "text": [
            "/usr/local/lib/python3.7/dist-packages/statsmodels/base/model.py:568: ConvergenceWarning: Maximum Likelihood optimization failed to converge. Check mle_retvals\n",
            "  ConvergenceWarning)\n"
          ],
          "name": "stderr"
        },
        {
          "output_type": "stream",
          "text": [
            "current=195, total=300\n"
          ],
          "name": "stdout"
        },
        {
          "output_type": "stream",
          "text": [
            "/usr/local/lib/python3.7/dist-packages/statsmodels/base/model.py:568: ConvergenceWarning: Maximum Likelihood optimization failed to converge. Check mle_retvals\n",
            "  ConvergenceWarning)\n"
          ],
          "name": "stderr"
        },
        {
          "output_type": "stream",
          "text": [
            "current=196, total=300\n"
          ],
          "name": "stdout"
        },
        {
          "output_type": "stream",
          "text": [
            "/usr/local/lib/python3.7/dist-packages/statsmodels/base/model.py:568: ConvergenceWarning: Maximum Likelihood optimization failed to converge. Check mle_retvals\n",
            "  ConvergenceWarning)\n"
          ],
          "name": "stderr"
        },
        {
          "output_type": "stream",
          "text": [
            "current=197, total=300\n"
          ],
          "name": "stdout"
        },
        {
          "output_type": "stream",
          "text": [
            "/usr/local/lib/python3.7/dist-packages/statsmodels/base/model.py:568: ConvergenceWarning: Maximum Likelihood optimization failed to converge. Check mle_retvals\n",
            "  ConvergenceWarning)\n"
          ],
          "name": "stderr"
        },
        {
          "output_type": "stream",
          "text": [
            "current=198, total=300\n"
          ],
          "name": "stdout"
        },
        {
          "output_type": "stream",
          "text": [
            "/usr/local/lib/python3.7/dist-packages/statsmodels/base/model.py:568: ConvergenceWarning: Maximum Likelihood optimization failed to converge. Check mle_retvals\n",
            "  ConvergenceWarning)\n"
          ],
          "name": "stderr"
        },
        {
          "output_type": "stream",
          "text": [
            "current=199, total=300\n"
          ],
          "name": "stdout"
        },
        {
          "output_type": "stream",
          "text": [
            "/usr/local/lib/python3.7/dist-packages/statsmodels/base/model.py:568: ConvergenceWarning: Maximum Likelihood optimization failed to converge. Check mle_retvals\n",
            "  ConvergenceWarning)\n"
          ],
          "name": "stderr"
        },
        {
          "output_type": "stream",
          "text": [
            "current=200, total=300\n"
          ],
          "name": "stdout"
        },
        {
          "output_type": "stream",
          "text": [
            "/usr/local/lib/python3.7/dist-packages/statsmodels/base/model.py:568: ConvergenceWarning: Maximum Likelihood optimization failed to converge. Check mle_retvals\n",
            "  ConvergenceWarning)\n"
          ],
          "name": "stderr"
        },
        {
          "output_type": "stream",
          "text": [
            "current=201, total=300\n"
          ],
          "name": "stdout"
        },
        {
          "output_type": "stream",
          "text": [
            "/usr/local/lib/python3.7/dist-packages/statsmodels/base/model.py:568: ConvergenceWarning: Maximum Likelihood optimization failed to converge. Check mle_retvals\n",
            "  ConvergenceWarning)\n"
          ],
          "name": "stderr"
        },
        {
          "output_type": "stream",
          "text": [
            "current=202, total=300\n"
          ],
          "name": "stdout"
        },
        {
          "output_type": "stream",
          "text": [
            "/usr/local/lib/python3.7/dist-packages/statsmodels/base/model.py:568: ConvergenceWarning: Maximum Likelihood optimization failed to converge. Check mle_retvals\n",
            "  ConvergenceWarning)\n"
          ],
          "name": "stderr"
        },
        {
          "output_type": "stream",
          "text": [
            "current=203, total=300\n"
          ],
          "name": "stdout"
        },
        {
          "output_type": "stream",
          "text": [
            "/usr/local/lib/python3.7/dist-packages/statsmodels/base/model.py:568: ConvergenceWarning: Maximum Likelihood optimization failed to converge. Check mle_retvals\n",
            "  ConvergenceWarning)\n"
          ],
          "name": "stderr"
        },
        {
          "output_type": "stream",
          "text": [
            "current=204, total=300\n"
          ],
          "name": "stdout"
        },
        {
          "output_type": "stream",
          "text": [
            "/usr/local/lib/python3.7/dist-packages/statsmodels/base/model.py:568: ConvergenceWarning: Maximum Likelihood optimization failed to converge. Check mle_retvals\n",
            "  ConvergenceWarning)\n"
          ],
          "name": "stderr"
        },
        {
          "output_type": "stream",
          "text": [
            "current=205, total=300\n"
          ],
          "name": "stdout"
        },
        {
          "output_type": "stream",
          "text": [
            "/usr/local/lib/python3.7/dist-packages/statsmodels/base/model.py:568: ConvergenceWarning: Maximum Likelihood optimization failed to converge. Check mle_retvals\n",
            "  ConvergenceWarning)\n"
          ],
          "name": "stderr"
        },
        {
          "output_type": "stream",
          "text": [
            "current=206, total=300\n"
          ],
          "name": "stdout"
        },
        {
          "output_type": "stream",
          "text": [
            "/usr/local/lib/python3.7/dist-packages/statsmodels/base/model.py:568: ConvergenceWarning: Maximum Likelihood optimization failed to converge. Check mle_retvals\n",
            "  ConvergenceWarning)\n"
          ],
          "name": "stderr"
        },
        {
          "output_type": "stream",
          "text": [
            "current=207, total=300\n"
          ],
          "name": "stdout"
        },
        {
          "output_type": "stream",
          "text": [
            "/usr/local/lib/python3.7/dist-packages/statsmodels/base/model.py:568: ConvergenceWarning: Maximum Likelihood optimization failed to converge. Check mle_retvals\n",
            "  ConvergenceWarning)\n"
          ],
          "name": "stderr"
        },
        {
          "output_type": "stream",
          "text": [
            "current=208, total=300\n"
          ],
          "name": "stdout"
        },
        {
          "output_type": "stream",
          "text": [
            "/usr/local/lib/python3.7/dist-packages/statsmodels/base/model.py:568: ConvergenceWarning: Maximum Likelihood optimization failed to converge. Check mle_retvals\n",
            "  ConvergenceWarning)\n"
          ],
          "name": "stderr"
        },
        {
          "output_type": "stream",
          "text": [
            "current=209, total=300\n"
          ],
          "name": "stdout"
        },
        {
          "output_type": "stream",
          "text": [
            "/usr/local/lib/python3.7/dist-packages/statsmodels/base/model.py:568: ConvergenceWarning: Maximum Likelihood optimization failed to converge. Check mle_retvals\n",
            "  ConvergenceWarning)\n"
          ],
          "name": "stderr"
        },
        {
          "output_type": "stream",
          "text": [
            "current=210, total=300\n"
          ],
          "name": "stdout"
        },
        {
          "output_type": "stream",
          "text": [
            "/usr/local/lib/python3.7/dist-packages/statsmodels/base/model.py:568: ConvergenceWarning: Maximum Likelihood optimization failed to converge. Check mle_retvals\n",
            "  ConvergenceWarning)\n"
          ],
          "name": "stderr"
        },
        {
          "output_type": "stream",
          "text": [
            "current=211, total=300\n"
          ],
          "name": "stdout"
        },
        {
          "output_type": "stream",
          "text": [
            "/usr/local/lib/python3.7/dist-packages/statsmodels/base/model.py:568: ConvergenceWarning: Maximum Likelihood optimization failed to converge. Check mle_retvals\n",
            "  ConvergenceWarning)\n"
          ],
          "name": "stderr"
        },
        {
          "output_type": "stream",
          "text": [
            "current=212, total=300\n"
          ],
          "name": "stdout"
        },
        {
          "output_type": "stream",
          "text": [
            "/usr/local/lib/python3.7/dist-packages/statsmodels/base/model.py:568: ConvergenceWarning: Maximum Likelihood optimization failed to converge. Check mle_retvals\n",
            "  ConvergenceWarning)\n"
          ],
          "name": "stderr"
        },
        {
          "output_type": "stream",
          "text": [
            "current=213, total=300\n"
          ],
          "name": "stdout"
        },
        {
          "output_type": "stream",
          "text": [
            "/usr/local/lib/python3.7/dist-packages/statsmodels/base/model.py:568: ConvergenceWarning: Maximum Likelihood optimization failed to converge. Check mle_retvals\n",
            "  ConvergenceWarning)\n"
          ],
          "name": "stderr"
        },
        {
          "output_type": "stream",
          "text": [
            "current=214, total=300\n"
          ],
          "name": "stdout"
        },
        {
          "output_type": "stream",
          "text": [
            "/usr/local/lib/python3.7/dist-packages/statsmodels/base/model.py:568: ConvergenceWarning: Maximum Likelihood optimization failed to converge. Check mle_retvals\n",
            "  ConvergenceWarning)\n"
          ],
          "name": "stderr"
        },
        {
          "output_type": "stream",
          "text": [
            "current=215, total=300\n"
          ],
          "name": "stdout"
        },
        {
          "output_type": "stream",
          "text": [
            "/usr/local/lib/python3.7/dist-packages/statsmodels/base/model.py:568: ConvergenceWarning: Maximum Likelihood optimization failed to converge. Check mle_retvals\n",
            "  ConvergenceWarning)\n"
          ],
          "name": "stderr"
        },
        {
          "output_type": "stream",
          "text": [
            "current=216, total=300\n"
          ],
          "name": "stdout"
        },
        {
          "output_type": "stream",
          "text": [
            "/usr/local/lib/python3.7/dist-packages/statsmodels/base/model.py:568: ConvergenceWarning: Maximum Likelihood optimization failed to converge. Check mle_retvals\n",
            "  ConvergenceWarning)\n"
          ],
          "name": "stderr"
        },
        {
          "output_type": "stream",
          "text": [
            "current=217, total=300\n"
          ],
          "name": "stdout"
        },
        {
          "output_type": "stream",
          "text": [
            "/usr/local/lib/python3.7/dist-packages/statsmodels/base/model.py:568: ConvergenceWarning: Maximum Likelihood optimization failed to converge. Check mle_retvals\n",
            "  ConvergenceWarning)\n"
          ],
          "name": "stderr"
        },
        {
          "output_type": "stream",
          "text": [
            "current=218, total=300\n"
          ],
          "name": "stdout"
        },
        {
          "output_type": "stream",
          "text": [
            "/usr/local/lib/python3.7/dist-packages/statsmodels/base/model.py:568: ConvergenceWarning: Maximum Likelihood optimization failed to converge. Check mle_retvals\n",
            "  ConvergenceWarning)\n"
          ],
          "name": "stderr"
        },
        {
          "output_type": "stream",
          "text": [
            "current=219, total=300\n"
          ],
          "name": "stdout"
        },
        {
          "output_type": "stream",
          "text": [
            "/usr/local/lib/python3.7/dist-packages/statsmodels/base/model.py:568: ConvergenceWarning: Maximum Likelihood optimization failed to converge. Check mle_retvals\n",
            "  ConvergenceWarning)\n"
          ],
          "name": "stderr"
        },
        {
          "output_type": "stream",
          "text": [
            "current=220, total=300\n"
          ],
          "name": "stdout"
        },
        {
          "output_type": "stream",
          "text": [
            "/usr/local/lib/python3.7/dist-packages/statsmodels/base/model.py:568: ConvergenceWarning: Maximum Likelihood optimization failed to converge. Check mle_retvals\n",
            "  ConvergenceWarning)\n"
          ],
          "name": "stderr"
        },
        {
          "output_type": "stream",
          "text": [
            "current=221, total=300\n"
          ],
          "name": "stdout"
        },
        {
          "output_type": "stream",
          "text": [
            "/usr/local/lib/python3.7/dist-packages/statsmodels/base/model.py:568: ConvergenceWarning: Maximum Likelihood optimization failed to converge. Check mle_retvals\n",
            "  ConvergenceWarning)\n"
          ],
          "name": "stderr"
        },
        {
          "output_type": "stream",
          "text": [
            "current=222, total=300\n"
          ],
          "name": "stdout"
        },
        {
          "output_type": "stream",
          "text": [
            "/usr/local/lib/python3.7/dist-packages/statsmodels/base/model.py:568: ConvergenceWarning: Maximum Likelihood optimization failed to converge. Check mle_retvals\n",
            "  ConvergenceWarning)\n"
          ],
          "name": "stderr"
        },
        {
          "output_type": "stream",
          "text": [
            "current=223, total=300\n"
          ],
          "name": "stdout"
        },
        {
          "output_type": "stream",
          "text": [
            "/usr/local/lib/python3.7/dist-packages/statsmodels/base/model.py:568: ConvergenceWarning: Maximum Likelihood optimization failed to converge. Check mle_retvals\n",
            "  ConvergenceWarning)\n"
          ],
          "name": "stderr"
        },
        {
          "output_type": "stream",
          "text": [
            "current=224, total=300\n"
          ],
          "name": "stdout"
        },
        {
          "output_type": "stream",
          "text": [
            "/usr/local/lib/python3.7/dist-packages/statsmodels/base/model.py:568: ConvergenceWarning: Maximum Likelihood optimization failed to converge. Check mle_retvals\n",
            "  ConvergenceWarning)\n"
          ],
          "name": "stderr"
        },
        {
          "output_type": "stream",
          "text": [
            "current=225, total=300\n"
          ],
          "name": "stdout"
        },
        {
          "output_type": "stream",
          "text": [
            "/usr/local/lib/python3.7/dist-packages/statsmodels/base/model.py:568: ConvergenceWarning: Maximum Likelihood optimization failed to converge. Check mle_retvals\n",
            "  ConvergenceWarning)\n"
          ],
          "name": "stderr"
        },
        {
          "output_type": "stream",
          "text": [
            "current=226, total=300\n"
          ],
          "name": "stdout"
        },
        {
          "output_type": "stream",
          "text": [
            "/usr/local/lib/python3.7/dist-packages/statsmodels/base/model.py:568: ConvergenceWarning: Maximum Likelihood optimization failed to converge. Check mle_retvals\n",
            "  ConvergenceWarning)\n"
          ],
          "name": "stderr"
        },
        {
          "output_type": "stream",
          "text": [
            "current=227, total=300\n"
          ],
          "name": "stdout"
        },
        {
          "output_type": "stream",
          "text": [
            "/usr/local/lib/python3.7/dist-packages/statsmodels/base/model.py:568: ConvergenceWarning: Maximum Likelihood optimization failed to converge. Check mle_retvals\n",
            "  ConvergenceWarning)\n"
          ],
          "name": "stderr"
        },
        {
          "output_type": "stream",
          "text": [
            "current=228, total=300\n"
          ],
          "name": "stdout"
        },
        {
          "output_type": "stream",
          "text": [
            "/usr/local/lib/python3.7/dist-packages/statsmodels/base/model.py:568: ConvergenceWarning: Maximum Likelihood optimization failed to converge. Check mle_retvals\n",
            "  ConvergenceWarning)\n"
          ],
          "name": "stderr"
        },
        {
          "output_type": "stream",
          "text": [
            "current=229, total=300\n"
          ],
          "name": "stdout"
        },
        {
          "output_type": "stream",
          "text": [
            "/usr/local/lib/python3.7/dist-packages/statsmodels/base/model.py:568: ConvergenceWarning: Maximum Likelihood optimization failed to converge. Check mle_retvals\n",
            "  ConvergenceWarning)\n"
          ],
          "name": "stderr"
        },
        {
          "output_type": "stream",
          "text": [
            "current=230, total=300\n"
          ],
          "name": "stdout"
        },
        {
          "output_type": "stream",
          "text": [
            "/usr/local/lib/python3.7/dist-packages/statsmodels/base/model.py:568: ConvergenceWarning: Maximum Likelihood optimization failed to converge. Check mle_retvals\n",
            "  ConvergenceWarning)\n"
          ],
          "name": "stderr"
        },
        {
          "output_type": "stream",
          "text": [
            "current=231, total=300\n"
          ],
          "name": "stdout"
        },
        {
          "output_type": "stream",
          "text": [
            "/usr/local/lib/python3.7/dist-packages/statsmodels/base/model.py:568: ConvergenceWarning: Maximum Likelihood optimization failed to converge. Check mle_retvals\n",
            "  ConvergenceWarning)\n"
          ],
          "name": "stderr"
        },
        {
          "output_type": "stream",
          "text": [
            "current=232, total=300\n"
          ],
          "name": "stdout"
        },
        {
          "output_type": "stream",
          "text": [
            "/usr/local/lib/python3.7/dist-packages/statsmodels/base/model.py:568: ConvergenceWarning: Maximum Likelihood optimization failed to converge. Check mle_retvals\n",
            "  ConvergenceWarning)\n"
          ],
          "name": "stderr"
        },
        {
          "output_type": "stream",
          "text": [
            "current=233, total=300\n"
          ],
          "name": "stdout"
        },
        {
          "output_type": "stream",
          "text": [
            "/usr/local/lib/python3.7/dist-packages/statsmodels/base/model.py:568: ConvergenceWarning: Maximum Likelihood optimization failed to converge. Check mle_retvals\n",
            "  ConvergenceWarning)\n"
          ],
          "name": "stderr"
        },
        {
          "output_type": "stream",
          "text": [
            "current=234, total=300\n"
          ],
          "name": "stdout"
        },
        {
          "output_type": "stream",
          "text": [
            "/usr/local/lib/python3.7/dist-packages/statsmodels/base/model.py:568: ConvergenceWarning: Maximum Likelihood optimization failed to converge. Check mle_retvals\n",
            "  ConvergenceWarning)\n"
          ],
          "name": "stderr"
        },
        {
          "output_type": "stream",
          "text": [
            "current=235, total=300\n"
          ],
          "name": "stdout"
        },
        {
          "output_type": "stream",
          "text": [
            "/usr/local/lib/python3.7/dist-packages/statsmodels/base/model.py:568: ConvergenceWarning: Maximum Likelihood optimization failed to converge. Check mle_retvals\n",
            "  ConvergenceWarning)\n"
          ],
          "name": "stderr"
        },
        {
          "output_type": "stream",
          "text": [
            "current=236, total=300\n"
          ],
          "name": "stdout"
        },
        {
          "output_type": "stream",
          "text": [
            "/usr/local/lib/python3.7/dist-packages/statsmodels/base/model.py:568: ConvergenceWarning: Maximum Likelihood optimization failed to converge. Check mle_retvals\n",
            "  ConvergenceWarning)\n"
          ],
          "name": "stderr"
        },
        {
          "output_type": "stream",
          "text": [
            "current=237, total=300\n"
          ],
          "name": "stdout"
        },
        {
          "output_type": "stream",
          "text": [
            "/usr/local/lib/python3.7/dist-packages/statsmodels/base/model.py:568: ConvergenceWarning: Maximum Likelihood optimization failed to converge. Check mle_retvals\n",
            "  ConvergenceWarning)\n"
          ],
          "name": "stderr"
        },
        {
          "output_type": "stream",
          "text": [
            "current=238, total=300\n"
          ],
          "name": "stdout"
        },
        {
          "output_type": "stream",
          "text": [
            "/usr/local/lib/python3.7/dist-packages/statsmodels/base/model.py:568: ConvergenceWarning: Maximum Likelihood optimization failed to converge. Check mle_retvals\n",
            "  ConvergenceWarning)\n"
          ],
          "name": "stderr"
        },
        {
          "output_type": "stream",
          "text": [
            "current=239, total=300\n"
          ],
          "name": "stdout"
        },
        {
          "output_type": "stream",
          "text": [
            "/usr/local/lib/python3.7/dist-packages/statsmodels/base/model.py:568: ConvergenceWarning: Maximum Likelihood optimization failed to converge. Check mle_retvals\n",
            "  ConvergenceWarning)\n"
          ],
          "name": "stderr"
        },
        {
          "output_type": "stream",
          "text": [
            "current=240, total=300\n"
          ],
          "name": "stdout"
        },
        {
          "output_type": "stream",
          "text": [
            "/usr/local/lib/python3.7/dist-packages/statsmodels/base/model.py:568: ConvergenceWarning: Maximum Likelihood optimization failed to converge. Check mle_retvals\n",
            "  ConvergenceWarning)\n"
          ],
          "name": "stderr"
        },
        {
          "output_type": "stream",
          "text": [
            "current=241, total=300\n"
          ],
          "name": "stdout"
        },
        {
          "output_type": "stream",
          "text": [
            "/usr/local/lib/python3.7/dist-packages/statsmodels/base/model.py:568: ConvergenceWarning: Maximum Likelihood optimization failed to converge. Check mle_retvals\n",
            "  ConvergenceWarning)\n"
          ],
          "name": "stderr"
        },
        {
          "output_type": "stream",
          "text": [
            "current=242, total=300\n"
          ],
          "name": "stdout"
        },
        {
          "output_type": "stream",
          "text": [
            "/usr/local/lib/python3.7/dist-packages/statsmodels/base/model.py:568: ConvergenceWarning: Maximum Likelihood optimization failed to converge. Check mle_retvals\n",
            "  ConvergenceWarning)\n"
          ],
          "name": "stderr"
        },
        {
          "output_type": "stream",
          "text": [
            "current=243, total=300\n"
          ],
          "name": "stdout"
        },
        {
          "output_type": "stream",
          "text": [
            "/usr/local/lib/python3.7/dist-packages/statsmodels/base/model.py:568: ConvergenceWarning: Maximum Likelihood optimization failed to converge. Check mle_retvals\n",
            "  ConvergenceWarning)\n"
          ],
          "name": "stderr"
        },
        {
          "output_type": "stream",
          "text": [
            "current=244, total=300\n"
          ],
          "name": "stdout"
        },
        {
          "output_type": "stream",
          "text": [
            "/usr/local/lib/python3.7/dist-packages/statsmodels/base/model.py:568: ConvergenceWarning: Maximum Likelihood optimization failed to converge. Check mle_retvals\n",
            "  ConvergenceWarning)\n"
          ],
          "name": "stderr"
        },
        {
          "output_type": "stream",
          "text": [
            "current=245, total=300\n"
          ],
          "name": "stdout"
        },
        {
          "output_type": "stream",
          "text": [
            "/usr/local/lib/python3.7/dist-packages/statsmodels/base/model.py:568: ConvergenceWarning: Maximum Likelihood optimization failed to converge. Check mle_retvals\n",
            "  ConvergenceWarning)\n"
          ],
          "name": "stderr"
        },
        {
          "output_type": "stream",
          "text": [
            "current=246, total=300\n"
          ],
          "name": "stdout"
        },
        {
          "output_type": "stream",
          "text": [
            "/usr/local/lib/python3.7/dist-packages/statsmodels/base/model.py:568: ConvergenceWarning: Maximum Likelihood optimization failed to converge. Check mle_retvals\n",
            "  ConvergenceWarning)\n"
          ],
          "name": "stderr"
        },
        {
          "output_type": "stream",
          "text": [
            "current=247, total=300\n"
          ],
          "name": "stdout"
        },
        {
          "output_type": "stream",
          "text": [
            "/usr/local/lib/python3.7/dist-packages/statsmodels/base/model.py:568: ConvergenceWarning: Maximum Likelihood optimization failed to converge. Check mle_retvals\n",
            "  ConvergenceWarning)\n"
          ],
          "name": "stderr"
        },
        {
          "output_type": "stream",
          "text": [
            "current=248, total=300\n"
          ],
          "name": "stdout"
        },
        {
          "output_type": "stream",
          "text": [
            "/usr/local/lib/python3.7/dist-packages/statsmodels/base/model.py:568: ConvergenceWarning: Maximum Likelihood optimization failed to converge. Check mle_retvals\n",
            "  ConvergenceWarning)\n"
          ],
          "name": "stderr"
        },
        {
          "output_type": "stream",
          "text": [
            "current=249, total=300\n"
          ],
          "name": "stdout"
        },
        {
          "output_type": "stream",
          "text": [
            "/usr/local/lib/python3.7/dist-packages/statsmodels/base/model.py:568: ConvergenceWarning: Maximum Likelihood optimization failed to converge. Check mle_retvals\n",
            "  ConvergenceWarning)\n"
          ],
          "name": "stderr"
        },
        {
          "output_type": "stream",
          "text": [
            "current=250, total=300\n"
          ],
          "name": "stdout"
        },
        {
          "output_type": "stream",
          "text": [
            "/usr/local/lib/python3.7/dist-packages/statsmodels/base/model.py:568: ConvergenceWarning: Maximum Likelihood optimization failed to converge. Check mle_retvals\n",
            "  ConvergenceWarning)\n"
          ],
          "name": "stderr"
        },
        {
          "output_type": "stream",
          "text": [
            "current=251, total=300\n"
          ],
          "name": "stdout"
        },
        {
          "output_type": "stream",
          "text": [
            "/usr/local/lib/python3.7/dist-packages/statsmodels/base/model.py:568: ConvergenceWarning: Maximum Likelihood optimization failed to converge. Check mle_retvals\n",
            "  ConvergenceWarning)\n"
          ],
          "name": "stderr"
        },
        {
          "output_type": "stream",
          "text": [
            "current=252, total=300\n"
          ],
          "name": "stdout"
        },
        {
          "output_type": "stream",
          "text": [
            "/usr/local/lib/python3.7/dist-packages/statsmodels/base/model.py:568: ConvergenceWarning: Maximum Likelihood optimization failed to converge. Check mle_retvals\n",
            "  ConvergenceWarning)\n"
          ],
          "name": "stderr"
        },
        {
          "output_type": "stream",
          "text": [
            "current=253, total=300\n"
          ],
          "name": "stdout"
        },
        {
          "output_type": "stream",
          "text": [
            "/usr/local/lib/python3.7/dist-packages/statsmodels/base/model.py:568: ConvergenceWarning: Maximum Likelihood optimization failed to converge. Check mle_retvals\n",
            "  ConvergenceWarning)\n"
          ],
          "name": "stderr"
        },
        {
          "output_type": "stream",
          "text": [
            "current=254, total=300\n"
          ],
          "name": "stdout"
        },
        {
          "output_type": "stream",
          "text": [
            "/usr/local/lib/python3.7/dist-packages/statsmodels/base/model.py:568: ConvergenceWarning: Maximum Likelihood optimization failed to converge. Check mle_retvals\n",
            "  ConvergenceWarning)\n"
          ],
          "name": "stderr"
        },
        {
          "output_type": "stream",
          "text": [
            "current=255, total=300\n"
          ],
          "name": "stdout"
        },
        {
          "output_type": "stream",
          "text": [
            "/usr/local/lib/python3.7/dist-packages/statsmodels/base/model.py:568: ConvergenceWarning: Maximum Likelihood optimization failed to converge. Check mle_retvals\n",
            "  ConvergenceWarning)\n"
          ],
          "name": "stderr"
        },
        {
          "output_type": "stream",
          "text": [
            "current=256, total=300\n"
          ],
          "name": "stdout"
        },
        {
          "output_type": "stream",
          "text": [
            "/usr/local/lib/python3.7/dist-packages/statsmodels/base/model.py:568: ConvergenceWarning: Maximum Likelihood optimization failed to converge. Check mle_retvals\n",
            "  ConvergenceWarning)\n"
          ],
          "name": "stderr"
        },
        {
          "output_type": "stream",
          "text": [
            "current=257, total=300\n"
          ],
          "name": "stdout"
        },
        {
          "output_type": "stream",
          "text": [
            "/usr/local/lib/python3.7/dist-packages/statsmodels/base/model.py:568: ConvergenceWarning: Maximum Likelihood optimization failed to converge. Check mle_retvals\n",
            "  ConvergenceWarning)\n"
          ],
          "name": "stderr"
        },
        {
          "output_type": "stream",
          "text": [
            "current=258, total=300\n"
          ],
          "name": "stdout"
        },
        {
          "output_type": "stream",
          "text": [
            "/usr/local/lib/python3.7/dist-packages/statsmodels/base/model.py:568: ConvergenceWarning: Maximum Likelihood optimization failed to converge. Check mle_retvals\n",
            "  ConvergenceWarning)\n"
          ],
          "name": "stderr"
        },
        {
          "output_type": "stream",
          "text": [
            "current=259, total=300\n"
          ],
          "name": "stdout"
        },
        {
          "output_type": "stream",
          "text": [
            "/usr/local/lib/python3.7/dist-packages/statsmodels/base/model.py:568: ConvergenceWarning: Maximum Likelihood optimization failed to converge. Check mle_retvals\n",
            "  ConvergenceWarning)\n"
          ],
          "name": "stderr"
        },
        {
          "output_type": "stream",
          "text": [
            "current=260, total=300\n"
          ],
          "name": "stdout"
        },
        {
          "output_type": "stream",
          "text": [
            "/usr/local/lib/python3.7/dist-packages/statsmodels/base/model.py:568: ConvergenceWarning: Maximum Likelihood optimization failed to converge. Check mle_retvals\n",
            "  ConvergenceWarning)\n"
          ],
          "name": "stderr"
        },
        {
          "output_type": "stream",
          "text": [
            "current=261, total=300\n"
          ],
          "name": "stdout"
        },
        {
          "output_type": "stream",
          "text": [
            "/usr/local/lib/python3.7/dist-packages/statsmodels/base/model.py:568: ConvergenceWarning: Maximum Likelihood optimization failed to converge. Check mle_retvals\n",
            "  ConvergenceWarning)\n"
          ],
          "name": "stderr"
        },
        {
          "output_type": "stream",
          "text": [
            "current=262, total=300\n"
          ],
          "name": "stdout"
        },
        {
          "output_type": "stream",
          "text": [
            "/usr/local/lib/python3.7/dist-packages/statsmodels/base/model.py:568: ConvergenceWarning: Maximum Likelihood optimization failed to converge. Check mle_retvals\n",
            "  ConvergenceWarning)\n"
          ],
          "name": "stderr"
        },
        {
          "output_type": "stream",
          "text": [
            "current=263, total=300\n"
          ],
          "name": "stdout"
        },
        {
          "output_type": "stream",
          "text": [
            "/usr/local/lib/python3.7/dist-packages/statsmodels/base/model.py:568: ConvergenceWarning: Maximum Likelihood optimization failed to converge. Check mle_retvals\n",
            "  ConvergenceWarning)\n"
          ],
          "name": "stderr"
        },
        {
          "output_type": "stream",
          "text": [
            "current=264, total=300\n"
          ],
          "name": "stdout"
        },
        {
          "output_type": "stream",
          "text": [
            "/usr/local/lib/python3.7/dist-packages/statsmodels/base/model.py:568: ConvergenceWarning: Maximum Likelihood optimization failed to converge. Check mle_retvals\n",
            "  ConvergenceWarning)\n"
          ],
          "name": "stderr"
        },
        {
          "output_type": "stream",
          "text": [
            "current=265, total=300\n"
          ],
          "name": "stdout"
        },
        {
          "output_type": "stream",
          "text": [
            "/usr/local/lib/python3.7/dist-packages/statsmodels/base/model.py:568: ConvergenceWarning: Maximum Likelihood optimization failed to converge. Check mle_retvals\n",
            "  ConvergenceWarning)\n"
          ],
          "name": "stderr"
        },
        {
          "output_type": "stream",
          "text": [
            "current=266, total=300\n"
          ],
          "name": "stdout"
        },
        {
          "output_type": "stream",
          "text": [
            "/usr/local/lib/python3.7/dist-packages/statsmodels/base/model.py:568: ConvergenceWarning: Maximum Likelihood optimization failed to converge. Check mle_retvals\n",
            "  ConvergenceWarning)\n"
          ],
          "name": "stderr"
        },
        {
          "output_type": "stream",
          "text": [
            "current=267, total=300\n"
          ],
          "name": "stdout"
        },
        {
          "output_type": "stream",
          "text": [
            "/usr/local/lib/python3.7/dist-packages/statsmodels/base/model.py:568: ConvergenceWarning: Maximum Likelihood optimization failed to converge. Check mle_retvals\n",
            "  ConvergenceWarning)\n"
          ],
          "name": "stderr"
        },
        {
          "output_type": "stream",
          "text": [
            "current=268, total=300\n"
          ],
          "name": "stdout"
        },
        {
          "output_type": "stream",
          "text": [
            "/usr/local/lib/python3.7/dist-packages/statsmodels/base/model.py:568: ConvergenceWarning: Maximum Likelihood optimization failed to converge. Check mle_retvals\n",
            "  ConvergenceWarning)\n"
          ],
          "name": "stderr"
        },
        {
          "output_type": "stream",
          "text": [
            "current=269, total=300\n"
          ],
          "name": "stdout"
        },
        {
          "output_type": "stream",
          "text": [
            "/usr/local/lib/python3.7/dist-packages/statsmodels/base/model.py:568: ConvergenceWarning: Maximum Likelihood optimization failed to converge. Check mle_retvals\n",
            "  ConvergenceWarning)\n"
          ],
          "name": "stderr"
        },
        {
          "output_type": "stream",
          "text": [
            "current=270, total=300\n"
          ],
          "name": "stdout"
        },
        {
          "output_type": "stream",
          "text": [
            "/usr/local/lib/python3.7/dist-packages/statsmodels/base/model.py:568: ConvergenceWarning: Maximum Likelihood optimization failed to converge. Check mle_retvals\n",
            "  ConvergenceWarning)\n"
          ],
          "name": "stderr"
        },
        {
          "output_type": "stream",
          "text": [
            "current=271, total=300\n"
          ],
          "name": "stdout"
        },
        {
          "output_type": "stream",
          "text": [
            "/usr/local/lib/python3.7/dist-packages/statsmodels/base/model.py:568: ConvergenceWarning: Maximum Likelihood optimization failed to converge. Check mle_retvals\n",
            "  ConvergenceWarning)\n"
          ],
          "name": "stderr"
        },
        {
          "output_type": "stream",
          "text": [
            "current=272, total=300\n"
          ],
          "name": "stdout"
        },
        {
          "output_type": "stream",
          "text": [
            "/usr/local/lib/python3.7/dist-packages/statsmodels/base/model.py:568: ConvergenceWarning: Maximum Likelihood optimization failed to converge. Check mle_retvals\n",
            "  ConvergenceWarning)\n"
          ],
          "name": "stderr"
        },
        {
          "output_type": "stream",
          "text": [
            "current=273, total=300\n"
          ],
          "name": "stdout"
        },
        {
          "output_type": "stream",
          "text": [
            "/usr/local/lib/python3.7/dist-packages/statsmodels/base/model.py:568: ConvergenceWarning: Maximum Likelihood optimization failed to converge. Check mle_retvals\n",
            "  ConvergenceWarning)\n"
          ],
          "name": "stderr"
        },
        {
          "output_type": "stream",
          "text": [
            "current=274, total=300\n"
          ],
          "name": "stdout"
        },
        {
          "output_type": "stream",
          "text": [
            "/usr/local/lib/python3.7/dist-packages/statsmodels/base/model.py:568: ConvergenceWarning: Maximum Likelihood optimization failed to converge. Check mle_retvals\n",
            "  ConvergenceWarning)\n"
          ],
          "name": "stderr"
        },
        {
          "output_type": "stream",
          "text": [
            "current=275, total=300\n"
          ],
          "name": "stdout"
        },
        {
          "output_type": "stream",
          "text": [
            "/usr/local/lib/python3.7/dist-packages/statsmodels/base/model.py:568: ConvergenceWarning: Maximum Likelihood optimization failed to converge. Check mle_retvals\n",
            "  ConvergenceWarning)\n"
          ],
          "name": "stderr"
        },
        {
          "output_type": "stream",
          "text": [
            "current=276, total=300\n"
          ],
          "name": "stdout"
        },
        {
          "output_type": "stream",
          "text": [
            "/usr/local/lib/python3.7/dist-packages/statsmodels/base/model.py:568: ConvergenceWarning: Maximum Likelihood optimization failed to converge. Check mle_retvals\n",
            "  ConvergenceWarning)\n"
          ],
          "name": "stderr"
        },
        {
          "output_type": "stream",
          "text": [
            "current=277, total=300\n"
          ],
          "name": "stdout"
        },
        {
          "output_type": "stream",
          "text": [
            "/usr/local/lib/python3.7/dist-packages/statsmodels/base/model.py:568: ConvergenceWarning: Maximum Likelihood optimization failed to converge. Check mle_retvals\n",
            "  ConvergenceWarning)\n"
          ],
          "name": "stderr"
        },
        {
          "output_type": "stream",
          "text": [
            "current=278, total=300\n"
          ],
          "name": "stdout"
        },
        {
          "output_type": "stream",
          "text": [
            "/usr/local/lib/python3.7/dist-packages/statsmodels/base/model.py:568: ConvergenceWarning: Maximum Likelihood optimization failed to converge. Check mle_retvals\n",
            "  ConvergenceWarning)\n"
          ],
          "name": "stderr"
        },
        {
          "output_type": "stream",
          "text": [
            "current=279, total=300\n"
          ],
          "name": "stdout"
        },
        {
          "output_type": "stream",
          "text": [
            "/usr/local/lib/python3.7/dist-packages/statsmodels/base/model.py:568: ConvergenceWarning: Maximum Likelihood optimization failed to converge. Check mle_retvals\n",
            "  ConvergenceWarning)\n"
          ],
          "name": "stderr"
        },
        {
          "output_type": "stream",
          "text": [
            "current=280, total=300\n"
          ],
          "name": "stdout"
        },
        {
          "output_type": "stream",
          "text": [
            "/usr/local/lib/python3.7/dist-packages/statsmodels/base/model.py:568: ConvergenceWarning: Maximum Likelihood optimization failed to converge. Check mle_retvals\n",
            "  ConvergenceWarning)\n"
          ],
          "name": "stderr"
        },
        {
          "output_type": "stream",
          "text": [
            "current=281, total=300\n"
          ],
          "name": "stdout"
        },
        {
          "output_type": "stream",
          "text": [
            "/usr/local/lib/python3.7/dist-packages/statsmodels/base/model.py:568: ConvergenceWarning: Maximum Likelihood optimization failed to converge. Check mle_retvals\n",
            "  ConvergenceWarning)\n"
          ],
          "name": "stderr"
        },
        {
          "output_type": "stream",
          "text": [
            "current=282, total=300\n"
          ],
          "name": "stdout"
        },
        {
          "output_type": "stream",
          "text": [
            "/usr/local/lib/python3.7/dist-packages/statsmodels/base/model.py:568: ConvergenceWarning: Maximum Likelihood optimization failed to converge. Check mle_retvals\n",
            "  ConvergenceWarning)\n"
          ],
          "name": "stderr"
        },
        {
          "output_type": "stream",
          "text": [
            "current=283, total=300\n"
          ],
          "name": "stdout"
        },
        {
          "output_type": "stream",
          "text": [
            "/usr/local/lib/python3.7/dist-packages/statsmodels/base/model.py:568: ConvergenceWarning: Maximum Likelihood optimization failed to converge. Check mle_retvals\n",
            "  ConvergenceWarning)\n"
          ],
          "name": "stderr"
        },
        {
          "output_type": "stream",
          "text": [
            "current=284, total=300\n"
          ],
          "name": "stdout"
        },
        {
          "output_type": "stream",
          "text": [
            "/usr/local/lib/python3.7/dist-packages/statsmodels/base/model.py:568: ConvergenceWarning: Maximum Likelihood optimization failed to converge. Check mle_retvals\n",
            "  ConvergenceWarning)\n"
          ],
          "name": "stderr"
        },
        {
          "output_type": "stream",
          "text": [
            "current=285, total=300\n"
          ],
          "name": "stdout"
        },
        {
          "output_type": "stream",
          "text": [
            "/usr/local/lib/python3.7/dist-packages/statsmodels/base/model.py:568: ConvergenceWarning: Maximum Likelihood optimization failed to converge. Check mle_retvals\n",
            "  ConvergenceWarning)\n"
          ],
          "name": "stderr"
        },
        {
          "output_type": "stream",
          "text": [
            "current=286, total=300\n"
          ],
          "name": "stdout"
        },
        {
          "output_type": "stream",
          "text": [
            "/usr/local/lib/python3.7/dist-packages/statsmodels/base/model.py:568: ConvergenceWarning: Maximum Likelihood optimization failed to converge. Check mle_retvals\n",
            "  ConvergenceWarning)\n"
          ],
          "name": "stderr"
        },
        {
          "output_type": "stream",
          "text": [
            "current=287, total=300\n"
          ],
          "name": "stdout"
        },
        {
          "output_type": "stream",
          "text": [
            "/usr/local/lib/python3.7/dist-packages/statsmodels/base/model.py:568: ConvergenceWarning: Maximum Likelihood optimization failed to converge. Check mle_retvals\n",
            "  ConvergenceWarning)\n"
          ],
          "name": "stderr"
        },
        {
          "output_type": "stream",
          "text": [
            "current=288, total=300\n"
          ],
          "name": "stdout"
        },
        {
          "output_type": "stream",
          "text": [
            "/usr/local/lib/python3.7/dist-packages/statsmodels/base/model.py:568: ConvergenceWarning: Maximum Likelihood optimization failed to converge. Check mle_retvals\n",
            "  ConvergenceWarning)\n"
          ],
          "name": "stderr"
        },
        {
          "output_type": "stream",
          "text": [
            "current=289, total=300\n"
          ],
          "name": "stdout"
        },
        {
          "output_type": "stream",
          "text": [
            "/usr/local/lib/python3.7/dist-packages/statsmodels/base/model.py:568: ConvergenceWarning: Maximum Likelihood optimization failed to converge. Check mle_retvals\n",
            "  ConvergenceWarning)\n"
          ],
          "name": "stderr"
        },
        {
          "output_type": "stream",
          "text": [
            "current=290, total=300\n"
          ],
          "name": "stdout"
        },
        {
          "output_type": "stream",
          "text": [
            "/usr/local/lib/python3.7/dist-packages/statsmodels/base/model.py:568: ConvergenceWarning: Maximum Likelihood optimization failed to converge. Check mle_retvals\n",
            "  ConvergenceWarning)\n"
          ],
          "name": "stderr"
        },
        {
          "output_type": "stream",
          "text": [
            "current=291, total=300\n"
          ],
          "name": "stdout"
        },
        {
          "output_type": "stream",
          "text": [
            "/usr/local/lib/python3.7/dist-packages/statsmodels/base/model.py:568: ConvergenceWarning: Maximum Likelihood optimization failed to converge. Check mle_retvals\n",
            "  ConvergenceWarning)\n"
          ],
          "name": "stderr"
        },
        {
          "output_type": "stream",
          "text": [
            "current=292, total=300\n"
          ],
          "name": "stdout"
        },
        {
          "output_type": "stream",
          "text": [
            "/usr/local/lib/python3.7/dist-packages/statsmodels/base/model.py:568: ConvergenceWarning: Maximum Likelihood optimization failed to converge. Check mle_retvals\n",
            "  ConvergenceWarning)\n"
          ],
          "name": "stderr"
        },
        {
          "output_type": "stream",
          "text": [
            "current=293, total=300\n"
          ],
          "name": "stdout"
        },
        {
          "output_type": "stream",
          "text": [
            "/usr/local/lib/python3.7/dist-packages/statsmodels/base/model.py:568: ConvergenceWarning: Maximum Likelihood optimization failed to converge. Check mle_retvals\n",
            "  ConvergenceWarning)\n"
          ],
          "name": "stderr"
        },
        {
          "output_type": "stream",
          "text": [
            "current=294, total=300\n"
          ],
          "name": "stdout"
        },
        {
          "output_type": "stream",
          "text": [
            "/usr/local/lib/python3.7/dist-packages/statsmodels/base/model.py:568: ConvergenceWarning: Maximum Likelihood optimization failed to converge. Check mle_retvals\n",
            "  ConvergenceWarning)\n"
          ],
          "name": "stderr"
        },
        {
          "output_type": "stream",
          "text": [
            "current=295, total=300\n"
          ],
          "name": "stdout"
        },
        {
          "output_type": "stream",
          "text": [
            "/usr/local/lib/python3.7/dist-packages/statsmodels/base/model.py:568: ConvergenceWarning: Maximum Likelihood optimization failed to converge. Check mle_retvals\n",
            "  ConvergenceWarning)\n"
          ],
          "name": "stderr"
        },
        {
          "output_type": "stream",
          "text": [
            "current=296, total=300\n"
          ],
          "name": "stdout"
        },
        {
          "output_type": "stream",
          "text": [
            "/usr/local/lib/python3.7/dist-packages/statsmodels/base/model.py:568: ConvergenceWarning: Maximum Likelihood optimization failed to converge. Check mle_retvals\n",
            "  ConvergenceWarning)\n"
          ],
          "name": "stderr"
        },
        {
          "output_type": "stream",
          "text": [
            "current=297, total=300\n"
          ],
          "name": "stdout"
        },
        {
          "output_type": "stream",
          "text": [
            "/usr/local/lib/python3.7/dist-packages/statsmodels/base/model.py:568: ConvergenceWarning: Maximum Likelihood optimization failed to converge. Check mle_retvals\n",
            "  ConvergenceWarning)\n"
          ],
          "name": "stderr"
        },
        {
          "output_type": "stream",
          "text": [
            "current=298, total=300\n"
          ],
          "name": "stdout"
        },
        {
          "output_type": "stream",
          "text": [
            "/usr/local/lib/python3.7/dist-packages/statsmodels/base/model.py:568: ConvergenceWarning: Maximum Likelihood optimization failed to converge. Check mle_retvals\n",
            "  ConvergenceWarning)\n"
          ],
          "name": "stderr"
        },
        {
          "output_type": "stream",
          "text": [
            "current=299, total=300\n"
          ],
          "name": "stdout"
        },
        {
          "output_type": "stream",
          "text": [
            "/usr/local/lib/python3.7/dist-packages/statsmodels/base/model.py:568: ConvergenceWarning: Maximum Likelihood optimization failed to converge. Check mle_retvals\n",
            "  ConvergenceWarning)\n"
          ],
          "name": "stderr"
        },
        {
          "output_type": "stream",
          "text": [
            "current=300, total=300\n"
          ],
          "name": "stdout"
        },
        {
          "output_type": "stream",
          "text": [
            "/usr/local/lib/python3.7/dist-packages/statsmodels/base/model.py:568: ConvergenceWarning: Maximum Likelihood optimization failed to converge. Check mle_retvals\n",
            "  ConvergenceWarning)\n"
          ],
          "name": "stderr"
        },
        {
          "output_type": "stream",
          "text": [
            "MAE: 2721068.445697\n",
            "Test RMSE: 6883141.138\n"
          ],
          "name": "stdout"
        },
        {
          "output_type": "error",
          "ename": "NameError",
          "evalue": "ignored",
          "traceback": [
            "\u001b[0;31m---------------------------------------------------------------------------\u001b[0m",
            "\u001b[0;31mNameError\u001b[0m                                 Traceback (most recent call last)",
            "\u001b[0;32m<ipython-input-9-826a3bdcdad0>\u001b[0m in \u001b[0;36m<module>\u001b[0;34m()\u001b[0m\n\u001b[1;32m     39\u001b[0m \u001b[0mprint\u001b[0m\u001b[0;34m(\u001b[0m\u001b[0;34m'Test RMSE: %.3f'\u001b[0m \u001b[0;34m%\u001b[0m \u001b[0mrmse\u001b[0m\u001b[0;34m)\u001b[0m\u001b[0;34m\u001b[0m\u001b[0;34m\u001b[0m\u001b[0m\n\u001b[1;32m     40\u001b[0m \u001b[0;31m# plot forecasts against actual outcomes\u001b[0m\u001b[0;34m\u001b[0m\u001b[0;34m\u001b[0m\u001b[0;34m\u001b[0m\u001b[0m\n\u001b[0;32m---> 41\u001b[0;31m \u001b[0mpyplot\u001b[0m\u001b[0;34m.\u001b[0m\u001b[0mplot\u001b[0m\u001b[0;34m(\u001b[0m\u001b[0mtest\u001b[0m\u001b[0;34m)\u001b[0m\u001b[0;34m\u001b[0m\u001b[0;34m\u001b[0m\u001b[0m\n\u001b[0m\u001b[1;32m     42\u001b[0m \u001b[0mpyplot\u001b[0m\u001b[0;34m.\u001b[0m\u001b[0mplot\u001b[0m\u001b[0;34m(\u001b[0m\u001b[0mpredictions\u001b[0m\u001b[0;34m,\u001b[0m \u001b[0mcolor\u001b[0m\u001b[0;34m=\u001b[0m\u001b[0;34m'red'\u001b[0m\u001b[0;34m)\u001b[0m\u001b[0;34m\u001b[0m\u001b[0;34m\u001b[0m\u001b[0m\n\u001b[1;32m     43\u001b[0m \u001b[0mpyplot\u001b[0m\u001b[0;34m.\u001b[0m\u001b[0mshow\u001b[0m\u001b[0;34m(\u001b[0m\u001b[0;34m)\u001b[0m\u001b[0;34m\u001b[0m\u001b[0;34m\u001b[0m\u001b[0m\n",
            "\u001b[0;31mNameError\u001b[0m: name 'pyplot' is not defined"
          ]
        }
      ]
    },
    {
      "cell_type": "markdown",
      "metadata": {
        "id": "PoEHjj79RzJI"
      },
      "source": [
        "MAE: 1532661.203773\n",
        "Test RMSE: 3421488.956 / Model(5,1,3) / Train 0->0.1 / size = int(len(X) * 0.20)/\n",
        "train, test = X[0:size], X[-size:] / incoming_traffic\n",
        "\n",
        "![incoming_traffic2.png](data:image/png;base64,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)"
      ]
    },
    {
      "cell_type": "markdown",
      "metadata": {
        "id": "YKoxrGe2PKtJ"
      },
      "source": [
        "Test RMSE: 1250000.189 / Model(5,1,3) / Train 0->0.1 / Test 0->0.2 / incoming_traffic\n",
        "\n",
        "\n",
        "\n",
        "\n",
        "\n",
        "\n",
        "![total_traffic_0_1train_5_1_3.png](data:image/png;base64,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)"
      ]
    },
    {
      "cell_type": "markdown",
      "metadata": {
        "id": "G57PFQCWZB-S"
      },
      "source": [
        "Test RMSE: 23.149 Model(2,0,2) / Train 0->0.8 / Test 0.8->1 / number of requests\n",
        "\n",
        "![total_num_of_req_2_0_2-0_80train-0_20test.png](data:image/png;base64,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)"
      ]
    },
    {
      "cell_type": "markdown",
      "metadata": {
        "id": "J9WkIGPfPgqK"
      },
      "source": [
        "#**Performance Measures**"
      ]
    },
    {
      "cell_type": "code",
      "metadata": {
        "colab": {
          "base_uri": "https://localhost:8080/",
          "height": 225
        },
        "id": "vyEBUxwC000O",
        "outputId": "fb0b5d87-278e-4191-97fa-736502d5dfa2"
      },
      "source": [
        "df_total.head()"
      ],
      "execution_count": null,
      "outputs": [
        {
          "output_type": "execute_result",
          "data": {
            "text/html": [
              "<div>\n",
              "<style scoped>\n",
              "    .dataframe tbody tr th:only-of-type {\n",
              "        vertical-align: middle;\n",
              "    }\n",
              "\n",
              "    .dataframe tbody tr th {\n",
              "        vertical-align: top;\n",
              "    }\n",
              "\n",
              "    .dataframe thead th {\n",
              "        text-align: right;\n",
              "    }\n",
              "</style>\n",
              "<table border=\"1\" class=\"dataframe\">\n",
              "  <thead>\n",
              "    <tr style=\"text-align: right;\">\n",
              "      <th></th>\n",
              "      <th>day</th>\n",
              "      <th>incoming_traffic</th>\n",
              "      <th>traffic_generated</th>\n",
              "      <th>total_traffic</th>\n",
              "      <th>duration</th>\n",
              "      <th>number_of_requests</th>\n",
              "    </tr>\n",
              "    <tr>\n",
              "      <th>timestamp</th>\n",
              "      <th></th>\n",
              "      <th></th>\n",
              "      <th></th>\n",
              "      <th></th>\n",
              "      <th></th>\n",
              "      <th></th>\n",
              "    </tr>\n",
              "  </thead>\n",
              "  <tbody>\n",
              "    <tr>\n",
              "      <th>1</th>\n",
              "      <td>0</td>\n",
              "      <td>375746</td>\n",
              "      <td>18872</td>\n",
              "      <td>394618</td>\n",
              "      <td>3913</td>\n",
              "      <td>46</td>\n",
              "    </tr>\n",
              "    <tr>\n",
              "      <th>2</th>\n",
              "      <td>0</td>\n",
              "      <td>2230310</td>\n",
              "      <td>19154</td>\n",
              "      <td>2249464</td>\n",
              "      <td>4852</td>\n",
              "      <td>45</td>\n",
              "    </tr>\n",
              "    <tr>\n",
              "      <th>3</th>\n",
              "      <td>0</td>\n",
              "      <td>1502290</td>\n",
              "      <td>14626</td>\n",
              "      <td>1516916</td>\n",
              "      <td>5468</td>\n",
              "      <td>29</td>\n",
              "    </tr>\n",
              "    <tr>\n",
              "      <th>4</th>\n",
              "      <td>0</td>\n",
              "      <td>939169</td>\n",
              "      <td>22288</td>\n",
              "      <td>961457</td>\n",
              "      <td>73493</td>\n",
              "      <td>39</td>\n",
              "    </tr>\n",
              "    <tr>\n",
              "      <th>5</th>\n",
              "      <td>0</td>\n",
              "      <td>816971</td>\n",
              "      <td>17307</td>\n",
              "      <td>834278</td>\n",
              "      <td>4602</td>\n",
              "      <td>45</td>\n",
              "    </tr>\n",
              "  </tbody>\n",
              "</table>\n",
              "</div>"
            ],
            "text/plain": [
              "           day  incoming_traffic  ...  duration  number_of_requests\n",
              "timestamp                         ...                              \n",
              "1            0            375746  ...      3913                  46\n",
              "2            0           2230310  ...      4852                  45\n",
              "3            0           1502290  ...      5468                  29\n",
              "4            0            939169  ...     73493                  39\n",
              "5            0            816971  ...      4602                  45\n",
              "\n",
              "[5 rows x 6 columns]"
            ]
          },
          "metadata": {
            "tags": []
          },
          "execution_count": 39
        }
      ]
    },
    {
      "cell_type": "markdown",
      "metadata": {
        "id": "IAnG4mA4P617"
      },
      "source": [
        "**Mean Forecast Error**"
      ]
    },
    {
      "cell_type": "code",
      "metadata": {
        "colab": {
          "base_uri": "https://localhost:8080/",
          "height": 185
        },
        "id": "dBrO9wWjPfu5",
        "outputId": "5c3c6b18-a152-4b85-df41-916346ab428a"
      },
      "source": [
        "forecast_errors = [test[i]-predictions[i] for i in range(len(test))]\n",
        "print('Forecast Errors: %s' % forecast_errors)"
      ],
      "execution_count": null,
      "outputs": [
        {
          "output_type": "error",
          "ename": "NameError",
          "evalue": "ignored",
          "traceback": [
            "\u001b[0;31m---------------------------------------------------------------------------\u001b[0m",
            "\u001b[0;31mNameError\u001b[0m                                 Traceback (most recent call last)",
            "\u001b[0;32m<ipython-input-1-1007728fcec5>\u001b[0m in \u001b[0;36m<module>\u001b[0;34m()\u001b[0m\n\u001b[0;32m----> 1\u001b[0;31m \u001b[0mforecast_errors\u001b[0m \u001b[0;34m=\u001b[0m \u001b[0;34m[\u001b[0m\u001b[0mtest\u001b[0m\u001b[0;34m[\u001b[0m\u001b[0mi\u001b[0m\u001b[0;34m]\u001b[0m\u001b[0;34m-\u001b[0m\u001b[0mpredictions\u001b[0m\u001b[0;34m[\u001b[0m\u001b[0mi\u001b[0m\u001b[0;34m]\u001b[0m \u001b[0;32mfor\u001b[0m \u001b[0mi\u001b[0m \u001b[0;32min\u001b[0m \u001b[0mrange\u001b[0m\u001b[0;34m(\u001b[0m\u001b[0mlen\u001b[0m\u001b[0;34m(\u001b[0m\u001b[0mtest\u001b[0m\u001b[0;34m)\u001b[0m\u001b[0;34m)\u001b[0m\u001b[0;34m]\u001b[0m\u001b[0;34m\u001b[0m\u001b[0;34m\u001b[0m\u001b[0m\n\u001b[0m\u001b[1;32m      2\u001b[0m \u001b[0mprint\u001b[0m\u001b[0;34m(\u001b[0m\u001b[0;34m'Forecast Errors: %s'\u001b[0m \u001b[0;34m%\u001b[0m \u001b[0mforecast_errors\u001b[0m\u001b[0;34m)\u001b[0m\u001b[0;34m\u001b[0m\u001b[0;34m\u001b[0m\u001b[0m\n",
            "\u001b[0;31mNameError\u001b[0m: name 'test' is not defined"
          ]
        }
      ]
    },
    {
      "cell_type": "markdown",
      "metadata": {
        "id": "QXZD6l9ugT85"
      },
      "source": [
        "**Mean Absolute Error**"
      ]
    },
    {
      "cell_type": "code",
      "metadata": {
        "colab": {
          "base_uri": "https://localhost:8080/"
        },
        "id": "UgkqQaS9gWfS",
        "outputId": "3a474479-7550-44f0-b8a5-df6eb34bed6e"
      },
      "source": [
        "from sklearn.metrics import mean_absolute_error\n",
        "\n",
        "mae = mean_absolute_error(test, predictions)\n",
        "print('MAE: %f' % mae)"
      ],
      "execution_count": null,
      "outputs": [
        {
          "output_type": "stream",
          "text": [
            "MAE: 16.554297\n"
          ],
          "name": "stdout"
        }
      ]
    },
    {
      "cell_type": "markdown",
      "metadata": {
        "id": "o9VZhCHrPPWn"
      },
      "source": [
        "**Mean Squared Error**"
      ]
    },
    {
      "cell_type": "code",
      "metadata": {
        "id": "EN2JUgz5glzA",
        "colab": {
          "base_uri": "https://localhost:8080/"
        },
        "outputId": "fc3e9ea3-3ea2-4d55-b3e7-1c44d51b9ba4"
      },
      "source": [
        "from sklearn.metrics import mean_squared_error\n",
        "mse = mean_squared_error(test, predictions)\n",
        "print('MSE: %f' % mse)"
      ],
      "execution_count": null,
      "outputs": [
        {
          "output_type": "stream",
          "text": [
            "MSE: 538.200267\n"
          ],
          "name": "stdout"
        }
      ]
    },
    {
      "cell_type": "markdown",
      "metadata": {
        "id": "23tRZ0m5gtTI"
      },
      "source": [
        "**Root Mean Squared Error**"
      ]
    },
    {
      "cell_type": "code",
      "metadata": {
        "id": "fpIKGt3DguW-",
        "colab": {
          "base_uri": "https://localhost:8080/"
        },
        "outputId": "906b5a1c-f08f-48d1-b07d-6650bcb9de91"
      },
      "source": [
        "from sklearn.metrics import mean_squared_error\n",
        "from math import sqrt\n",
        "mse = mean_squared_error(test, predictions)\n",
        "rmse = sqrt(mse)\n",
        "print('RMSE: %f' % rmse)"
      ],
      "execution_count": null,
      "outputs": [
        {
          "output_type": "stream",
          "text": [
            "RMSE: 23.199144\n"
          ],
          "name": "stdout"
        }
      ]
    },
    {
      "cell_type": "markdown",
      "metadata": {
        "id": "TiZ1gKslmBqj"
      },
      "source": [
        "Για number_of_requests: Arima Model(2,0,2) / Train: 0.1*size / Test: 0.1*size\n",
        "\n",
        "**MAE: 16.210743**\n",
        "\n",
        "**MSE: 629.887160**\n",
        "\n",
        "**RMSE: 25.097553**"
      ]
    },
    {
      "cell_type": "markdown",
      "metadata": {
        "id": "kAEnA1ewr0HU"
      },
      "source": [
        "Για number_of_requests: Arima Model(2,0,2) / Train: 0.3*size / Test: 0.1size\n",
        "\n",
        "**MAE: 12.896953**\n",
        "\n",
        "**MSE: 368.653550**\n",
        "\n",
        "**RMSE: 19.200353**"
      ]
    },
    {
      "cell_type": "markdown",
      "metadata": {
        "id": "tjXpM1zEYibi"
      },
      "source": [
        "Για number_of_requests: Arima Model(2,0,2) / Train: 0.8*size / Test: 0.2*size\n",
        "\n",
        "**MAE: 16.493850**\n",
        "\n",
        "**MSE: 535.880850**\n",
        "\n",
        "**RMSE: 23.149100**"
      ]
    },
    {
      "cell_type": "markdown",
      "metadata": {
        "id": "9W10Neg74rBb"
      },
      "source": [
        "Για number_of_requests: Arima Model(2,1,2) / Train: 0.8*size / Test: 0.2*size\n",
        "\n",
        "**MAE: 16.554297**\n",
        "\n",
        "**MSE: 538.200267**\n",
        "\n",
        "**RMSE: 23.199144**"
      ]
    },
    {
      "cell_type": "markdown",
      "metadata": {
        "id": "OPLGXXhmjy45"
      },
      "source": [
        "Για number_of_requests: Arima Model(2,0,2) / Train: 0.66*size / Test: 0.34*size\n",
        "\n",
        "**MAE: ?**\n",
        "\n",
        "**MSE: ?**\n",
        "\n",
        "**RMSE: 22.867**\n",
        "\n"
      ]
    },
    {
      "cell_type": "code",
      "metadata": {
        "colab": {
          "base_uri": "https://localhost:8080/",
          "height": 501
        },
        "id": "k3LdII9LSl-u",
        "outputId": "c3fdda86-1a9e-46d1-8749-234d3f319434"
      },
      "source": [
        "import statsmodels.api as sm\n",
        "\n",
        "fig = plt.figure(figsize=(12,8))\n",
        "ax1 = fig.add_subplot(211)\n",
        "fig = sm.graphics.tsa.plot_acf(df_total.number_of_requests.values.squeeze(), lags=40, ax=ax1)\n",
        "ax2 = fig.add_subplot(212)\n",
        "fig = sm.graphics.tsa.plot_pacf(df_total.number_of_requests, lags=40, ax=ax2)"
      ],
      "execution_count": null,
      "outputs": [
        {
          "output_type": "display_data",
          "data": {
            "image/png": "[encoded data removed]",
            "text/plain": [
              "<Figure size 864x576 with 2 Axes>"
            ]
          },
          "metadata": {
            "tags": [],
            "needs_background": "light"
          }
        }
      ]
    },
    {
      "cell_type": "code",
      "metadata": {
        "id": "7vf3vqW9fSPH"
      },
      "source": [
        "from sklearn.metrics import mean_squared_error\n",
        "from math import sqrt"
      ],
      "execution_count": null,
      "outputs": []
    },
    {
      "cell_type": "code",
      "metadata": {
        "id": "xXtLZijAq8wk",
        "colab": {
          "base_uri": "https://localhost:8080/"
        },
        "outputId": "984dff6b-5171-4bb4-dbe1-114908183128"
      },
      "source": [
        "# To install the library\n",
        "!pip install pmdarima"
      ],
      "execution_count": null,
      "outputs": [
        {
          "output_type": "stream",
          "text": [
            "Requirement already satisfied: pmdarima in /usr/local/lib/python3.7/dist-packages (1.8.2)\n",
            "Requirement already satisfied: setuptools!=50.0.0,>=38.6.0 in /usr/local/lib/python3.7/dist-packages (from pmdarima) (56.1.0)\n",
            "Requirement already satisfied: pandas>=0.19 in /usr/local/lib/python3.7/dist-packages (from pmdarima) (1.1.5)\n",
            "Requirement already satisfied: scikit-learn>=0.22 in /usr/local/lib/python3.7/dist-packages (from pmdarima) (0.22.2.post1)\n",
            "Requirement already satisfied: numpy~=1.19.0 in /usr/local/lib/python3.7/dist-packages (from pmdarima) (1.19.5)\n",
            "Requirement already satisfied: joblib>=0.11 in /usr/local/lib/python3.7/dist-packages (from pmdarima) (1.0.1)\n",
            "Requirement already satisfied: scipy>=1.3.2 in /usr/local/lib/python3.7/dist-packages (from pmdarima) (1.4.1)\n",
            "Requirement already satisfied: Cython!=0.29.18,>=0.29 in /usr/local/lib/python3.7/dist-packages (from pmdarima) (0.29.23)\n",
            "Requirement already satisfied: statsmodels!=0.12.0,>=0.11 in /usr/local/lib/python3.7/dist-packages (from pmdarima) (0.12.2)\n",
            "Requirement already satisfied: urllib3 in /usr/local/lib/python3.7/dist-packages (from pmdarima) (1.24.3)\n",
            "Requirement already satisfied: python-dateutil>=2.7.3 in /usr/local/lib/python3.7/dist-packages (from pandas>=0.19->pmdarima) (2.8.1)\n",
            "Requirement already satisfied: pytz>=2017.2 in /usr/local/lib/python3.7/dist-packages (from pandas>=0.19->pmdarima) (2018.9)\n",
            "Requirement already satisfied: patsy>=0.5 in /usr/local/lib/python3.7/dist-packages (from statsmodels!=0.12.0,>=0.11->pmdarima) (0.5.1)\n",
            "Requirement already satisfied: six>=1.5 in /usr/local/lib/python3.7/dist-packages (from python-dateutil>=2.7.3->pandas>=0.19->pmdarima) (1.15.0)\n"
          ],
          "name": "stdout"
        }
      ]
    },
    {
      "cell_type": "code",
      "metadata": {
        "id": "iHGBKdYCojhS",
        "colab": {
          "base_uri": "https://localhost:8080/",
          "height": 544
        },
        "outputId": "a6d393ad-5e9b-44f1-d195-9efea85a8f5c"
      },
      "source": [
        "# Import the library\n",
        "from pmdarima import auto_arima\n",
        "  \n",
        "# Ignore harmless warnings\n",
        "import warnings\n",
        "warnings.filterwarnings(\"ignore\")\n",
        "  \n",
        "# Fit auto_arima function to AirPassengers dataset\n",
        "stepwise_fit = auto_arima(df_total['duration'], start_p = 1, start_q = 1,\n",
        "                          max_p = 3, max_q = 3, \n",
        "                          start_P = 0, seasonal = True,\n",
        "                          d = None, D = 1, trace = True,\n",
        "                          error_action ='ignore',   # we don't want to know if an order does not work\n",
        "                          suppress_warnings = True,  # we don't want convergence warnings\n",
        "                          stepwise = True)           # set to stepwis\n",
        "  \n",
        "# To print the summary\n",
        "stepwise_fit.summary()"
      ],
      "execution_count": null,
      "outputs": [
        {
          "output_type": "stream",
          "text": [
            "Performing stepwise search to minimize aic\n",
            " ARIMA(1,0,1)(0,0,0)[0] intercept   : AIC=235986.505, Time=1.85 sec\n",
            " ARIMA(0,0,0)(0,0,0)[0] intercept   : AIC=235982.514, Time=0.18 sec\n",
            " ARIMA(1,0,0)(0,0,0)[0] intercept   : AIC=235984.503, Time=0.23 sec\n",
            " ARIMA(0,0,1)(0,0,0)[0] intercept   : AIC=235984.504, Time=0.35 sec\n",
            " ARIMA(0,0,0)(0,0,0)[0]             : AIC=236022.992, Time=0.12 sec\n",
            "\n",
            "Best model:  ARIMA(0,0,0)(0,0,0)[0] intercept\n",
            "Total fit time: 2.742 seconds\n"
          ],
          "name": "stdout"
        },
        {
          "output_type": "execute_result",
          "data": {
            "text/html": [
              "<table class=\"simpletable\">\n",
              "<caption>SARIMAX Results</caption>\n",
              "<tr>\n",
              "  <th>Dep. Variable:</th>           <td>y</td>        <th>  No. Observations:  </th>    <td>8418</td>    \n",
              "</tr>\n",
              "<tr>\n",
              "  <th>Model:</th>                <td>SARIMAX</td>     <th>  Log Likelihood     </th> <td>-117989.257</td>\n",
              "</tr>\n",
              "<tr>\n",
              "  <th>Date:</th>            <td>Sat, 15 May 2021</td> <th>  AIC                </th> <td>235982.514</td> \n",
              "</tr>\n",
              "<tr>\n",
              "  <th>Time:</th>                <td>01:30:20</td>     <th>  BIC                </th> <td>235996.591</td> \n",
              "</tr>\n",
              "<tr>\n",
              "  <th>Sample:</th>                  <td>0</td>        <th>  HQIC               </th> <td>235987.320</td> \n",
              "</tr>\n",
              "<tr>\n",
              "  <th></th>                      <td> - 8418</td>     <th>                     </th>      <td> </td>     \n",
              "</tr>\n",
              "<tr>\n",
              "  <th>Covariance Type:</th>        <td>opg</td>       <th>                     </th>      <td> </td>     \n",
              "</tr>\n",
              "</table>\n",
              "<table class=\"simpletable\">\n",
              "<tr>\n",
              "      <td></td>         <th>coef</th>     <th>std err</th>      <th>z</th>      <th>P>|z|</th>  <th>[0.025</th>    <th>0.975]</th>  \n",
              "</tr>\n",
              "<tr>\n",
              "  <th>intercept</th> <td> 2.104e+04</td> <td> 1.25e+04</td> <td>    1.677</td> <td> 0.093</td> <td>-3545.180</td> <td> 4.56e+04</td>\n",
              "</tr>\n",
              "<tr>\n",
              "  <th>sigma2</th>    <td> 8.749e+10</td> <td>  8.7e+07</td> <td> 1005.420</td> <td> 0.000</td> <td> 8.73e+10</td> <td> 8.77e+10</td>\n",
              "</tr>\n",
              "</table>\n",
              "<table class=\"simpletable\">\n",
              "<tr>\n",
              "  <th>Ljung-Box (L1) (Q):</th>     <td>0.01</td> <th>  Jarque-Bera (JB):  </th> <td>18541010246.54</td>\n",
              "</tr>\n",
              "<tr>\n",
              "  <th>Prob(Q):</th>                <td>0.92</td> <th>  Prob(JB):          </th>      <td>0.00</td>     \n",
              "</tr>\n",
              "<tr>\n",
              "  <th>Heteroskedasticity (H):</th> <td>0.34</td> <th>  Skew:              </th>      <td>82.40</td>    \n",
              "</tr>\n",
              "<tr>\n",
              "  <th>Prob(H) (two-sided):</th>    <td>0.00</td> <th>  Kurtosis:          </th>     <td>7271.69</td>   \n",
              "</tr>\n",
              "</table><br/><br/>Warnings:<br/>[1] Covariance matrix calculated using the outer product of gradients (complex-step)."
            ],
            "text/plain": [
              "<class 'statsmodels.iolib.summary.Summary'>\n",
              "\"\"\"\n",
              "                               SARIMAX Results                                \n",
              "==============================================================================\n",
              "Dep. Variable:                      y   No. Observations:                 8418\n",
              "Model:                        SARIMAX   Log Likelihood             -117989.257\n",
              "Date:                Sat, 15 May 2021   AIC                         235982.514\n",
              "Time:                        01:30:20   BIC                         235996.591\n",
              "Sample:                             0   HQIC                        235987.320\n",
              "                               - 8418                                         \n",
              "Covariance Type:                  opg                                         \n",
              "==============================================================================\n",
              "                 coef    std err          z      P>|z|      [0.025      0.975]\n",
              "------------------------------------------------------------------------------\n",
              "intercept   2.104e+04   1.25e+04      1.677      0.093   -3545.180    4.56e+04\n",
              "sigma2      8.749e+10    8.7e+07   1005.420      0.000    8.73e+10    8.77e+10\n",
              "===================================================================================\n",
              "Ljung-Box (L1) (Q):                   0.01   Jarque-Bera (JB):       18541010246.54\n",
              "Prob(Q):                              0.92   Prob(JB):                         0.00\n",
              "Heteroskedasticity (H):               0.34   Skew:                            82.40\n",
              "Prob(H) (two-sided):                  0.00   Kurtosis:                      7271.69\n",
              "===================================================================================\n",
              "\n",
              "Warnings:\n",
              "[1] Covariance matrix calculated using the outer product of gradients (complex-step).\n",
              "\"\"\""
            ]
          },
          "metadata": {
            "tags": []
          },
          "execution_count": 37
        }
      ]
    },
    {
      "cell_type": "code",
      "metadata": {
        "id": "R2asYRDmo-2J"
      },
      "source": [
        "# Split data into train / test sets\n",
        "#train = df_total.iloc[:len(df_total)-355]\n",
        "#test = df_total.iloc[len(df_total)-355:] # set one year(12 months) for testing\n",
        "\n",
        "train = df_total.iloc[:288*2]\n",
        "test = df_total.iloc[288*2:288*3] # set one year(12 months) for testing\n",
        "  \n",
        "# Fit a SARIMAX(0, 1, 1)x(2, 1, 1, 12) on the training set\n",
        "from statsmodels.tsa.statespace.sarimax import SARIMAX\n",
        "  \n",
        "model = SARIMAX(train['incoming_traffic'], \n",
        "                order = (3, 1, 3) \n",
        "                )\n",
        "  \n",
        "result = model.fit()\n",
        "result.summary()"
      ],
      "execution_count": null,
      "outputs": []
    },
    {
      "cell_type": "code",
      "metadata": {
        "id": "b2H3BkFXwNzv"
      },
      "source": [
        "start = len(train)\n",
        "end = len(train) + len(test) - 1\n",
        "  \n",
        "# Predictions for one-year against the test set\n",
        "predictions = result.predict(start, end,\n",
        "                             typ = 'levels').rename(\"Predictions\")\n",
        "  \n",
        "# plot predictions and actual values\n",
        "predictions.plot(legend = True)\n",
        "test['incoming_traffic'].plot(legend = True)"
      ],
      "execution_count": null,
      "outputs": []
    },
    {
      "cell_type": "code",
      "metadata": {
        "id": "Jhsr5nO6R1Vr"
      },
      "source": [
        "print(predictions)"
      ],
      "execution_count": null,
      "outputs": []
    },
    {
      "cell_type": "code",
      "metadata": {
        "id": "ppoavLeNwviD"
      },
      "source": [
        "# Load specific evaluation tools\n",
        "from sklearn.metrics import mean_squared_error\n",
        "from statsmodels.tools.eval_measures import rmse\n",
        "  \n",
        "# Calculate root mean squared error\n",
        "rmse(test[\"incoming_traffic\"], predictions)\n",
        "  \n",
        "# Calculate mean squared error\n",
        "mean_squared_error(test[\"incoming_traffic\"], predictions)"
      ],
      "execution_count": null,
      "outputs": []
    },
    {
      "cell_type": "code",
      "metadata": {
        "id": "fOnmvlnpw_IL"
      },
      "source": [
        "# Train the model on the full dataset\n",
        "model = model = SARIMAX(df_total['incoming_traffic'], \n",
        "                        order = (3, 1, 3), \n",
        "                        seasonal_order =(2, 1, 1, 288))\n",
        "result = model.fit()\n",
        "  \n",
        "# Forecast for the next 3 years\n",
        "forecast = result.predict(start = len(df_total), \n",
        "                          end = (len(df_total)-1) + 3 * 12, \n",
        "                          typ = 'levels').rename('Forecast')\n",
        "  \n",
        "# Plot the forecast values\n",
        "df_total['incoming_traffic'].plot(figsize = (12, 5), legend = True)\n",
        "forecast.plot(legend = True)"
      ],
      "execution_count": null,
      "outputs": []
    },
    {
      "cell_type": "code",
      "metadata": {
        "id": "3Pvb0hHXxbAS"
      },
      "source": [
        "dataframe_dayCollection = {} \n",
        "\n",
        "node_column = df_total[\"day\"]\n",
        "number_of_days = node_column.max()\n",
        "\n",
        "for day in range(number_of_days): \n",
        "  dataframe_dayCollection[day] = df_total.loc[(df_total.day == day) , ['incoming_traffic']]"
      ],
      "execution_count": null,
      "outputs": []
    }
  ]
}